{
 "cells": [
  {
   "cell_type": "markdown",
   "metadata": {
    "id": "Gt4gLfmxs8qi"
   },
   "source": [
    "# INFORMAZIONI SUL SET DI DATI\n",
    "\n",
    "Dichiarazione problema:\n",
    "Una grande azienda denominata XYZ impiega, in un dato momento, circa 4000 dipendenti.\n",
    "Tuttavia, ogni anno, circa il 15% dei suoi dipendenti lascia l'azienda e deve essere sostituito con il pool di talenti\n",
    "disponibile nel mercato del lavoro. Il management ritiene che questo livello di logoramento\n",
    "(dipendenti che se ne vanno, da soli o perché sono stati licenziati) sia negativo per l'azienda, per i seguenti motivi:\n",
    "\n",
    " 1 - I progetti degli ex dipendenti vengono ritardati, il che rende difficile rispettare le scadenze, con conseguente perdita di reputazione tra consumatori e partner;\n",
    "\n",
    " 2 - Occorre mantenere un reparto consistente, ai fini del reclutamento di nuovi talenti;\n",
    "\n",
    " 3 - Il più delle volte, i nuovi dipendenti devono essere formati per il lavoro e/o avere il tempo di ambientarsi in azienda.\n",
    "\n",
    "Pertanto, la direzione ha incaricato una società di analisi delle risorse umane\n",
    "per capire su quali fattori dovrebbero concentrarsi, al fine di frenare l'attrito.\n",
    "In altre parole, vogliono sapere quali cambiamenti dovrebbero apportare al loro posto di lavoro, al fine di convincere\n",
    "la maggior parte dei loro dipendenti a restare.\n",
    "Inoltre, vogliono sapere quale di queste variabili è più importante e deve essere affrontata immediatamente.\n",
    "\n",
    "Obiettivo del caso di studio\n",
    "\n",
    "È necessario modellare la probabilità di logoramento utilizzando una regressione logistica.\n",
    "I risultati così ottenuti serviranno al management per capire quali cambiamenti dovrebbero apportare\n",
    "al proprio posto di lavoro, al fine di far rimanere la maggior parte dei propri dipendenti."
   ]
  },
  {
   "cell_type": "markdown",
   "metadata": {
    "id": "NFdqo5WKs8qm"
   },
   "source": [
    "# Importazione e unione dei dati"
   ]
  },
  {
   "cell_type": "code",
   "execution_count": 1,
   "metadata": {
    "executionInfo": {
     "elapsed": 266,
     "status": "ok",
     "timestamp": 1728749517844,
     "user": {
      "displayName": "Umberto Romagnolo",
      "userId": "14928952592276304637"
     },
     "user_tz": -120
    },
    "id": "VNebZjs1s8qn"
   },
   "outputs": [],
   "source": [
    "# Soppressione Warnings\n",
    "import warnings\n",
    "warnings.filterwarnings('ignore')"
   ]
  },
  {
   "cell_type": "code",
   "execution_count": 2,
   "metadata": {
    "executionInfo": {
     "elapsed": 2000,
     "status": "ok",
     "timestamp": 1728749521907,
     "user": {
      "displayName": "Umberto Romagnolo",
      "userId": "14928952592276304637"
     },
     "user_tz": -120
    },
    "id": "5Mn5ISf6s8qp"
   },
   "outputs": [],
   "source": [
    "# Import librerie Pandas, NumPy, Seaborn e Matplot\n",
    "import pandas as pd, numpy as np, seaborn as sns, matplotlib.pyplot as plt, datetime as datetime, re as re, scipy.stats as stats"
   ]
  },
  {
   "cell_type": "code",
   "execution_count": 3,
   "metadata": {
    "executionInfo": {
     "elapsed": 1182,
     "status": "ok",
     "timestamp": 1728749523088,
     "user": {
      "displayName": "Umberto Romagnolo",
      "userId": "14928952592276304637"
     },
     "user_tz": -120
    },
    "id": "Z7NYWS0Cs8qq"
   },
   "outputs": [],
   "source": [
    "import itertools\n",
    "import pandas as pd\n",
    "import statsmodels.api as sm\n",
    "from statsmodels.formula.api import ols"
   ]
  },
  {
   "cell_type": "code",
   "execution_count": 4,
   "metadata": {
    "executionInfo": {
     "elapsed": 2,
     "status": "ok",
     "timestamp": 1728749523088,
     "user": {
      "displayName": "Umberto Romagnolo",
      "userId": "14928952592276304637"
     },
     "user_tz": -120
    },
    "id": "5x8sQckFs8qr"
   },
   "outputs": [],
   "source": [
    "pd.set_option('display.max_columns', None)"
   ]
  },
  {
   "cell_type": "code",
   "execution_count": 5,
   "metadata": {
    "id": "1mdRl72ds8qr"
   },
   "outputs": [],
   "source": [
    "# Lettura tabelle\n",
    "ingresso = pd.read_csv('in_time.csv') #orario di ingresso dei dipendenti\n",
    "uscita = pd.read_csv('out_time.csv') #orario di uscita dei dipendenti\n",
    "sondaggio_manager = pd.read_csv('manager_survey_data.csv') #valutazione dei dipendenti sui loro manager\n",
    "sondaggio_dipendenti = pd.read_csv('employee_survey_data.csv') #soddisfazione dei dipendenti sull'ambiente, il lavoro\n",
    "# e l'equilibrio vita-lavoro\n",
    "dati_generali = pd.read_csv('general_data.csv') #dati generali riguardo i dipendenti\n",
    "data_dictionary = pd.read_excel('data_dictionary.xlsx') #dizionario interpretazioni variabili"
   ]
  },
  {
   "cell_type": "code",
   "execution_count": 6,
   "metadata": {
    "executionInfo": {
     "elapsed": 4,
     "status": "aborted",
     "timestamp": 1728749524194,
     "user": {
      "displayName": "Umberto Romagnolo",
      "userId": "14928952592276304637"
     },
     "user_tz": -120
    },
    "id": "yHTdQBXns8qs"
   },
   "outputs": [
    {
     "name": "stdout",
     "output_type": "stream",
     "text": [
      "<class 'pandas.core.frame.DataFrame'>\n",
      "RangeIndex: 4410 entries, 0 to 4409\n",
      "Columns: 262 entries, Unnamed: 0 to 2015-12-31\n",
      "dtypes: float64(12), int64(1), object(249)\n",
      "memory usage: 8.8+ MB\n"
     ]
    }
   ],
   "source": [
    "#si visualizza le dimensioni e le info del DataFrame attraverso l'attributo .shape e .info che restituisce il numero di righe e colonne.\n",
    "ingresso.shape\n",
    "ingresso.info()"
   ]
  },
  {
   "cell_type": "code",
   "execution_count": 7,
   "metadata": {
    "executionInfo": {
     "elapsed": 3,
     "status": "aborted",
     "timestamp": 1728749524194,
     "user": {
      "displayName": "Umberto Romagnolo",
      "userId": "14928952592276304637"
     },
     "user_tz": -120
    },
    "id": "Eov9Bq-os8qt"
   },
   "outputs": [],
   "source": [
    "# Si sostituiscono i valori nulli con una data fittizia e si convertono in formato data\n",
    "ingresso = ingresso.fillna(datetime.datetime(1970,1,1))\n",
    "ingresso.iloc[:, 1:] = ingresso.iloc[:, 1:].apply(pd.to_datetime, errors='coerce')"
   ]
  },
  {
   "cell_type": "code",
   "execution_count": 8,
   "metadata": {
    "executionInfo": {
     "elapsed": 3,
     "status": "aborted",
     "timestamp": 1728749524194,
     "user": {
      "displayName": "Umberto Romagnolo",
      "userId": "14928952592276304637"
     },
     "user_tz": -120
    },
    "id": "6T6ZlqRas8qu"
   },
   "outputs": [],
   "source": [
    "# Si esegue la stessa pulizia per il DF uscita\n",
    "uscita = uscita.fillna(datetime.datetime(1970,1,1))\n",
    "uscita.iloc[:, 1:] = uscita.iloc[:, 1:].apply(pd.to_datetime, errors='coerce')"
   ]
  },
  {
   "cell_type": "code",
   "execution_count": null,
   "metadata": {
    "executionInfo": {
     "elapsed": 3,
     "status": "aborted",
     "timestamp": 1728749524194,
     "user": {
      "displayName": "Umberto Romagnolo",
      "userId": "14928952592276304637"
     },
     "user_tz": -120
    },
    "id": "smvon9lws8qu"
   },
   "outputs": [],
   "source": [
    "#Si uniscono i due DF ingresso e uscita: pd.concat() viene utilizzato per aggiungere righe di altri dataframe\n",
    "#alla fine del primo dataframe specificato, restituendo un nuovo dataframe. pd.concat ha sostituito df.append.\n",
    "ingresso_uscita = pd.concat([ingresso,uscita])"
   ]
  },
  {
   "cell_type": "code",
   "execution_count": null,
   "metadata": {
    "executionInfo": {
     "elapsed": 3,
     "status": "aborted",
     "timestamp": 1728749524194,
     "user": {
      "displayName": "Umberto Romagnolo",
      "userId": "14928952592276304637"
     },
     "user_tz": -120
    },
    "id": "5u3cdfd1s8qv"
   },
   "outputs": [],
   "source": [
    "# conversione type in datetime\n",
    "ingresso_uscita = ingresso_uscita.convert_dtypes(datetime)"
   ]
  },
  {
   "cell_type": "code",
   "execution_count": null,
   "metadata": {
    "executionInfo": {
     "elapsed": 3,
     "status": "aborted",
     "timestamp": 1728749524194,
     "user": {
      "displayName": "Umberto Romagnolo",
      "userId": "14928952592276304637"
     },
     "user_tz": -120
    },
    "id": "3SmieOfss8qv"
   },
   "outputs": [],
   "source": [
    "# Si rimuovono le colonne con solo valori fittizi\n",
    "ingresso_uscita.drop(['2015-01-01', '2015-01-14','2015-01-26','2015-03-05',\n",
    "             '2015-05-01','2015-07-17','2015-09-17','2015-10-02',\n",
    "              '2015-11-09','2015-11-10','2015-11-11','2015-12-25'\n",
    "             ], axis = 1,inplace=True)"
   ]
  },
  {
   "cell_type": "code",
   "execution_count": null,
   "metadata": {
    "executionInfo": {
     "elapsed": 3,
     "status": "aborted",
     "timestamp": 1728749524194,
     "user": {
      "displayName": "Umberto Romagnolo",
      "userId": "14928952592276304637"
     },
     "user_tz": -120
    },
    "id": "WFUs8n6Vs8qv"
   },
   "outputs": [],
   "source": [
    "# Si calcola la differenza di un elemento DataFrame rispetto a un altro elemento in DataFrame\n",
    "# (l'impostazione predefinita è l'elemento nella riga precedente).\n",
    "# \"Periods\" serve per indicare il numero di periodi (in questo caso corrispondente alle righe)\n",
    "# da spostare per il calcolo della differenza.\n",
    "ingresso_uscita = ingresso_uscita.diff(periods=4410)\n",
    "# L' indicizzatore iloc per Pandas Dataframe viene utilizzato per  l'indicizzazione/selezione\n",
    "# in base alla posizione basata su numeri interi.\n",
    "# La sintassi dell'indicizzatore iloc è data.iloc[<selezione riga>, <selezione colonna>]\n",
    "ingresso_uscita=ingresso_uscita.iloc[4410:]\n",
    "# Pandas reset_index()è un metodo per reimpostare l'indice di un data frame.\n",
    "# Il metodo reset_index() imposta un elenco di numeri interi che vanno da 0 alla lunghezza dei dati come indice.\n",
    "ingresso_uscita.reset_index(inplace=True)\n",
    "ingresso_uscita.head()"
   ]
  },
  {
   "cell_type": "code",
   "execution_count": null,
   "metadata": {
    "executionInfo": {
     "elapsed": 3,
     "status": "aborted",
     "timestamp": 1728749524194,
     "user": {
      "displayName": "Umberto Romagnolo",
      "userId": "14928952592276304637"
     },
     "user_tz": -120
    },
    "id": "FHkSnbhYs8qw"
   },
   "outputs": [],
   "source": [
    "# rimozione colonne index e Unnamed\n",
    "ingresso_uscita.drop(columns=['index','Unnamed: 0'],axis=1,inplace=True)"
   ]
  },
  {
   "cell_type": "code",
   "execution_count": null,
   "metadata": {
    "executionInfo": {
     "elapsed": 3,
     "status": "aborted",
     "timestamp": 1728749524194,
     "user": {
      "displayName": "Umberto Romagnolo",
      "userId": "14928952592276304637"
     },
     "user_tz": -120
    },
    "id": "WfU9FexHs8qw"
   },
   "outputs": [],
   "source": [
    "# Verifica struttura nuovo DF\n",
    "ingresso_uscita.shape"
   ]
  },
  {
   "cell_type": "code",
   "execution_count": null,
   "metadata": {
    "executionInfo": {
     "elapsed": 3,
     "status": "aborted",
     "timestamp": 1728749524194,
     "user": {
      "displayName": "Umberto Romagnolo",
      "userId": "14928952592276304637"
     },
     "user_tz": -120
    },
    "id": "cGS8H7-cs8qw"
   },
   "outputs": [],
   "source": [
    "ingresso_uscita.info()"
   ]
  },
  {
   "cell_type": "code",
   "execution_count": null,
   "metadata": {
    "executionInfo": {
     "elapsed": 3,
     "status": "aborted",
     "timestamp": 1728749524195,
     "user": {
      "displayName": "Umberto Romagnolo",
      "userId": "14928952592276304637"
     },
     "user_tz": -120
    },
    "id": "33LkkfXms8qw"
   },
   "outputs": [],
   "source": [
    "# Nuova colonna con la media per ogni riga\n",
    "ingresso_uscita['Media Durate'] = ingresso_uscita.mean(axis=1)"
   ]
  },
  {
   "cell_type": "code",
   "execution_count": null,
   "metadata": {
    "executionInfo": {
     "elapsed": 3,
     "status": "aborted",
     "timestamp": 1728749524195,
     "user": {
      "displayName": "Umberto Romagnolo",
      "userId": "14928952592276304637"
     },
     "user_tz": -120
    },
    "id": "UrzjQQfls8qx"
   },
   "outputs": [],
   "source": [
    "# Si convertono i valori del DF in formato hh:mm:ss\n",
    "ingresso_uscita = ingresso_uscita.applymap(lambda x: f\"{x.components.hours:02d}:{x.components.minutes:02d}:{x.components.seconds:02d}\" if pd.notnull(x) else '')"
   ]
  },
  {
   "cell_type": "code",
   "execution_count": null,
   "metadata": {
    "executionInfo": {
     "elapsed": 7210,
     "status": "aborted",
     "timestamp": 1728749524195,
     "user": {
      "displayName": "Umberto Romagnolo",
      "userId": "14928952592276304637"
     },
     "user_tz": -120
    },
    "id": "FsDUoRRCs8qx"
   },
   "outputs": [],
   "source": [
    "ingresso_uscita['Media Durate'].head()"
   ]
  },
  {
   "cell_type": "code",
   "execution_count": null,
   "metadata": {
    "executionInfo": {
     "elapsed": 7208,
     "status": "aborted",
     "timestamp": 1728749524195,
     "user": {
      "displayName": "Umberto Romagnolo",
      "userId": "14928952592276304637"
     },
     "user_tz": -120
    },
    "id": "vJBfsdRAs8qx"
   },
   "outputs": [],
   "source": [
    "# Nuova colonna con numero di ore per ogni valore nella colonna 'Media Durate'\n",
    "ingresso_uscita['Nr Ore']=ingresso_uscita['Media Durate']/np.timedelta64(1, 'h')\n",
    "ingresso_uscita.head()"
   ]
  },
  {
   "cell_type": "code",
   "execution_count": null,
   "metadata": {
    "executionInfo": {
     "elapsed": 7206,
     "status": "aborted",
     "timestamp": 1728749524195,
     "user": {
      "displayName": "Umberto Romagnolo",
      "userId": "14928952592276304637"
     },
     "user_tz": -120
    },
    "id": "c9Dc4zqIs8qx"
   },
   "outputs": [],
   "source": [
    "# Reset dell'indice\n",
    "ingresso_uscita.reset_index(inplace=True)"
   ]
  },
  {
   "cell_type": "code",
   "execution_count": null,
   "metadata": {
    "executionInfo": {
     "elapsed": 7204,
     "status": "aborted",
     "timestamp": 1728749524195,
     "user": {
      "displayName": "Umberto Romagnolo",
      "userId": "14928952592276304637"
     },
     "user_tz": -120
    },
    "id": "ngt9YJycs8qx"
   },
   "outputs": [],
   "source": [
    "columns_to_keep = ['index', 'Nr Ore']\n",
    "ingresso_uscita = ingresso_uscita[columns_to_keep]\n",
    "ingresso_uscita.rename(columns={'index': 'EmployeeID'},inplace=True)\n",
    "# Tabella riassuntiva in cui per ogni ID dipendente è affiancato il numero di ore medie lavorative\n",
    "ingresso_uscita.head()"
   ]
  },
  {
   "cell_type": "code",
   "execution_count": null,
   "metadata": {
    "executionInfo": {
     "elapsed": 7201,
     "status": "aborted",
     "timestamp": 1728749524195,
     "user": {
      "displayName": "Umberto Romagnolo",
      "userId": "14928952592276304637"
     },
     "user_tz": -120
    },
    "id": "TEUSKpm0s8qy"
   },
   "outputs": [],
   "source": [
    "# Si combinano i dataframe a disposizione in un unico DF\n",
    "df = pd.merge(sondaggio_dipendenti, dati_generali, how='inner', on='EmployeeID')\n",
    "hr = pd.merge(sondaggio_manager, df, how='inner', on='EmployeeID')\n",
    "hr = pd.merge(ingresso_uscita, hr, how='inner', on='EmployeeID')\n",
    "hr.head()"
   ]
  },
  {
   "cell_type": "code",
   "execution_count": null,
   "metadata": {
    "executionInfo": {
     "elapsed": 7199,
     "status": "aborted",
     "timestamp": 1728749524195,
     "user": {
      "displayName": "Umberto Romagnolo",
      "userId": "14928952592276304637"
     },
     "user_tz": -120
    },
    "id": "zF1YKqG3s8qy"
   },
   "outputs": [],
   "source": [
    "hr.info()"
   ]
  },
  {
   "cell_type": "code",
   "execution_count": null,
   "metadata": {
    "executionInfo": {
     "elapsed": 7197,
     "status": "aborted",
     "timestamp": 1728749524196,
     "user": {
      "displayName": "Umberto Romagnolo",
      "userId": "14928952592276304637"
     },
     "user_tz": -120
    },
    "id": "9v1W_rCSs8qy"
   },
   "outputs": [],
   "source": [
    "# Correzione del tipo di dati per le variabili\n",
    "hr['JobLevel']=hr['JobLevel'].astype(str)"
   ]
  },
  {
   "cell_type": "code",
   "execution_count": null,
   "metadata": {
    "executionInfo": {
     "elapsed": 4,
     "status": "aborted",
     "timestamp": 1728749525392,
     "user": {
      "displayName": "Umberto Romagnolo",
      "userId": "14928952592276304637"
     },
     "user_tz": -120
    },
    "id": "R_HxHRmxs8qy"
   },
   "outputs": [],
   "source": [
    "# Si crea DataFrame con valori decodificati\n",
    "hr_var_dec = hr.copy()\n",
    "hr_var_dec['Education'] = hr_var_dec['Education'].replace({ 1 : 'Below College', 2: 'College',3: 'Bachelor',4: 'Master',5 : 'Doctor'})\n",
    "hr_var_dec['EnvironmentSatisfaction'] = hr_var_dec['EnvironmentSatisfaction'].replace({ 1 : 'Low', 2: 'Medium',3: 'High',4: 'Very High'})\n",
    "hr_var_dec['JobInvolvement'] = hr_var_dec['JobInvolvement'].replace({ 1 : 'Low', 2: 'Medium',3: 'High',4: 'Very High'})\n",
    "hr_var_dec['JobSatisfaction'] = hr_var_dec['JobSatisfaction'].replace({ 1 : 'Low', 2: 'Medium',3: 'High',4: 'Very High'})\n",
    "hr_var_dec['PerformanceRating'] = hr_var_dec['PerformanceRating'].replace({ 1 : 'Low', 2: 'Good',3: 'Excellent',4: 'Outstanding'})\n",
    "hr_var_dec['WorkLifeBalance'] = hr_var_dec['WorkLifeBalance'].replace({ 1 : 'Bad', 2: 'Good',3: 'Better',4: 'Best'})"
   ]
  },
  {
   "cell_type": "code",
   "execution_count": null,
   "metadata": {
    "executionInfo": {
     "elapsed": 5,
     "status": "aborted",
     "timestamp": 1728749525393,
     "user": {
      "displayName": "Umberto Romagnolo",
      "userId": "14928952592276304637"
     },
     "user_tz": -120
    },
    "id": "EQy0moqQs8qy"
   },
   "outputs": [],
   "source": [
    "hr_var_dec.head()"
   ]
  },
  {
   "cell_type": "code",
   "execution_count": null,
   "metadata": {
    "executionInfo": {
     "elapsed": 5,
     "status": "aborted",
     "timestamp": 1728749525393,
     "user": {
      "displayName": "Umberto Romagnolo",
      "userId": "14928952592276304637"
     },
     "user_tz": -120
    },
    "id": "TnCkJva5s8qz"
   },
   "outputs": [],
   "source": [
    "# Conta dei dipendenti\n",
    "hr['EmployeeCount'].value_counts(ascending=False)"
   ]
  },
  {
   "cell_type": "code",
   "execution_count": null,
   "metadata": {
    "executionInfo": {
     "elapsed": 5,
     "status": "aborted",
     "timestamp": 1728749525393,
     "user": {
      "displayName": "Umberto Romagnolo",
      "userId": "14928952592276304637"
     },
     "user_tz": -120
    },
    "id": "ygoU3HDSs8qz"
   },
   "outputs": [],
   "source": [
    "# Conta dei dipendenti maggiorenni\n",
    "hr['Over18'].value_counts(ascending=False)"
   ]
  },
  {
   "cell_type": "code",
   "execution_count": null,
   "metadata": {
    "executionInfo": {
     "elapsed": 5,
     "status": "aborted",
     "timestamp": 1728749525393,
     "user": {
      "displayName": "Umberto Romagnolo",
      "userId": "14928952592276304637"
     },
     "user_tz": -120
    },
    "id": "dwYdsuars8qz"
   },
   "outputs": [],
   "source": [
    "# Conta delle ore di lavoro standard dei dipendenti\n",
    "hr['StandardHours'].value_counts(ascending=False)"
   ]
  },
  {
   "cell_type": "code",
   "execution_count": null,
   "metadata": {
    "executionInfo": {
     "elapsed": 4,
     "status": "aborted",
     "timestamp": 1728749525393,
     "user": {
      "displayName": "Umberto Romagnolo",
      "userId": "14928952592276304637"
     },
     "user_tz": -120
    },
    "id": "SLYHoQHus8qz"
   },
   "outputs": [],
   "source": [
    "# Rimozione delle colonne non necessarie dai due DF\n",
    "hr.drop(['EmployeeID', 'EmployeeCount','StandardHours','Over18'], axis = 1,inplace=True)\n",
    "hr_var_dec.drop(['EmployeeID', 'EmployeeCount','StandardHours','Over18'], axis = 1,inplace=True)"
   ]
  },
  {
   "cell_type": "markdown",
   "metadata": {
    "id": "gs4m9c6Ys8q0"
   },
   "source": [
    "# Controllo dei DataFrame"
   ]
  },
  {
   "cell_type": "code",
   "execution_count": null,
   "metadata": {
    "executionInfo": {
     "elapsed": 4,
     "status": "aborted",
     "timestamp": 1728749525393,
     "user": {
      "displayName": "Umberto Romagnolo",
      "userId": "14928952592276304637"
     },
     "user_tz": -120
    },
    "id": "JwOuQf9Os8q0"
   },
   "outputs": [],
   "source": [
    "# Si controllano le dimensioni del DataFrame\n",
    "hr.shape"
   ]
  },
  {
   "cell_type": "code",
   "execution_count": null,
   "metadata": {
    "executionInfo": {
     "elapsed": 4,
     "status": "aborted",
     "timestamp": 1728749525393,
     "user": {
      "displayName": "Umberto Romagnolo",
      "userId": "14928952592276304637"
     },
     "user_tz": -120
    },
    "id": "-G7O1g_Ms8q0"
   },
   "outputs": [],
   "source": [
    "hr_var_dec.shape"
   ]
  },
  {
   "cell_type": "code",
   "execution_count": null,
   "metadata": {
    "executionInfo": {
     "elapsed": 4,
     "status": "aborted",
     "timestamp": 1728749525393,
     "user": {
      "displayName": "Umberto Romagnolo",
      "userId": "14928952592276304637"
     },
     "user_tz": -120
    },
    "id": "L9UwFXugs8q0"
   },
   "outputs": [],
   "source": [
    "# Si osserva un quadro generale delle statistiche descrittive\n",
    "hr.describe()"
   ]
  },
  {
   "cell_type": "code",
   "execution_count": null,
   "metadata": {
    "executionInfo": {
     "elapsed": 4,
     "status": "aborted",
     "timestamp": 1728749525393,
     "user": {
      "displayName": "Umberto Romagnolo",
      "userId": "14928952592276304637"
     },
     "user_tz": -120
    },
    "id": "HiGH7R4rs8q1"
   },
   "outputs": [],
   "source": [
    "# Si osserva le informazioni riguardo il DataFrame\n",
    "hr.info()"
   ]
  },
  {
   "cell_type": "code",
   "execution_count": null,
   "metadata": {
    "executionInfo": {
     "elapsed": 4,
     "status": "aborted",
     "timestamp": 1728749525393,
     "user": {
      "displayName": "Umberto Romagnolo",
      "userId": "14928952592276304637"
     },
     "user_tz": -120
    },
    "id": "2ua5llLIs8q1"
   },
   "outputs": [],
   "source": [
    "hr_var_dec.info()"
   ]
  },
  {
   "cell_type": "code",
   "execution_count": null,
   "metadata": {
    "executionInfo": {
     "elapsed": 3,
     "status": "aborted",
     "timestamp": 1728749525393,
     "user": {
      "displayName": "Umberto Romagnolo",
      "userId": "14928952592276304637"
     },
     "user_tz": -120
    },
    "id": "3endv4rVs8q1"
   },
   "outputs": [],
   "source": [
    "# Notando dalle info che alcune variabili hanno valori mancanti si verifica quali sono\n",
    "vars_with_missing = [col for col in hr.columns if hr[col].isnull().any()]\n",
    "if not vars_with_missing:\n",
    "    print(\"Non ci sono valori mancanti.\")\n",
    "else:\n",
    "    print(\"Le seguenti variabili hanno valori mancanti:\", vars_with_missing)"
   ]
  },
  {
   "cell_type": "code",
   "execution_count": null,
   "metadata": {
    "executionInfo": {
     "elapsed": 3,
     "status": "aborted",
     "timestamp": 1728749525393,
     "user": {
      "displayName": "Umberto Romagnolo",
      "userId": "14928952592276304637"
     },
     "user_tz": -120
    },
    "id": "dTkgR4vws8q6"
   },
   "outputs": [],
   "source": [
    "vars_with_missing = [col for col in hr_var_dec.columns if hr_var_dec[col].isnull().any()]\n",
    "if not vars_with_missing:\n",
    "    print(\"Non ci sono valori mancanti.\")\n",
    "else:\n",
    "    print(\"Le seguenti variabili hanno valori mancanti:\", vars_with_missing)"
   ]
  },
  {
   "cell_type": "markdown",
   "metadata": {
    "id": "40pKdx9ks8q7"
   },
   "source": [
    "## Variabile \"EnvironmentSatisfaction\""
   ]
  },
  {
   "cell_type": "code",
   "execution_count": null,
   "metadata": {
    "executionInfo": {
     "elapsed": 4,
     "status": "aborted",
     "timestamp": 1728749525394,
     "user": {
      "displayName": "Umberto Romagnolo",
      "userId": "14928952592276304637"
     },
     "user_tz": -120
    },
    "id": "QF1Ns2aVs8q7"
   },
   "outputs": [],
   "source": [
    "hr['EnvironmentSatisfaction'].value_counts(ascending=False)"
   ]
  },
  {
   "cell_type": "code",
   "execution_count": null,
   "metadata": {
    "executionInfo": {
     "elapsed": 4,
     "status": "aborted",
     "timestamp": 1728749525394,
     "user": {
      "displayName": "Umberto Romagnolo",
      "userId": "14928952592276304637"
     },
     "user_tz": -120
    },
    "id": "Vuo5sT8zs8q7"
   },
   "outputs": [],
   "source": [
    "hr_var_dec['EnvironmentSatisfaction'].value_counts(ascending=False)"
   ]
  },
  {
   "cell_type": "code",
   "execution_count": null,
   "metadata": {
    "executionInfo": {
     "elapsed": 4,
     "status": "aborted",
     "timestamp": 1728749525394,
     "user": {
      "displayName": "Umberto Romagnolo",
      "userId": "14928952592276304637"
     },
     "user_tz": -120
    },
    "id": "WBI5--SQs8q8"
   },
   "outputs": [],
   "source": [
    "hr['EnvironmentSatisfaction'].mean()"
   ]
  },
  {
   "cell_type": "code",
   "execution_count": null,
   "metadata": {
    "executionInfo": {
     "elapsed": 8358,
     "status": "aborted",
     "timestamp": 1728749525394,
     "user": {
      "displayName": "Umberto Romagnolo",
      "userId": "14928952592276304637"
     },
     "user_tz": -120
    },
    "id": "uBOgRC6Ns8q8"
   },
   "outputs": [],
   "source": [
    "hr['EnvironmentSatisfaction'].median()"
   ]
  },
  {
   "cell_type": "code",
   "execution_count": null,
   "metadata": {
    "executionInfo": {
     "elapsed": 8356,
     "status": "aborted",
     "timestamp": 1728749525394,
     "user": {
      "displayName": "Umberto Romagnolo",
      "userId": "14928952592276304637"
     },
     "user_tz": -120
    },
    "id": "f1v_ykGXs8q8"
   },
   "outputs": [],
   "source": [
    "sns.countplot(x='EnvironmentSatisfaction',data=hr_var_dec)"
   ]
  },
  {
   "cell_type": "code",
   "execution_count": null,
   "metadata": {
    "executionInfo": {
     "elapsed": 8354,
     "status": "aborted",
     "timestamp": 1728749525394,
     "user": {
      "displayName": "Umberto Romagnolo",
      "userId": "14928952592276304637"
     },
     "user_tz": -120
    },
    "id": "KGk6A6E_s8q8"
   },
   "outputs": [],
   "source": [
    "sns.boxplot(x='EnvironmentSatisfaction',data=hr)"
   ]
  },
  {
   "cell_type": "markdown",
   "metadata": {
    "id": "9A9_OsQgs8q8"
   },
   "source": [
    "Dal sondaggio dipendenti si riscontra che la media e la mediana circa il livello di soddisfazione dell'ambiente di lavoro sono rispettivamente di 2.72 e 3. Essendo dati di natura ordinale la mediana è più appropriata in quanto preserva l'ordine dei dati. Dalla Dictionary è noto che il valore 3 viene categorizzato come \"High\"."
   ]
  },
  {
   "cell_type": "code",
   "execution_count": null,
   "metadata": {
    "executionInfo": {
     "elapsed": 8352,
     "status": "aborted",
     "timestamp": 1728749525394,
     "user": {
      "displayName": "Umberto Romagnolo",
      "userId": "14928952592276304637"
     },
     "user_tz": -120
    },
    "id": "qTYMk8Aws8q9"
   },
   "outputs": [],
   "source": [
    "# Il numero di valori mancanti è:\n",
    "hr_var_dec['EnvironmentSatisfaction'].isnull().sum()"
   ]
  },
  {
   "cell_type": "code",
   "execution_count": null,
   "metadata": {
    "executionInfo": {
     "elapsed": 8348,
     "status": "aborted",
     "timestamp": 1728749525394,
     "user": {
      "displayName": "Umberto Romagnolo",
      "userId": "14928952592276304637"
     },
     "user_tz": -120
    },
    "id": "lXqSq6Ags8q9"
   },
   "outputs": [],
   "source": [
    "\n",
    "hr['EnvironmentSatisfaction'].isnull().sum()"
   ]
  },
  {
   "cell_type": "code",
   "execution_count": null,
   "metadata": {
    "executionInfo": {
     "elapsed": 8346,
     "status": "aborted",
     "timestamp": 1728749525394,
     "user": {
      "displayName": "Umberto Romagnolo",
      "userId": "14928952592276304637"
     },
     "user_tz": -120
    },
    "id": "q_5Abrnas8q9"
   },
   "outputs": [],
   "source": [
    "# Si sostituisce quindi con \"High\" i valori mancanti\n",
    "hr_var_dec['EnvironmentSatisfaction'] = hr_var_dec['EnvironmentSatisfaction'].fillna('High')\n",
    "hr_var_dec['EnvironmentSatisfaction'].isnull().sum()"
   ]
  },
  {
   "cell_type": "code",
   "execution_count": null,
   "metadata": {
    "executionInfo": {
     "elapsed": 8343,
     "status": "aborted",
     "timestamp": 1728749525394,
     "user": {
      "displayName": "Umberto Romagnolo",
      "userId": "14928952592276304637"
     },
     "user_tz": -120
    },
    "id": "EEnzRubqs8q9"
   },
   "outputs": [],
   "source": [
    "# Si sostituisce quindi con 3 i valori mancanti\n",
    "hr['EnvironmentSatisfaction'] = hr['EnvironmentSatisfaction'].fillna(3)\n",
    "hr['EnvironmentSatisfaction'].isnull().sum()"
   ]
  },
  {
   "cell_type": "markdown",
   "metadata": {
    "id": "0i6b1cWks8q9"
   },
   "source": [
    "## Variabile \"JobSatisfaction\""
   ]
  },
  {
   "cell_type": "code",
   "execution_count": null,
   "metadata": {
    "executionInfo": {
     "elapsed": 8341,
     "status": "aborted",
     "timestamp": 1728749525394,
     "user": {
      "displayName": "Umberto Romagnolo",
      "userId": "14928952592276304637"
     },
     "user_tz": -120
    },
    "id": "PEG733jus8q-"
   },
   "outputs": [],
   "source": [
    "hr['JobSatisfaction'].value_counts(ascending=False)"
   ]
  },
  {
   "cell_type": "code",
   "execution_count": null,
   "metadata": {
    "executionInfo": {
     "elapsed": 8339,
     "status": "aborted",
     "timestamp": 1728749525394,
     "user": {
      "displayName": "Umberto Romagnolo",
      "userId": "14928952592276304637"
     },
     "user_tz": -120
    },
    "id": "Yq7Xcl2Ys8q-"
   },
   "outputs": [],
   "source": [
    "hr_var_dec['JobSatisfaction'].value_counts(ascending=False)"
   ]
  },
  {
   "cell_type": "code",
   "execution_count": null,
   "metadata": {
    "executionInfo": {
     "elapsed": 8336,
     "status": "aborted",
     "timestamp": 1728749525394,
     "user": {
      "displayName": "Umberto Romagnolo",
      "userId": "14928952592276304637"
     },
     "user_tz": -120
    },
    "id": "ii-YsLV3s8q-"
   },
   "outputs": [],
   "source": [
    "hr['JobSatisfaction'].mean()"
   ]
  },
  {
   "cell_type": "code",
   "execution_count": null,
   "metadata": {
    "executionInfo": {
     "elapsed": 8334,
     "status": "aborted",
     "timestamp": 1728749525394,
     "user": {
      "displayName": "Umberto Romagnolo",
      "userId": "14928952592276304637"
     },
     "user_tz": -120
    },
    "id": "TmtIvDkZs8q_"
   },
   "outputs": [],
   "source": [
    "hr['JobSatisfaction'].median()"
   ]
  },
  {
   "cell_type": "code",
   "execution_count": null,
   "metadata": {
    "executionInfo": {
     "elapsed": 8331,
     "status": "aborted",
     "timestamp": 1728749525394,
     "user": {
      "displayName": "Umberto Romagnolo",
      "userId": "14928952592276304637"
     },
     "user_tz": -120
    },
    "id": "Z_wEaf_Ns8q_"
   },
   "outputs": [],
   "source": [
    "sns.countplot(x='JobSatisfaction',data=hr_var_dec)"
   ]
  },
  {
   "cell_type": "code",
   "execution_count": null,
   "metadata": {
    "executionInfo": {
     "elapsed": 8330,
     "status": "aborted",
     "timestamp": 1728749525395,
     "user": {
      "displayName": "Umberto Romagnolo",
      "userId": "14928952592276304637"
     },
     "user_tz": -120
    },
    "id": "uIPSrIgQs8q_"
   },
   "outputs": [],
   "source": [
    "sns.boxplot(x='JobSatisfaction',data=hr)"
   ]
  },
  {
   "cell_type": "markdown",
   "metadata": {
    "id": "ErcS8UuEs8q_"
   },
   "source": [
    "Dal sondaggio dipendenti si riscontra che la media e la mediana circa il livello di soddisfazione del lavoro sono rispettivamente di 2.73 e 3. Essendo dati di natura ordinale la mediana è più appropriata in quanto preserva l'ordine dei dati. Dalla Dictionary è noto che il valore 3 viene categorizzato come \"High\"."
   ]
  },
  {
   "cell_type": "code",
   "execution_count": null,
   "metadata": {
    "executionInfo": {
     "elapsed": 8328,
     "status": "aborted",
     "timestamp": 1728749525395,
     "user": {
      "displayName": "Umberto Romagnolo",
      "userId": "14928952592276304637"
     },
     "user_tz": -120
    },
    "id": "dzfP0TGRs8q_"
   },
   "outputs": [],
   "source": [
    "# Il numero di valori mancanti è:\n",
    "hr['JobSatisfaction'].isnull().sum()"
   ]
  },
  {
   "cell_type": "code",
   "execution_count": null,
   "metadata": {
    "executionInfo": {
     "elapsed": 8326,
     "status": "aborted",
     "timestamp": 1728749525395,
     "user": {
      "displayName": "Umberto Romagnolo",
      "userId": "14928952592276304637"
     },
     "user_tz": -120
    },
    "id": "IZw-NQ95s8rA"
   },
   "outputs": [],
   "source": [
    "hr_var_dec['JobSatisfaction'].isnull().sum()"
   ]
  },
  {
   "cell_type": "code",
   "execution_count": null,
   "metadata": {
    "executionInfo": {
     "elapsed": 8324,
     "status": "aborted",
     "timestamp": 1728749525395,
     "user": {
      "displayName": "Umberto Romagnolo",
      "userId": "14928952592276304637"
     },
     "user_tz": -120
    },
    "id": "IgOnNV4Cs8rA"
   },
   "outputs": [],
   "source": [
    "# Si sostituisce quindi con 3 i valori mancanti\n",
    "hr['JobSatisfaction'] = hr['JobSatisfaction'].fillna(3)\n",
    "hr['JobSatisfaction'].isnull().sum()"
   ]
  },
  {
   "cell_type": "code",
   "execution_count": null,
   "metadata": {
    "executionInfo": {
     "elapsed": 8321,
     "status": "aborted",
     "timestamp": 1728749525395,
     "user": {
      "displayName": "Umberto Romagnolo",
      "userId": "14928952592276304637"
     },
     "user_tz": -120
    },
    "id": "A7gCzUSts8rA"
   },
   "outputs": [],
   "source": [
    "# Si sostituisce quindi con \"High\" i valori mancanti\n",
    "hr_var_dec['JobSatisfaction'] = hr_var_dec['JobSatisfaction'].fillna('High')\n",
    "hr_var_dec['JobSatisfaction'].isnull().sum()"
   ]
  },
  {
   "cell_type": "markdown",
   "metadata": {
    "id": "rC_DnuQvs8rB"
   },
   "source": [
    "## Variabile \"WorkLifeBalance\""
   ]
  },
  {
   "cell_type": "code",
   "execution_count": null,
   "metadata": {
    "executionInfo": {
     "elapsed": 8317,
     "status": "aborted",
     "timestamp": 1728749525395,
     "user": {
      "displayName": "Umberto Romagnolo",
      "userId": "14928952592276304637"
     },
     "user_tz": -120
    },
    "id": "w57bnWfis8rB"
   },
   "outputs": [],
   "source": [
    "hr['WorkLifeBalance'].value_counts(ascending=False)"
   ]
  },
  {
   "cell_type": "code",
   "execution_count": null,
   "metadata": {
    "executionInfo": {
     "elapsed": 8315,
     "status": "aborted",
     "timestamp": 1728749525395,
     "user": {
      "displayName": "Umberto Romagnolo",
      "userId": "14928952592276304637"
     },
     "user_tz": -120
    },
    "id": "V0kUflG3s8rB"
   },
   "outputs": [],
   "source": [
    "hr_var_dec['WorkLifeBalance'].value_counts(ascending=False)"
   ]
  },
  {
   "cell_type": "code",
   "execution_count": null,
   "metadata": {
    "executionInfo": {
     "elapsed": 8313,
     "status": "aborted",
     "timestamp": 1728749525395,
     "user": {
      "displayName": "Umberto Romagnolo",
      "userId": "14928952592276304637"
     },
     "user_tz": -120
    },
    "id": "ZdAvSWffs8rB"
   },
   "outputs": [],
   "source": [
    "hr['WorkLifeBalance'].mean()"
   ]
  },
  {
   "cell_type": "code",
   "execution_count": null,
   "metadata": {
    "executionInfo": {
     "elapsed": 8310,
     "status": "aborted",
     "timestamp": 1728749525395,
     "user": {
      "displayName": "Umberto Romagnolo",
      "userId": "14928952592276304637"
     },
     "user_tz": -120
    },
    "id": "7fskqN3us8rB"
   },
   "outputs": [],
   "source": [
    "hr['WorkLifeBalance'].median()"
   ]
  },
  {
   "cell_type": "code",
   "execution_count": null,
   "metadata": {
    "executionInfo": {
     "elapsed": 8308,
     "status": "aborted",
     "timestamp": 1728749525395,
     "user": {
      "displayName": "Umberto Romagnolo",
      "userId": "14928952592276304637"
     },
     "user_tz": -120
    },
    "id": "cRjy379Fs8rB"
   },
   "outputs": [],
   "source": [
    "sns.countplot(x='WorkLifeBalance',data=hr_var_dec)"
   ]
  },
  {
   "cell_type": "code",
   "execution_count": null,
   "metadata": {
    "executionInfo": {
     "elapsed": 8306,
     "status": "aborted",
     "timestamp": 1728749525395,
     "user": {
      "displayName": "Umberto Romagnolo",
      "userId": "14928952592276304637"
     },
     "user_tz": -120
    },
    "id": "cFoh3zNZs8rC"
   },
   "outputs": [],
   "source": [
    "sns.boxplot(x='WorkLifeBalance',data=hr)"
   ]
  },
  {
   "cell_type": "markdown",
   "metadata": {
    "id": "Yl6Jd_K7s8rC"
   },
   "source": [
    "Dal sondaggio dipendenti si riscontra che la media e la mediana circa il livello di equilibrio tra lavoro e vita privata sono rispettivamente di 2.76 e 3. Essendo dati di natura ordinale la mediana è più appropriata in quanto preserva l'ordine dei dati. Dalla Dictionary è noto che il valore 3 viene categorizzato come \"Better\"."
   ]
  },
  {
   "cell_type": "code",
   "execution_count": null,
   "metadata": {
    "executionInfo": {
     "elapsed": 8304,
     "status": "aborted",
     "timestamp": 1728749525395,
     "user": {
      "displayName": "Umberto Romagnolo",
      "userId": "14928952592276304637"
     },
     "user_tz": -120
    },
    "id": "-QYKUmfvs8rC"
   },
   "outputs": [],
   "source": [
    "# Il numero di valori mancanti è:\n",
    "hr['WorkLifeBalance'].isnull().sum()"
   ]
  },
  {
   "cell_type": "code",
   "execution_count": null,
   "metadata": {
    "executionInfo": {
     "elapsed": 8302,
     "status": "aborted",
     "timestamp": 1728749525395,
     "user": {
      "displayName": "Umberto Romagnolo",
      "userId": "14928952592276304637"
     },
     "user_tz": -120
    },
    "id": "PnyBwkq-s8rC"
   },
   "outputs": [],
   "source": [
    "hr_var_dec['WorkLifeBalance'].isnull().sum()"
   ]
  },
  {
   "cell_type": "code",
   "execution_count": null,
   "metadata": {
    "executionInfo": {
     "elapsed": 8299,
     "status": "aborted",
     "timestamp": 1728749525395,
     "user": {
      "displayName": "Umberto Romagnolo",
      "userId": "14928952592276304637"
     },
     "user_tz": -120
    },
    "id": "zYZwoxiys8rD"
   },
   "outputs": [],
   "source": [
    "# Si sostituisce quindi con 3 i valori mancanti\n",
    "hr['WorkLifeBalance'] = hr['WorkLifeBalance'].fillna(3)\n",
    "hr['WorkLifeBalance'].isnull().sum()"
   ]
  },
  {
   "cell_type": "code",
   "execution_count": null,
   "metadata": {
    "executionInfo": {
     "elapsed": 8297,
     "status": "aborted",
     "timestamp": 1728749525395,
     "user": {
      "displayName": "Umberto Romagnolo",
      "userId": "14928952592276304637"
     },
     "user_tz": -120
    },
    "id": "nXeUtJNvs8rD"
   },
   "outputs": [],
   "source": [
    "# Si sostituisce quindi con \"Better\" i valori mancanti\n",
    "hr_var_dec['WorkLifeBalance'] = hr_var_dec['WorkLifeBalance'].fillna('Better').astype(str)\n",
    "hr_var_dec['WorkLifeBalance'].isnull().sum()"
   ]
  },
  {
   "cell_type": "markdown",
   "metadata": {
    "id": "p-g9t4phs8rD"
   },
   "source": [
    "## Variabile \"NumCompaniesWorked\""
   ]
  },
  {
   "cell_type": "code",
   "execution_count": null,
   "metadata": {
    "executionInfo": {
     "elapsed": 8295,
     "status": "aborted",
     "timestamp": 1728749525395,
     "user": {
      "displayName": "Umberto Romagnolo",
      "userId": "14928952592276304637"
     },
     "user_tz": -120
    },
    "id": "0FBza6zns8rD"
   },
   "outputs": [],
   "source": [
    "hr_var_dec['NumCompaniesWorked'].value_counts(ascending=False)"
   ]
  },
  {
   "cell_type": "code",
   "execution_count": null,
   "metadata": {
    "executionInfo": {
     "elapsed": 8293,
     "status": "aborted",
     "timestamp": 1728749525395,
     "user": {
      "displayName": "Umberto Romagnolo",
      "userId": "14928952592276304637"
     },
     "user_tz": -120
    },
    "id": "kOhhPNZgs8rD"
   },
   "outputs": [],
   "source": [
    "# Grafico a barre che conta il numero di aziende in cui gli impiegati hanno lavorato in precedenza.\n",
    "sns.countplot(x='NumCompaniesWorked',data=hr)"
   ]
  },
  {
   "cell_type": "code",
   "execution_count": null,
   "metadata": {
    "executionInfo": {
     "elapsed": 8291,
     "status": "aborted",
     "timestamp": 1728749525395,
     "user": {
      "displayName": "Umberto Romagnolo",
      "userId": "14928952592276304637"
     },
     "user_tz": -120
    },
    "id": "_a9fmL1is8rE"
   },
   "outputs": [],
   "source": [
    "sns.boxplot(x='NumCompaniesWorked',data=hr)"
   ]
  },
  {
   "cell_type": "code",
   "execution_count": null,
   "metadata": {
    "executionInfo": {
     "elapsed": 8289,
     "status": "aborted",
     "timestamp": 1728749525395,
     "user": {
      "displayName": "Umberto Romagnolo",
      "userId": "14928952592276304637"
     },
     "user_tz": -120
    },
    "id": "_aTJkn7js8rE"
   },
   "outputs": [],
   "source": [
    "hr['NumCompaniesWorked'].mean()"
   ]
  },
  {
   "cell_type": "code",
   "execution_count": null,
   "metadata": {
    "executionInfo": {
     "elapsed": 8287,
     "status": "aborted",
     "timestamp": 1728749525395,
     "user": {
      "displayName": "Umberto Romagnolo",
      "userId": "14928952592276304637"
     },
     "user_tz": -120
    },
    "id": "CHWBeymas8rE"
   },
   "outputs": [],
   "source": [
    "hr['NumCompaniesWorked'].median()"
   ]
  },
  {
   "cell_type": "markdown",
   "metadata": {
    "id": "YNb06nCps8rF"
   },
   "source": [
    "Dall'analisi svolta, la media e la mediana del numero di compagnie in cui i dipendenti hanno lavorato sono rispettivamente 2.69 e 2. Poiché dal Boxplot si nota che i dati contengono valori estremi che potrebbero influenzare significativamente la media, la mediana risulta essere una scelta migliore. Visto che la mediana non è influenzata dagli outlier, rappresenta meglio il valore centrale della distribuzione dei dati.\n",
    "Si sostituisce quindi con 2 i valori mancanti."
   ]
  },
  {
   "cell_type": "code",
   "execution_count": null,
   "metadata": {
    "executionInfo": {
     "elapsed": 8284,
     "status": "aborted",
     "timestamp": 1728749525395,
     "user": {
      "displayName": "Umberto Romagnolo",
      "userId": "14928952592276304637"
     },
     "user_tz": -120
    },
    "id": "FHggvuuWs8rF"
   },
   "outputs": [],
   "source": [
    "# Il numero di valori mancanti è:\n",
    "hr['NumCompaniesWorked'].isnull().sum()"
   ]
  },
  {
   "cell_type": "code",
   "execution_count": null,
   "metadata": {
    "executionInfo": {
     "elapsed": 8282,
     "status": "aborted",
     "timestamp": 1728749525395,
     "user": {
      "displayName": "Umberto Romagnolo",
      "userId": "14928952592276304637"
     },
     "user_tz": -120
    },
    "id": "QdNkgzNWs8rF"
   },
   "outputs": [],
   "source": [
    "# Si sostituisce quindi con 2 i valori mancanti\n",
    "hr['NumCompaniesWorked'] = hr['NumCompaniesWorked'].fillna(2)\n",
    "hr['NumCompaniesWorked'].isnull().sum()"
   ]
  },
  {
   "cell_type": "code",
   "execution_count": null,
   "metadata": {
    "executionInfo": {
     "elapsed": 8280,
     "status": "aborted",
     "timestamp": 1728749525395,
     "user": {
      "displayName": "Umberto Romagnolo",
      "userId": "14928952592276304637"
     },
     "user_tz": -120
    },
    "id": "vDvzgRgQs8rF"
   },
   "outputs": [],
   "source": [
    "hr_var_dec['NumCompaniesWorked'] = hr_var_dec['NumCompaniesWorked'].fillna(2)\n",
    "hr_var_dec['NumCompaniesWorked'].isnull().sum()"
   ]
  },
  {
   "cell_type": "markdown",
   "metadata": {
    "id": "W7plF7V_s8rG"
   },
   "source": [
    "## Variabile \"TotalWorkingYears\""
   ]
  },
  {
   "cell_type": "code",
   "execution_count": null,
   "metadata": {
    "executionInfo": {
     "elapsed": 8278,
     "status": "aborted",
     "timestamp": 1728749525395,
     "user": {
      "displayName": "Umberto Romagnolo",
      "userId": "14928952592276304637"
     },
     "user_tz": -120
    },
    "id": "mAqmQ01Ws8rG"
   },
   "outputs": [],
   "source": [
    "# Si conta il numero di occorrenze per ogni valore presente nella colonna 'TotalWorkingYears' del dataset hr ordinandoli in ordine decrescente.\n",
    "hr['TotalWorkingYears'].value_counts(ascending=False)"
   ]
  },
  {
   "cell_type": "code",
   "execution_count": null,
   "metadata": {
    "executionInfo": {
     "elapsed": 8276,
     "status": "aborted",
     "timestamp": 1728749525395,
     "user": {
      "displayName": "Umberto Romagnolo",
      "userId": "14928952592276304637"
     },
     "user_tz": -120
    },
    "id": "ij6FCOWns8rG"
   },
   "outputs": [],
   "source": [
    "# Si crea un istogramma della distribuzione dei valori della variabile \"TotalWorkingYears\"\n",
    "plt.figure(figsize=(8,8))\n",
    "ax = sns.distplot(hr['TotalWorkingYears'], hist=True, kde=False,\n",
    "             bins=int(180/5), color = 'darkblue',\n",
    "             hist_kws={'edgecolor':'black'},\n",
    "             kde_kws={'linewidth': 4})\n",
    "ax.set_ylabel('# of Employees')\n",
    "ax.set_xlabel('TotalWorkingYears')"
   ]
  },
  {
   "cell_type": "code",
   "execution_count": null,
   "metadata": {
    "executionInfo": {
     "elapsed": 8274,
     "status": "aborted",
     "timestamp": 1728749525395,
     "user": {
      "displayName": "Umberto Romagnolo",
      "userId": "14928952592276304637"
     },
     "user_tz": -120
    },
    "id": "9Pyj6TnTs8rG"
   },
   "outputs": [],
   "source": [
    "sns.boxplot(x='TotalWorkingYears',data=hr)"
   ]
  },
  {
   "cell_type": "code",
   "execution_count": null,
   "metadata": {
    "executionInfo": {
     "elapsed": 8273,
     "status": "aborted",
     "timestamp": 1728749525396,
     "user": {
      "displayName": "Umberto Romagnolo",
      "userId": "14928952592276304637"
     },
     "user_tz": -120
    },
    "id": "GyNr0Ya7s8rG"
   },
   "outputs": [],
   "source": [
    "hr['TotalWorkingYears'].mean()"
   ]
  },
  {
   "cell_type": "code",
   "execution_count": null,
   "metadata": {
    "executionInfo": {
     "elapsed": 8270,
     "status": "aborted",
     "timestamp": 1728749525396,
     "user": {
      "displayName": "Umberto Romagnolo",
      "userId": "14928952592276304637"
     },
     "user_tz": -120
    },
    "id": "bT9UV7o7s8rG"
   },
   "outputs": [],
   "source": [
    "hr['TotalWorkingYears'].median()"
   ]
  },
  {
   "cell_type": "markdown",
   "metadata": {
    "id": "1FsPZLums8rH"
   },
   "source": [
    "Dall'analisi svolta, la media e la mediana del numero totale di anni in cui il dipendente ha lavorato finora sono rispettivamente 11.28 e 10. Poiché dal Boxplot si nota che i dati contengono valori estremi che potrebbero influenzare significativamente la media, la mediana risulta essere una scelta migliore. Visto che la mediana non è influenzata dagli outlier, rappresenta meglio il valore centrale della distribuzione dei dati.\n",
    "Si sceglie quindi 10 come valore con cui sostituire i dati mancanti."
   ]
  },
  {
   "cell_type": "code",
   "execution_count": null,
   "metadata": {
    "executionInfo": {
     "elapsed": 8267,
     "status": "aborted",
     "timestamp": 1728749525396,
     "user": {
      "displayName": "Umberto Romagnolo",
      "userId": "14928952592276304637"
     },
     "user_tz": -120
    },
    "id": "IdJvJDHms8rH"
   },
   "outputs": [],
   "source": [
    "# il numero dei valori mancanti è:\n",
    "hr['TotalWorkingYears'].isnull().sum()"
   ]
  },
  {
   "cell_type": "code",
   "execution_count": null,
   "metadata": {
    "executionInfo": {
     "elapsed": 8265,
     "status": "aborted",
     "timestamp": 1728749525396,
     "user": {
      "displayName": "Umberto Romagnolo",
      "userId": "14928952592276304637"
     },
     "user_tz": -120
    },
    "id": "krxU0wV-s8rH"
   },
   "outputs": [],
   "source": [
    "# Si sostituisce con 10 i valori mancanti\n",
    "hr['TotalWorkingYears'] = hr['TotalWorkingYears'].fillna(10)\n",
    "hr['TotalWorkingYears'].isnull().sum()"
   ]
  },
  {
   "cell_type": "code",
   "execution_count": null,
   "metadata": {
    "executionInfo": {
     "elapsed": 8262,
     "status": "aborted",
     "timestamp": 1728749525396,
     "user": {
      "displayName": "Umberto Romagnolo",
      "userId": "14928952592276304637"
     },
     "user_tz": -120
    },
    "id": "dp6-3H80s8rH"
   },
   "outputs": [],
   "source": [
    "hr_var_dec['TotalWorkingYears'] = hr_var_dec['TotalWorkingYears'].fillna(10)\n",
    "hr_var_dec['TotalWorkingYears'].isnull().sum()"
   ]
  },
  {
   "cell_type": "markdown",
   "metadata": {
    "id": "HEJtyVgPs8rH"
   },
   "source": [
    "# Analisi esplorativa dei dati"
   ]
  },
  {
   "cell_type": "markdown",
   "metadata": {
    "id": "hhZVQebus8rI"
   },
   "source": [
    "## Intro"
   ]
  },
  {
   "cell_type": "code",
   "execution_count": null,
   "metadata": {
    "executionInfo": {
     "elapsed": 8260,
     "status": "aborted",
     "timestamp": 1728749525396,
     "user": {
      "displayName": "Umberto Romagnolo",
      "userId": "14928952592276304637"
     },
     "user_tz": -120
    },
    "id": "hbKKpKLhs8rI"
   },
   "outputs": [],
   "source": [
    "hr_var_dec.info()"
   ]
  },
  {
   "cell_type": "code",
   "execution_count": null,
   "metadata": {
    "executionInfo": {
     "elapsed": 8258,
     "status": "aborted",
     "timestamp": 1728749525396,
     "user": {
      "displayName": "Umberto Romagnolo",
      "userId": "14928952592276304637"
     },
     "user_tz": -120
    },
    "id": "atN2e6gHs8rI"
   },
   "outputs": [],
   "source": [
    "hr_var_dec.head()"
   ]
  },
  {
   "cell_type": "markdown",
   "metadata": {
    "id": "9ZEaeAses8rJ"
   },
   "source": [
    "### Attrition"
   ]
  },
  {
   "cell_type": "code",
   "execution_count": null,
   "metadata": {
    "executionInfo": {
     "elapsed": 8256,
     "status": "aborted",
     "timestamp": 1728749525396,
     "user": {
      "displayName": "Umberto Romagnolo",
      "userId": "14928952592276304637"
     },
     "user_tz": -120
    },
    "id": "MhAFFjx7s8rJ"
   },
   "outputs": [],
   "source": [
    "# Calcola le frequenze relative e relative percentuali\n",
    "attrition_relatives = hr_var_dec[\"Attrition\"].value_counts(normalize=True)\n",
    "attrition_percentages = hr_var_dec[\"Attrition\"].value_counts(normalize=True) * 100\n",
    "\n",
    "# Crea l'istogramma\n",
    "fig, ax = plt.subplots()\n",
    "bars = plt.bar(attrition_percentages.index, attrition_relatives.values, color=['green', 'red'])\n",
    "plt.xlabel(\"Attrition\")\n",
    "plt.title(\"Employee Attrition\")\n",
    "\n",
    "# Aggiungi le etichette delle percentuali sulle barre\n",
    "for bar, percentage in zip(bars, attrition_percentages):\n",
    "    ax.annotate(f'{percentage:.2f}%', xy=(bar.get_x() + bar.get_width() / 2, bar.get_height()),\n",
    "                xytext=(0, 3), textcoords='offset points', ha='center')"
   ]
  },
  {
   "cell_type": "code",
   "execution_count": null,
   "metadata": {
    "executionInfo": {
     "elapsed": 8254,
     "status": "aborted",
     "timestamp": 1728749525396,
     "user": {
      "displayName": "Umberto Romagnolo",
      "userId": "14928952592276304637"
     },
     "user_tz": -120
    },
    "id": "O-nZ1pUDs8rJ"
   },
   "outputs": [],
   "source": [
    "# Calcola il conteggio dei dipendenti per ciascuna categoria di attrition\n",
    "conteggio_per_attrition = hr_var_dec.groupby(\"Attrition\").size()\n",
    "\n",
    "# Crea una tabella\n",
    "tabella_conteggio_per_attrition = pd.DataFrame(conteggio_per_attrition, columns=[\"Conteggio Dipendenti\"])\n",
    "\n",
    "# Stampa la tabella\n",
    "print(tabella_conteggio_per_attrition)"
   ]
  },
  {
   "cell_type": "markdown",
   "metadata": {
    "id": "4tpFpJwMs8rK"
   },
   "source": [
    "### Age"
   ]
  },
  {
   "cell_type": "code",
   "execution_count": null,
   "metadata": {
    "executionInfo": {
     "elapsed": 8252,
     "status": "aborted",
     "timestamp": 1728749525396,
     "user": {
      "displayName": "Umberto Romagnolo",
      "userId": "14928952592276304637"
     },
     "user_tz": -120
    },
    "id": "l_kr8_jEs8rK"
   },
   "outputs": [],
   "source": [
    "# Calcola il conteggio delle età\n",
    "age_counts = hr_var_dec[\"Age\"].value_counts().sort_index()\n",
    "\n",
    "# Crea il diagramma a barre\n",
    "plt.figure(figsize=(12, 6))  # Imposta le dimensioni del grafico\n",
    "plt.bar(age_counts.index, age_counts.values, color='blue', alpha=0.7)\n",
    "plt.xticks(age_counts.index, rotation=0)  # Ruota le etichette sull'asse x per la leggibilità"
   ]
  },
  {
   "cell_type": "markdown",
   "metadata": {
    "id": "2y79g0Rqs8rL"
   },
   "source": [
    "### Gender"
   ]
  },
  {
   "cell_type": "code",
   "execution_count": null,
   "metadata": {
    "executionInfo": {
     "elapsed": 8250,
     "status": "aborted",
     "timestamp": 1728749525396,
     "user": {
      "displayName": "Umberto Romagnolo",
      "userId": "14928952592276304637"
     },
     "user_tz": -120
    },
    "id": "CDeCLD_Bs8rL"
   },
   "outputs": [],
   "source": [
    "# Calcola le frequenze relative e relative percentuali\n",
    "gender_relatives = hr_var_dec[\"Gender\"].value_counts(normalize=True)\n",
    "gender_percentages = hr_var_dec[\"Gender\"].value_counts(normalize=True) * 100\n",
    "\n",
    "# Crea l'istogramma\n",
    "fig, ax = plt.subplots()\n",
    "bars = plt.bar(gender_percentages.index, gender_relatives.values, color=['blue', 'pink'])\n",
    "plt.xlabel(\"Gender\")\n",
    "plt.title(\"Employee Gender\")\n",
    "\n",
    "# Aggiungi le etichette delle percentuali sulle barre\n",
    "for bar, percentage in zip(bars, gender_percentages):\n",
    "    ax.annotate(f'{percentage:.2f}%', xy=(bar.get_x() + bar.get_width() / 2, bar.get_height()),\n",
    "                xytext=(0, 3), textcoords='offset points', ha='center')"
   ]
  },
  {
   "cell_type": "code",
   "execution_count": null,
   "metadata": {
    "executionInfo": {
     "elapsed": 8248,
     "status": "aborted",
     "timestamp": 1728749525396,
     "user": {
      "displayName": "Umberto Romagnolo",
      "userId": "14928952592276304637"
     },
     "user_tz": -120
    },
    "id": "BWyfkwmLs8rM"
   },
   "outputs": [],
   "source": [
    "# Calcola il conteggio dei dipendenti per ciascuna categoria di gender\n",
    "conteggio_per_gender = hr_var_dec.groupby(\"Gender\").size()\n",
    "\n",
    "# Crea una tabella\n",
    "tabella_conteggio_per_gender = pd.DataFrame(conteggio_per_gender, columns=[\"Conteggio Dipendenti\"])\n",
    "\n",
    "# Stampa la tabella\n",
    "print(tabella_conteggio_per_gender)"
   ]
  },
  {
   "cell_type": "markdown",
   "metadata": {
    "id": "YIi1VJ_Bs8rM"
   },
   "source": [
    "### Education"
   ]
  },
  {
   "cell_type": "code",
   "execution_count": null,
   "metadata": {
    "executionInfo": {
     "elapsed": 8246,
     "status": "aborted",
     "timestamp": 1728749525396,
     "user": {
      "displayName": "Umberto Romagnolo",
      "userId": "14928952592276304637"
     },
     "user_tz": -120
    },
    "id": "WkpTDWPCs8rM"
   },
   "outputs": [],
   "source": [
    "# Definisci l'ordine desiderato delle categorie di istruzione\n",
    "order = ['Below College', 'College', 'Bachelor', 'Master', 'Doctor']\n",
    "\n",
    "# Calcola le frequenze relative e relative percentuali\n",
    "education_relatives = hr_var_dec[\"Education\"].value_counts(normalize=True).loc[order]\n",
    "education_percentages = (hr_var_dec[\"Education\"].value_counts(normalize=True) * 100).loc[order]\n",
    "\n",
    "# Colori personalizzati\n",
    "colors = ['red', 'orange', 'yellow', (144/255, 238/255, 144/255), 'green']\n",
    "\n",
    "# Crea l'istogramma\n",
    "fig, ax = plt.subplots()\n",
    "bars = sns.barplot(x=education_relatives.index, y=education_relatives.values, order=order, palette=colors)\n",
    "plt.xlabel(\"Education\")\n",
    "plt.title(\"Employee Education\")\n",
    "\n",
    "# Aggiungi le etichette delle percentuali sulle barre\n",
    "for bar, percentage in zip(bars.patches, education_percentages):\n",
    "    height = bar.get_height()\n",
    "    ax.annotate(f'{percentage:.2f}%', xy=(bar.get_x() + bar.get_width() / 2, height),\n",
    "                xytext=(0, 3), textcoords='offset points', ha='center')"
   ]
  },
  {
   "cell_type": "code",
   "execution_count": null,
   "metadata": {
    "executionInfo": {
     "elapsed": 8244,
     "status": "aborted",
     "timestamp": 1728749525396,
     "user": {
      "displayName": "Umberto Romagnolo",
      "userId": "14928952592276304637"
     },
     "user_tz": -120
    },
    "id": "hFHPIDThs8rN"
   },
   "outputs": [],
   "source": [
    "# Calcola il conteggio dei dipendenti per ciascuna categoria di gender\n",
    "conteggio_per_education = hr_var_dec.groupby(\"Education\").size()\n",
    "\n",
    "# Crea una tabella\n",
    "tabella_conteggio_per_education = pd.DataFrame(conteggio_per_education, columns=[\"Conteggio Dipendenti per educazione\"])\n",
    "\n",
    "# Stampa la tabella\n",
    "print(tabella_conteggio_per_education)"
   ]
  },
  {
   "cell_type": "markdown",
   "metadata": {
    "id": "a1_aXR30s8rN"
   },
   "source": [
    "### EnvironmentSatisfaction"
   ]
  },
  {
   "cell_type": "code",
   "execution_count": null,
   "metadata": {
    "executionInfo": {
     "elapsed": 8242,
     "status": "aborted",
     "timestamp": 1728749525396,
     "user": {
      "displayName": "Umberto Romagnolo",
      "userId": "14928952592276304637"
     },
     "user_tz": -120
    },
    "id": "B2rQ0c0Js8rN"
   },
   "outputs": [],
   "source": [
    "# Definisci l'ordine desiderato delle categorie di soddisfazione dell'ambiente lavorativo\n",
    "order = ['Low', 'Medium', 'High', 'Very High']\n",
    "\n",
    "# Calcola le frequenze relative e relative percentuali\n",
    "environment_relatives = hr_var_dec[\"EnvironmentSatisfaction\"].value_counts(normalize=True).loc[order]\n",
    "environment_percentages = (hr_var_dec[\"EnvironmentSatisfaction\"].value_counts(normalize=True) * 100).loc[order]\n",
    "\n",
    "# Colori personalizzati\n",
    "colors = ['red', 'orange', 'yellow', 'green']\n",
    "\n",
    "# Crea l'istogramma\n",
    "fig, ax = plt.subplots()\n",
    "bars = sns.barplot(x=environment_relatives.index, y=environment_relatives.values, order=order, palette=colors)\n",
    "plt.xlabel(\"Satisfaction\")\n",
    "plt.title(\"Environment Satisfaction\")\n",
    "\n",
    "# Aggiungi le etichette delle percentuali sulle barre\n",
    "for bar, percentage in zip(bars.patches, environment_percentages):\n",
    "    height = bar.get_height()\n",
    "    ax.annotate(f'{percentage:.2f}%', xy=(bar.get_x() + bar.get_width() / 2, height),\n",
    "                xytext=(0, 3), textcoords='offset points', ha='center')"
   ]
  },
  {
   "cell_type": "code",
   "execution_count": null,
   "metadata": {
    "executionInfo": {
     "elapsed": 8240,
     "status": "aborted",
     "timestamp": 1728749525396,
     "user": {
      "displayName": "Umberto Romagnolo",
      "userId": "14928952592276304637"
     },
     "user_tz": -120
    },
    "id": "IPVnP7GIs8rO"
   },
   "outputs": [],
   "source": [
    "# Calcola il conteggio dei dipendenti per ciascuna categoria di environment satisfaction\n",
    "conteggio_per_EnvironmentSatisfaction = hr_var_dec.groupby(\"EnvironmentSatisfaction\").size()\n",
    "\n",
    "# Crea una tabella\n",
    "tabella_conteggio_per_EnvironmentSatisfaction = pd.DataFrame(conteggio_per_EnvironmentSatisfaction, columns=[\"Conteggio Dipendenti per soddisfazione dell'ambiente\"])\n",
    "\n",
    "# Stampa la tabella\n",
    "print(tabella_conteggio_per_EnvironmentSatisfaction)"
   ]
  },
  {
   "cell_type": "markdown",
   "metadata": {
    "id": "jqeT7htZs8rO"
   },
   "source": [
    "### JobSatisfaction"
   ]
  },
  {
   "cell_type": "code",
   "execution_count": null,
   "metadata": {
    "executionInfo": {
     "elapsed": 8850,
     "status": "aborted",
     "timestamp": 1728749526008,
     "user": {
      "displayName": "Umberto Romagnolo",
      "userId": "14928952592276304637"
     },
     "user_tz": -120
    },
    "id": "1Ps6FkQ7s8rO"
   },
   "outputs": [],
   "source": [
    "# Definisci l'ordine desiderato delle categorie di soddisfazione del lavoro\n",
    "order = ['Low', 'Medium', 'High', 'Very High']\n",
    "\n",
    "# Calcola le frequenze relative e relative percentuali\n",
    "job_relatives = hr_var_dec[\"JobSatisfaction\"].value_counts(normalize=True).loc[order]\n",
    "job_percentages = (hr_var_dec[\"JobSatisfaction\"].value_counts(normalize=True) * 100).loc[order]\n",
    "\n",
    "# Colori personalizzati\n",
    "colors = ['red', 'orange', 'yellow', 'green']\n",
    "\n",
    "# Crea l'istogramma\n",
    "fig, ax = plt.subplots()\n",
    "bars = sns.barplot(x=job_relatives.index, y=job_relatives.values, order=order, palette=colors)\n",
    "plt.xlabel(\"Satisfaction\")\n",
    "plt.title(\"Job Satisfaction\")\n",
    "\n",
    "# Aggiungi le etichette delle percentuali sulle barre\n",
    "for bar, percentage in zip(bars.patches, job_percentages):\n",
    "    height = bar.get_height()\n",
    "    ax.annotate(f'{percentage:.2f}%', xy=(bar.get_x() + bar.get_width() / 2, height),\n",
    "                xytext=(0, 3), textcoords='offset points', ha='center')"
   ]
  },
  {
   "cell_type": "code",
   "execution_count": null,
   "metadata": {
    "executionInfo": {
     "elapsed": 8846,
     "status": "aborted",
     "timestamp": 1728749526008,
     "user": {
      "displayName": "Umberto Romagnolo",
      "userId": "14928952592276304637"
     },
     "user_tz": -120
    },
    "id": "cFjdMJ2Es8rO"
   },
   "outputs": [],
   "source": [
    "# Calcola il conteggio dei dipendenti per ciascuna categoria di environment satisfaction\n",
    "conteggio_per_JobSatisfaction = hr_var_dec.groupby(\"JobSatisfaction\").size()\n",
    "\n",
    "# Crea una tabella\n",
    "tabella_conteggio_per_JobSatisfaction = pd.DataFrame(conteggio_per_JobSatisfaction, columns=[\"Conteggio Dipendenti per soddisfazione del lavoro\"])\n",
    "\n",
    "# Stampa la tabella\n",
    "print(tabella_conteggio_per_JobSatisfaction)"
   ]
  },
  {
   "cell_type": "markdown",
   "metadata": {
    "id": "gf-fjfsds8rP"
   },
   "source": [
    "### JobInvolvement"
   ]
  },
  {
   "cell_type": "code",
   "execution_count": null,
   "metadata": {
    "executionInfo": {
     "elapsed": 8844,
     "status": "aborted",
     "timestamp": 1728749526008,
     "user": {
      "displayName": "Umberto Romagnolo",
      "userId": "14928952592276304637"
     },
     "user_tz": -120
    },
    "id": "Y5WVQPG3s8rP"
   },
   "outputs": [],
   "source": [
    "# Definisci l'ordine desiderato delle categorie di coinvolgimento lavorativo\n",
    "order = ['Low', 'Medium', 'High', 'Very High']\n",
    "\n",
    "# Calcola le frequenze relative e relative percentuali\n",
    "jobInv_relatives = hr_var_dec[\"JobInvolvement\"].value_counts(normalize=True).loc[order]\n",
    "jobInv_percentages = (hr_var_dec[\"JobInvolvement\"].value_counts(normalize=True) * 100).loc[order]\n",
    "\n",
    "# Colori personalizzati\n",
    "colors = ['red', 'orange', 'yellow', 'green']\n",
    "\n",
    "# Crea l'istogramma\n",
    "fig, ax = plt.subplots()\n",
    "bars = sns.barplot(x=jobInv_relatives.index, y=jobInv_relatives.values, order=order, palette=colors)\n",
    "plt.xlabel(\"Involvement\")\n",
    "plt.title(\"Job Involvement\")\n",
    "\n",
    "# Aggiungi le etichette delle percentuali sulle barre\n",
    "for bar, percentage in zip(bars.patches, jobInv_percentages):\n",
    "    height = bar.get_height()\n",
    "    ax.annotate(f'{percentage:.2f}%', xy=(bar.get_x() + bar.get_width() / 2, height),\n",
    "                xytext=(0, 3), textcoords='offset points', ha='center')"
   ]
  },
  {
   "cell_type": "code",
   "execution_count": null,
   "metadata": {
    "executionInfo": {
     "elapsed": 8842,
     "status": "aborted",
     "timestamp": 1728749526009,
     "user": {
      "displayName": "Umberto Romagnolo",
      "userId": "14928952592276304637"
     },
     "user_tz": -120
    },
    "id": "8WOADzAQs8rQ"
   },
   "outputs": [],
   "source": [
    "# Calcola il conteggio dei dipendenti per ciascuna categoria di Job Involvement\n",
    "conteggio_per_JobInvolvement = hr_var_dec.groupby(\"JobInvolvement\").size()\n",
    "\n",
    "# Crea una tabella\n",
    "tabella_conteggio_per_JobInvolvement = pd.DataFrame(conteggio_per_JobInvolvement, columns=[\"Conteggio Dipendenti per coinvolgimento lavorativo\"])\n",
    "\n",
    "# Stampa la tabella\n",
    "print(tabella_conteggio_per_JobInvolvement)"
   ]
  },
  {
   "cell_type": "markdown",
   "metadata": {
    "id": "y7aNSCNAs8rQ"
   },
   "source": [
    "### PerformanceRating"
   ]
  },
  {
   "cell_type": "code",
   "execution_count": null,
   "metadata": {
    "executionInfo": {
     "elapsed": 8840,
     "status": "aborted",
     "timestamp": 1728749526009,
     "user": {
      "displayName": "Umberto Romagnolo",
      "userId": "14928952592276304637"
     },
     "user_tz": -120
    },
    "id": "q6oAxf8js8rQ"
   },
   "outputs": [],
   "source": [
    "hr_var_dec['PerformanceRating'].head()"
   ]
  },
  {
   "cell_type": "code",
   "execution_count": null,
   "metadata": {
    "executionInfo": {
     "elapsed": 8838,
     "status": "aborted",
     "timestamp": 1728749526009,
     "user": {
      "displayName": "Umberto Romagnolo",
      "userId": "14928952592276304637"
     },
     "user_tz": -120
    },
    "id": "Mp0LqoHWs8rQ"
   },
   "outputs": [],
   "source": [
    "# Definisci l'ordine desiderato delle categorie di coinvolgimento lavorativo\n",
    "order = ['Excellent', 'Outstanding']\n",
    "\n",
    "# Calcola le frequenze relative e relative percentuali\n",
    "jobInv_relatives = hr_var_dec[\"PerformanceRating\"].value_counts(normalize=True).loc[order]\n",
    "jobInv_percentages = (hr_var_dec[\"PerformanceRating\"].value_counts(normalize=True) * 100).loc[order]\n",
    "\n",
    "# Colori personalizzati\n",
    "colors = ['yellow', 'green']\n",
    "\n",
    "# Crea l'istogramma\n",
    "fig, ax = plt.subplots()\n",
    "bars = sns.barplot(x=jobInv_relatives.index, y=jobInv_relatives.values, order=order, palette=colors)\n",
    "plt.xlabel(\"Performance\")\n",
    "plt.title(\"Performance Rating\")\n",
    "\n",
    "# Aggiungi le etichette delle percentuali sulle barre\n",
    "for bar, percentage in zip(bars.patches, jobInv_percentages):\n",
    "    height = bar.get_height()\n",
    "    ax.annotate(f'{percentage:.2f}%', xy=(bar.get_x() + bar.get_width() / 2, height),\n",
    "                xytext=(0, 3), textcoords='offset points', ha='center')"
   ]
  },
  {
   "cell_type": "code",
   "execution_count": null,
   "metadata": {
    "executionInfo": {
     "elapsed": 8835,
     "status": "aborted",
     "timestamp": 1728749526009,
     "user": {
      "displayName": "Umberto Romagnolo",
      "userId": "14928952592276304637"
     },
     "user_tz": -120
    },
    "id": "xajipGG0s8rR"
   },
   "outputs": [],
   "source": [
    "# Calcola il conteggio dei dipendenti per ciascuna categoria di Job Involvement\n",
    "conteggio_per_PerformanceRating = hr_var_dec.groupby(\"PerformanceRating\").size()\n",
    "\n",
    "# Crea una tabella\n",
    "tabella_conteggio_per_PerformanceRating = pd.DataFrame(conteggio_per_PerformanceRating, columns=[\"Conteggio Dipendenti per valutazione delle prestazioni per l'anno scorso\"])\n",
    "\n",
    "# Stampa la tabella\n",
    "print(tabella_conteggio_per_PerformanceRating)"
   ]
  },
  {
   "cell_type": "markdown",
   "metadata": {
    "id": "_0rh6NQDs8rR"
   },
   "source": [
    "## Matrice di correlazione dei dati quantitativi"
   ]
  },
  {
   "cell_type": "code",
   "execution_count": null,
   "metadata": {
    "executionInfo": {
     "elapsed": 8832,
     "status": "aborted",
     "timestamp": 1728749526009,
     "user": {
      "displayName": "Umberto Romagnolo",
      "userId": "14928952592276304637"
     },
     "user_tz": -120
    },
    "id": "gli2z0ons8rR"
   },
   "outputs": [],
   "source": [
    "# Dataframe con soli variabili numeriche\n",
    "hr_num=hr[['Attrition','Nr Ore','Age','DistanceFromHome','MonthlyIncome', 'NumCompaniesWorked', 'PercentSalaryHike',\n",
    "       'StockOptionLevel', 'TotalWorkingYears', 'TrainingTimesLastYear','YearsAtCompany',\n",
    "       'YearsSinceLastPromotion', 'YearsWithCurrManager']]"
   ]
  },
  {
   "cell_type": "code",
   "execution_count": null,
   "metadata": {
    "executionInfo": {
     "elapsed": 8828,
     "status": "aborted",
     "timestamp": 1728749526009,
     "user": {
      "displayName": "Umberto Romagnolo",
      "userId": "14928952592276304637"
     },
     "user_tz": -120
    },
    "id": "oS41WuCVs8rS"
   },
   "outputs": [],
   "source": [
    "# Conversione della variabile \"Attrition\" in formato numerico\n",
    "hr_num['Attrition'] = hr_num['Attrition'].map({'No': 0, 'Yes': 1})"
   ]
  },
  {
   "cell_type": "code",
   "execution_count": null,
   "metadata": {
    "executionInfo": {
     "elapsed": 8826,
     "status": "aborted",
     "timestamp": 1728749526009,
     "user": {
      "displayName": "Umberto Romagnolo",
      "userId": "14928952592276304637"
     },
     "user_tz": -120
    },
    "id": "p0HVJWYIs8rS"
   },
   "outputs": [],
   "source": [
    "# Mappa di calore (heatmap) della matrice di correlazione\n",
    "plt.figure(figsize=(20, 8))\n",
    "sns.heatmap(hr_num.corr(), annot = True, cmap=\"Accent\", fmt='.2f')\n",
    "plt.title('Matrice di Correlazione')\n",
    "plt.show()"
   ]
  },
  {
   "cell_type": "markdown",
   "metadata": {
    "id": "20vIF6-as8rS"
   },
   "source": [
    "Osservando la matrice di correlazione, si possono identificare le variabili esplicative che mostrano una forte correlazione con la variabile risposta. Queste variabili possono essere candidate importanti per l'analisi successiva e possono richiedere ulteriori esplorazioni o analisi più approfondite per comprendere meglio la loro relazione con la variabile risposta.\n",
    "\n",
    "Tuttavia, è importante notare che la correlazione non implica necessariamente una relazione di causa-effetto tra le variabili."
   ]
  },
  {
   "cell_type": "code",
   "execution_count": null,
   "metadata": {
    "executionInfo": {
     "elapsed": 8823,
     "status": "aborted",
     "timestamp": 1728749526009,
     "user": {
      "displayName": "Umberto Romagnolo",
      "userId": "14928952592276304637"
     },
     "user_tz": -120
    },
    "id": "oWWu2zdOs8rT"
   },
   "outputs": [],
   "source": [
    "# Lista delle variabili numeriche da testare\n",
    "variabili_esplicative = ['Nr Ore','Age','DistanceFromHome','MonthlyIncome', 'NumCompaniesWorked', 'PercentSalaryHike',\n",
    "                            'StockOptionLevel', 'TotalWorkingYears', 'TrainingTimesLastYear','YearsAtCompany',\n",
    "                            'YearsSinceLastPromotion', 'YearsWithCurrManager']\n",
    "\n",
    "# Lista per tenere traccia delle variabili significative\n",
    "variabili_significative = []\n",
    "\n",
    "# Calcola il test t per ciascuna variabile\n",
    "for variabile in variabili_esplicative:\n",
    "    attrition_yes = hr[hr['Attrition'] == 'Yes'][variabile]\n",
    "    attrition_no = hr[hr['Attrition'] == 'No'][variabile]\n",
    "    t_statistic, p_value = stats.ttest_ind(attrition_yes, attrition_no)\n",
    "\n",
    "    # Verifica la significatività con un valore di soglia (ad esempio, 0.05)\n",
    "    if p_value < 0.05:\n",
    "        variabili_significative.append(variabile)\n",
    "\n",
    "# Costruisci la frase risultante\n",
    "risultato = \"Le seguenti variabili esplicative numeriche risultano significative: \" + \", \".join(variabili_significative)\n",
    "\n",
    "# Stampa il risultato\n",
    "print(risultato)\n"
   ]
  },
  {
   "cell_type": "markdown",
   "metadata": {
    "id": "5XVCE4URs8rT"
   },
   "source": [
    "Anche dai t-test di ciascuna variabile esplicativa con la variabile risposta Attrition le variabili esplicative che risultano significative sono:\n",
    "\n",
    "Age - MonthlyIncome - NumCompaniesWorked - PercentSalaryHike - TotalWorkingYears - TrainingTimesLastYears - YearsAtCompany - YearsSinceLastPromotion - YearsWithCurrManager\n",
    "\n",
    "Data l'ipotesi nulla che le due distribuzioni siano uguali il p value molto piccolo suggerisce che c'è una differenza statisticamente significativa nella variabile esplicativa tra i gruppi con Attrition = 'Yes' e Attrition = 'No'. Si può dunque affermare che le due distribuzioni sono significativamente diverse.\n",
    "\n",
    "Questo risultato suggerisce che le varibili sopra elencate potrebbero essere un fattore importante da considerare nell'analisi dell'attrition e potrebbero essere utili per comprendere meglio i motivi per cui i dipendenti lasciano l'azienda."
   ]
  },
  {
   "cell_type": "markdown",
   "metadata": {
    "id": "c_GNNkMSs8rT"
   },
   "source": [
    "## Attrition & Age"
   ]
  },
  {
   "cell_type": "code",
   "execution_count": null,
   "metadata": {
    "executionInfo": {
     "elapsed": 8821,
     "status": "aborted",
     "timestamp": 1728749526009,
     "user": {
      "displayName": "Umberto Romagnolo",
      "userId": "14928952592276304637"
     },
     "user_tz": -120
    },
    "id": "oxae8aRLs8rT"
   },
   "outputs": [],
   "source": [
    "# Filtra i dati per Attrition = 'Yes' e 'No'\n",
    "attrition_yes = hr[hr['Attrition'] == 'Yes']\n",
    "attrition_no = hr[hr['Attrition'] == 'No']\n",
    "\n",
    "# Calcola la frequenza dei valori di TrainingTimesLastYear per Attrition = 'Yes'\n",
    "training_counts_yes = attrition_yes['Age'].value_counts().sort_index()\n",
    "\n",
    "# Calcola la frequenza dei valori di TrainingTimesLastYear per Attrition = 'No'\n",
    "training_counts_no = attrition_no['Age'].value_counts().sort_index()\n",
    "\n",
    "# Crea una griglia di plot con 1 riga e 2 colonne\n",
    "fig, axes = plt.subplots(nrows=1, ncols=2, figsize=(10, 5))\n",
    "\n",
    "# Crea il primo grafico a barre per Attrition = 'Yes'\n",
    "axes[0].bar(training_counts_yes.index, training_counts_yes.values)\n",
    "axes[0].set_title('Distribuzione dell\\'Età dei Dipendenti - Attrition = Yes')\n",
    "axes[0].set_xlabel('Age')\n",
    "axes[0].set_ylabel('Frequency')\n",
    "\n",
    "# Crea il secondo grafico a barre per Attrition = 'No'\n",
    "axes[1].bar(training_counts_no.index, training_counts_no.values)\n",
    "axes[1].set_title('Distribuzione dell\\'Età dei Dipendenti = No')\n",
    "axes[1].set_xlabel('Age')\n",
    "axes[1].set_ylabel('Frequency')\n",
    "\n",
    "# Regola lo spaziamento tra i grafici\n",
    "plt.tight_layout()\n",
    "\n",
    "# Visualizza i grafici affiancati\n",
    "plt.show()\n"
   ]
  },
  {
   "cell_type": "code",
   "execution_count": null,
   "metadata": {
    "executionInfo": {
     "elapsed": 8819,
     "status": "aborted",
     "timestamp": 1728749526009,
     "user": {
      "displayName": "Umberto Romagnolo",
      "userId": "14928952592276304637"
     },
     "user_tz": -120
    },
    "id": "sqgaCgmYs8rU"
   },
   "outputs": [],
   "source": [
    "plt.figure(figsize=(8, 8))\n",
    "\n",
    "# Violin plot\n",
    "ax = sns.violinplot(y='Age', x='Attrition', data=hr, inner='box')\n",
    "\n",
    "# Calcola media e deviazione standard\n",
    "means = hr.groupby('Attrition')['Age'].mean()\n",
    "stds = hr.groupby('Attrition')['Age'].std()\n",
    "\n",
    "# Colore per media e deviazione standard\n",
    "colors = ['black', 'black']\n",
    "\n",
    "for i, attrition in enumerate(means.index):\n",
    "    ax.text(i, 6.5, f'Mean: {means.values[i]:.2f}', ha='center', color=colors[i])\n",
    "    ax.text(i, 4.5, f'Std: {stds.values[i]:.2f}', ha='center', color=colors[i])\n",
    "    ax.scatter([], [], color=colors[i])\n",
    "\n",
    "plt.show()"
   ]
  },
  {
   "cell_type": "markdown",
   "metadata": {
    "id": "7gU8FiWLs8rU"
   },
   "source": [
    "Il grafico a violino mostra la distribuzione dell'età dei dipendenti divisi in base all'attrition. La forma del violino rappresenta la densità di probabilità della distribuzione dell'età. La parte più ampia del violino indica la regione in cui si concentra la maggior parte dei dati, mentre la parte più stretta indica la regione in cui si concentra una minore quantità di dati.\n",
    "Inoltre, il grafico a violino è diviso in due parti, una per i dipendenti che hanno lasciato l'azienda (Attrition = Yes) e una per quelli che non l'hanno fatto (Attrition = No). In questo modo, è possibile confrontare la distribuzione dell'età tra i due gruppi di dipendenti e vedere se ci sono differenze significative.\n",
    "In questo caso la parte più ampia del violino per i dipendenti con Attrition = Yes è spostata verso il basso rispetto a quella per i dipendenti con Attrition = No, ciò potrebbe indicare che i dipendenti più giovani tendono a lasciare l'azienda più facilmente."
   ]
  },
  {
   "cell_type": "code",
   "execution_count": null,
   "metadata": {
    "executionInfo": {
     "elapsed": 8816,
     "status": "aborted",
     "timestamp": 1728749526009,
     "user": {
      "displayName": "Umberto Romagnolo",
      "userId": "14928952592276304637"
     },
     "user_tz": -120
    },
    "id": "2nr6kmRis8rU"
   },
   "outputs": [],
   "source": [
    "from sklearn.cluster import KMeans\n",
    "\n",
    "# Estrai le colonne Attrition e Age dal DataFrame hr_num\n",
    "X = hr_num[['Attrition', 'Age']].values\n",
    "\n",
    "# Inizializza una lista per salvare le inertia per ogni valore di n_clusters\n",
    "inertia_values = []\n",
    "\n",
    "# Prova diversi valori di n_clusters e calcola l'inertia per ognuno\n",
    "for k in range(1, 10):\n",
    "    kmeans = KMeans(n_clusters=k, random_state=42)\n",
    "    kmeans.fit(X)\n",
    "    inertia_values.append(kmeans.inertia_)\n",
    "\n",
    "# Plotta il grafico del metodo del gomito\n",
    "plt.plot(range(1, 10), inertia_values, marker='o')\n",
    "plt.xlabel('Numero di Clusters')\n",
    "plt.ylabel('Inertia')\n",
    "plt.title('Metodo del Gomito')\n",
    "plt.show()"
   ]
  },
  {
   "cell_type": "markdown",
   "metadata": {
    "id": "olpwBqo4s8rV"
   },
   "source": [
    "Il metodo del gomito suggerisce di classificare le età in tre classi"
   ]
  },
  {
   "cell_type": "code",
   "execution_count": null,
   "metadata": {
    "executionInfo": {
     "elapsed": 8814,
     "status": "aborted",
     "timestamp": 1728749526009,
     "user": {
      "displayName": "Umberto Romagnolo",
      "userId": "14928952592276304637"
     },
     "user_tz": -120
    },
    "id": "yT2y08I0s8rV"
   },
   "outputs": [],
   "source": [
    "# Crea l'istanza del modello K-means\n",
    "kmeans = KMeans(n_clusters=3, random_state=42)\n",
    "\n",
    "# Addestra il modello sui dati dell'età\n",
    "kmeans.fit(X)\n",
    "\n",
    "# Assegna le etichette di cluster ai dipendenti\n",
    "hr['Cluster'] = kmeans.labels_\n",
    "\n",
    "# Calcola i valori minimi e massimi degli intervalli di età per ogni cluster\n",
    "age_ranges = []\n",
    "for cluster_id in range(3):\n",
    "    age_values = hr.loc[hr['Cluster'] == cluster_id, 'Age']\n",
    "    age_min = age_values.min()\n",
    "    age_max = age_values.max()\n",
    "    age_range = f\"{age_min} - {age_max}\"\n",
    "    age_ranges.append(age_range)\n",
    "\n",
    "print(age_ranges)"
   ]
  },
  {
   "cell_type": "code",
   "execution_count": null,
   "metadata": {
    "executionInfo": {
     "elapsed": 8812,
     "status": "aborted",
     "timestamp": 1728749526009,
     "user": {
      "displayName": "Umberto Romagnolo",
      "userId": "14928952592276304637"
     },
     "user_tz": -120
    },
    "id": "puDFl-Dms8rV"
   },
   "outputs": [],
   "source": [
    "# Definisci gli estremi degli intervalli di età (inclusi -> right=True)\n",
    "intervalli_eta = [(18, 33), (34, 44), (45,60)]\n",
    "\n",
    "hr['EtaIntervallo'] = pd.cut(hr['Age'], bins=[intervallo[0] for intervallo in intervalli_eta] + [intervalli_eta[-1][1] + 1],\n",
    "                        labels=[f\"{intervallo[0]}-{intervallo[1]}\" for intervallo in intervalli_eta], right=True)"
   ]
  },
  {
   "cell_type": "code",
   "execution_count": null,
   "metadata": {
    "executionInfo": {
     "elapsed": 8810,
     "status": "aborted",
     "timestamp": 1728749526009,
     "user": {
      "displayName": "Umberto Romagnolo",
      "userId": "14928952592276304637"
     },
     "user_tz": -120
    },
    "id": "uAxAxlP_s8rV"
   },
   "outputs": [],
   "source": [
    "plt.figure(figsize=(8,10))\n",
    "ax = sns.countplot(x='EtaIntervallo', data=hr, hue=\"Attrition\")\n",
    "ax.set_ylabel('# of Employee')\n",
    "bars = ax.patches\n",
    "half = int(len(bars)/2)\n",
    "left_bars = bars[:half]\n",
    "right_bars = bars[half:]\n",
    "\n",
    "for left, right in zip(left_bars, right_bars):\n",
    "    height_l = left.get_height()\n",
    "    height_r = right.get_height()\n",
    "    total = height_l + height_r\n",
    "\n",
    "    ax.text(left.get_x() + left.get_width()/2., height_l + 30, '{0:.0%}'.format(height_l/total), ha=\"center\")\n",
    "    ax.text(right.get_x() + right.get_width()/2., height_r + 40, '{0:.0%}'.format(height_r/total), ha=\"center\")"
   ]
  },
  {
   "cell_type": "markdown",
   "metadata": {
    "id": "fHLgFOcls8rW"
   },
   "source": [
    "Dal grafico a barre si riscontra che, per ogni ripartizione rispetto alle classi di età, la percentuale dei dipendenti che ha lasciato lo scorso anno è  minore rispetto alla percentuale di chi è rimasto.\n",
    "\n",
    "- Il 23% di chi ha abbandonato l'azienda lo scorso anno rientra nella classe di età 18-33.\n",
    "- Il 12% di chi ha abbandonato l'azienda lo scorso anno rientra nella classe di età 45-60.\n",
    "- Il 10% di chi ha abbandonato l'azienda lo scorso anno rientra nella classe di età 34-44.\n"
   ]
  },
  {
   "cell_type": "code",
   "execution_count": null,
   "metadata": {
    "executionInfo": {
     "elapsed": 8808,
     "status": "aborted",
     "timestamp": 1728749526009,
     "user": {
      "displayName": "Umberto Romagnolo",
      "userId": "14928952592276304637"
     },
     "user_tz": -120
    },
    "id": "BSqi5GRrs8rW"
   },
   "outputs": [],
   "source": [
    "# Calcola la tabella di frequenza percentuali per colonna\n",
    "table = pd.crosstab(hr['EtaIntervallo'], hr['Attrition'], normalize='columns') * 100\n",
    "\n",
    "# Stampa la tabella di frequenza\n",
    "print(table)"
   ]
  },
  {
   "cell_type": "markdown",
   "metadata": {
    "id": "EOfbxi2es8rW"
   },
   "source": [
    "A ulteriore conferma di quanto visto dai grafici si veda la tabella a doppia entrata. Questa risalta che, tra i dipendenti che hanno abbandonato lo scorso anno, il 63% ha un età compresa tra i 18 ed i 33 anni. La seconda percentuale più alta, il 22%, è di chi ha un età compresa tra i 34 ed i 44 anni."
   ]
  },
  {
   "cell_type": "code",
   "execution_count": null,
   "metadata": {
    "executionInfo": {
     "elapsed": 8806,
     "status": "aborted",
     "timestamp": 1728749526009,
     "user": {
      "displayName": "Umberto Romagnolo",
      "userId": "14928952592276304637"
     },
     "user_tz": -120
    },
    "id": "_nA6Wgnks8rX"
   },
   "outputs": [],
   "source": [
    "# Filtra i dati per Attrition 'Yes' e 'No'\n",
    "attrition_yes = hr[hr['Attrition'] == 'Yes']\n",
    "attrition_no = hr[hr['Attrition'] == 'No']\n",
    "\n",
    "# Esegui il test t indipendente tra i due gruppi\n",
    "t_statistic, p_value = stats.ttest_ind(attrition_yes['Age'], attrition_no['Age'])\n",
    "\n",
    "# Stampa il risultato del test\n",
    "alpha = 0.05\n",
    "if p_value < alpha:\n",
    "    print(\"La differenza nell'età tra i gruppi di Attrition è statisticamente significativa.\")\n",
    "else:\n",
    "    print(\"Non vi è evidenza di una differenza significativa nell'età tra i gruppi di Attrition.\")"
   ]
  },
  {
   "cell_type": "markdown",
   "metadata": {
    "id": "MYNB5LS5s8rX"
   },
   "source": [
    "Anche il risutato che si ottiene dal t-test è in linea con quanto osservato in precedenza; sia con alpha = 0.05 che con alpha = 0.01"
   ]
  },
  {
   "cell_type": "markdown",
   "metadata": {
    "id": "NkOaN_Iis8rX"
   },
   "source": [
    "## Attrition & MonthlyIncome"
   ]
  },
  {
   "cell_type": "code",
   "execution_count": null,
   "metadata": {
    "executionInfo": {
     "elapsed": 8804,
     "status": "aborted",
     "timestamp": 1728749526009,
     "user": {
      "displayName": "Umberto Romagnolo",
      "userId": "14928952592276304637"
     },
     "user_tz": -120
    },
    "id": "lNPN2EiWs8rX"
   },
   "outputs": [],
   "source": [
    "# Tasso di cambio rupie-euro\n",
    "tasso_cambio = 0.011  # Esempio: 1 rupia = 0.011 euro\n",
    "\n",
    "# Converti i valori di MonthlyIncome in euro\n",
    "hr['MonthlyIncome_Euro'] = hr['MonthlyIncome'] * tasso_cambio\n",
    "hr_num['MonthlyIncome_Euro'] = hr_num['MonthlyIncome'] * tasso_cambio"
   ]
  },
  {
   "cell_type": "code",
   "execution_count": null,
   "metadata": {
    "executionInfo": {
     "elapsed": 8802,
     "status": "aborted",
     "timestamp": 1728749526009,
     "user": {
      "displayName": "Umberto Romagnolo",
      "userId": "14928952592276304637"
     },
     "user_tz": -120
    },
    "id": "9zAh2epTs8rX"
   },
   "outputs": [],
   "source": [
    "# Filtra i dati per Attrition = 'Yes' e 'No'\n",
    "attrition_yes = hr[hr['Attrition'] == 'Yes']\n",
    "attrition_no = hr[hr['Attrition'] == 'No']\n",
    "\n",
    "# Crea una griglia di plot con 1 riga e 2 colonne\n",
    "fig, axes = plt.subplots(nrows=1, ncols=2, figsize=(10, 5))\n",
    "\n",
    "# Crea il primo istogramma per Attrition = 'Yes'\n",
    "axes[0].hist(attrition_yes['MonthlyIncome_Euro'], bins=10, edgecolor='black', alpha=0.5)\n",
    "axes[0].set_title('Distribuzione del Reddito - Attrition = Yes')\n",
    "axes[0].set_xlabel('MonthlyIncome_Euro')\n",
    "axes[0].set_ylabel('Frequency')\n",
    "\n",
    "# Crea il secondo istogramma per Attrition = 'No'\n",
    "axes[1].hist(attrition_no['MonthlyIncome_Euro'], bins=10, edgecolor='black', alpha=0.5)\n",
    "axes[1].set_title('Distribuzione del Reddito - Attrition = No')\n",
    "axes[1].set_xlabel('MonthlyIncome_Euro')\n",
    "axes[1].set_ylabel('Frequency')\n",
    "\n",
    "# Regola lo spaziamento tra i grafici\n",
    "plt.tight_layout()\n",
    "\n",
    "# Visualizza i grafici affiancati\n",
    "plt.show()"
   ]
  },
  {
   "cell_type": "code",
   "execution_count": null,
   "metadata": {
    "executionInfo": {
     "elapsed": 8800,
     "status": "aborted",
     "timestamp": 1728749526009,
     "user": {
      "displayName": "Umberto Romagnolo",
      "userId": "14928952592276304637"
     },
     "user_tz": -120
    },
    "id": "O6cQ6w8As8rY"
   },
   "outputs": [],
   "source": [
    "plt.figure(figsize=(8, 8))\n",
    "\n",
    "# Violin plot\n",
    "ax = sns.violinplot(y='MonthlyIncome_Euro', x='Attrition', data=hr, inner='box')\n",
    "\n",
    "# Calcola media e deviazione standard\n",
    "means = hr.groupby('Attrition')['MonthlyIncome_Euro'].mean()\n",
    "stds = hr.groupby('Attrition')['MonthlyIncome_Euro'].std()\n",
    "\n",
    "# Colore per media e deviazione standard\n",
    "colors = ['black', 'black']\n",
    "\n",
    "for i, attrition in enumerate(means.index):\n",
    "    ax.text(i, -500, f'Mean: {means.values[i]:.2f}', ha='center', color=colors[i])\n",
    "    ax.text(i, -600, f'Std: {stds.values[i]:.2f}', ha='center', color=colors[i])\n",
    "    ax.scatter([], [], color=colors[i])\n",
    "\n",
    "plt.show()"
   ]
  },
  {
   "cell_type": "code",
   "execution_count": null,
   "metadata": {
    "executionInfo": {
     "elapsed": 8796,
     "status": "aborted",
     "timestamp": 1728749526009,
     "user": {
      "displayName": "Umberto Romagnolo",
      "userId": "14928952592276304637"
     },
     "user_tz": -120
    },
    "id": "Pm6wW7UYs8rY"
   },
   "outputs": [],
   "source": [
    "# Estrai le colonne Attrition e MonthlyIncome_Euro dal DataFrame hr_num\n",
    "X = hr_num[['Attrition', 'MonthlyIncome_Euro']].values\n",
    "\n",
    "# Inizializza una lista per salvare le inertia per ogni valore di n_clusters\n",
    "inertia_values = []\n",
    "\n",
    "# Prova diversi valori di n_clusters e calcola l'inertia per ognuno\n",
    "for k in range(1, 10):\n",
    "    kmeans = KMeans(n_clusters=k, random_state=42)\n",
    "    kmeans.fit(X)\n",
    "    inertia_values.append(kmeans.inertia_)\n",
    "\n",
    "# Plotta il grafico del metodo del gomito\n",
    "plt.plot(range(1, 10), inertia_values, marker='o')\n",
    "plt.xlabel('Numero di Clusters')\n",
    "plt.ylabel('Inertia')\n",
    "plt.title('Metodo del Gomito')\n",
    "plt.show()"
   ]
  },
  {
   "cell_type": "markdown",
   "metadata": {
    "id": "eIqg-ksls8rY"
   },
   "source": [
    "Il metodo del gomito suggerisce di classificare MonthlyIncome_Euro in tre classi"
   ]
  },
  {
   "cell_type": "code",
   "execution_count": null,
   "metadata": {
    "executionInfo": {
     "elapsed": 8794,
     "status": "aborted",
     "timestamp": 1728749526009,
     "user": {
      "displayName": "Umberto Romagnolo",
      "userId": "14928952592276304637"
     },
     "user_tz": -120
    },
    "id": "sYdBNHbks8rZ"
   },
   "outputs": [],
   "source": [
    "# Crea l'istanza del modello K-means\n",
    "kmeans = KMeans(n_clusters=3, random_state=42)\n",
    "\n",
    "# Addestra il modello sui dati MonthlyIncome_Euro\n",
    "kmeans.fit(X)\n",
    "\n",
    "# Assegna le etichette di cluster ai dipendenti\n",
    "hr_num['Cluster'] = kmeans.labels_\n",
    "\n",
    "# Calcola i valori minimi e massimi di MonthlyIncome_Euro per ogni cluster\n",
    "MonthlyIncome_Euro_ranges = []\n",
    "for cluster_id in range(3):\n",
    "    MonthlyIncome_Euro_values = hr_num.loc[hr_num['Cluster'] == cluster_id, 'MonthlyIncome_Euro']\n",
    "    MonthlyIncome_Euro_min = MonthlyIncome_Euro_values.min()\n",
    "    MonthlyIncome_Euro_max = MonthlyIncome_Euro_values.max()\n",
    "    MonthlyIncome_Euro_range = f\"{MonthlyIncome_Euro_min} - {MonthlyIncome_Euro_max}\"\n",
    "    MonthlyIncome_Euro_ranges.append(MonthlyIncome_Euro_range)\n",
    "\n",
    "print(MonthlyIncome_Euro_ranges)"
   ]
  },
  {
   "cell_type": "markdown",
   "metadata": {
    "id": "0-vmBC6Fs8rZ"
   },
   "source": [
    "Data la distribuzione dei valori di 'MonthlyIncome_Euro' molto eterogenea all'interno di ciascun cluster, è possibile osservare intervalli non continui. Questo potrebbe essere il risultato di una variazione significativa nel reddito mensile dei dipendenti all'interno di ciascun cluster."
   ]
  },
  {
   "cell_type": "code",
   "execution_count": null,
   "metadata": {
    "executionInfo": {
     "elapsed": 8791,
     "status": "aborted",
     "timestamp": 1728749526009,
     "user": {
      "displayName": "Umberto Romagnolo",
      "userId": "14928952592276304637"
     },
     "user_tz": -120
    },
    "id": "-E-1x2Eus8rZ"
   },
   "outputs": [],
   "source": [
    "# Visualizza la distribuzione di 'MonthlyIncome_Euro' per ciascun cluster\n",
    "plt.figure(figsize=(8, 6))\n",
    "sns.boxplot(x='Cluster', y='MonthlyIncome_Euro', data=hr_num)\n",
    "plt.xlabel('Cluster')\n",
    "plt.ylabel('MonthlyIncome_Euro')\n",
    "plt.title('Distribuzione di MonthlyIncome_Euro per Cluster')\n",
    "plt.show()"
   ]
  },
  {
   "cell_type": "markdown",
   "metadata": {
    "id": "VSgZrd6vs8rZ"
   },
   "source": [
    "Ogni box rappresenta la distribuzione dei valori all'interno di un cluster, con la linea orizzontale nel mezzo che indica la mediana, la parte inferiore del rettangolo che indica il primo quartile (25%) e la parte superiore del rettangolo che indica il terzo quartile (75%). È evidente un \"salto\" di reddito che giustifica la discontinuità degli intervalli ottenuti."
   ]
  },
  {
   "cell_type": "code",
   "execution_count": null,
   "metadata": {
    "executionInfo": {
     "elapsed": 8789,
     "status": "aborted",
     "timestamp": 1728749526009,
     "user": {
      "displayName": "Umberto Romagnolo",
      "userId": "14928952592276304637"
     },
     "user_tz": -120
    },
    "id": "Vv__90_xs8ra"
   },
   "outputs": [],
   "source": [
    "# Definisci gli estremi di MonthlyIncome_Euro (inclusi -> right=True)\n",
    "intervalli_eta = [(110, 665), (666, 1400), (1401, 2200)]\n",
    "\n",
    "hr_num['MonthlyIncome_Euro'] = pd.cut(hr_num['MonthlyIncome_Euro'], bins=[intervallo[0] for intervallo in intervalli_eta] + [intervalli_eta[-1][1] + 1],\n",
    "                        labels=[f\"{intervallo[0]}-{intervallo[1]}\" for intervallo in intervalli_eta], right=True)"
   ]
  },
  {
   "cell_type": "code",
   "execution_count": null,
   "metadata": {
    "executionInfo": {
     "elapsed": 8786,
     "status": "aborted",
     "timestamp": 1728749526009,
     "user": {
      "displayName": "Umberto Romagnolo",
      "userId": "14928952592276304637"
     },
     "user_tz": -120
    },
    "id": "Z-IMLbzSs8ra"
   },
   "outputs": [],
   "source": [
    "plt.figure(figsize=(8,10))\n",
    "ax = sns.countplot(x='MonthlyIncome_Euro', data=hr_num, hue=\"Attrition\")\n",
    "ax.set_ylabel('# of Employee')\n",
    "bars = ax.patches\n",
    "half = int(len(bars)/2)\n",
    "left_bars = bars[:half]\n",
    "right_bars = bars[half:]\n",
    "\n",
    "for left, right in zip(left_bars, right_bars):\n",
    "    height_l = left.get_height()\n",
    "    height_r = right.get_height()\n",
    "    total = height_l + height_r\n",
    "\n",
    "    ax.text(left.get_x() + left.get_width()/2., height_l + 30, '{0:.0%}'.format(height_l/total), ha=\"center\")\n",
    "    ax.text(right.get_x() + right.get_width()/2., height_r + 40, '{0:.0%}'.format(height_r/total), ha=\"center\")"
   ]
  },
  {
   "cell_type": "code",
   "execution_count": null,
   "metadata": {
    "executionInfo": {
     "elapsed": 8784,
     "status": "aborted",
     "timestamp": 1728749526009,
     "user": {
      "displayName": "Umberto Romagnolo",
      "userId": "14928952592276304637"
     },
     "user_tz": -120
    },
    "id": "b_H9zRZ1s8ra"
   },
   "outputs": [],
   "source": [
    "# Filtra i dati per Attrition 'Yes' e 'No'\n",
    "attrition_yes = hr[hr['Attrition'] == 'Yes']\n",
    "attrition_no = hr[hr['Attrition'] == 'No']\n",
    "\n",
    "# Esegui il test t indipendente tra i due gruppi\n",
    "t_statistic, p_value = stats.ttest_ind(attrition_yes['MonthlyIncome_Euro'], attrition_no['MonthlyIncome_Euro'])\n",
    "\n",
    "# Stampa il risultato del test\n",
    "alpha = 0.01\n",
    "if p_value < alpha:\n",
    "    print(\"La differenza nel reddito mensile tra i gruppi di Attrition è statisticamente significativa.\")\n",
    "else:\n",
    "    print(\"Non vi è evidenza di una differenza significativa nel reddito mensile tra i gruppi di Attrition.\")"
   ]
  },
  {
   "cell_type": "markdown",
   "metadata": {
    "id": "7iYz5YGbs8ra"
   },
   "source": [
    "Dall'osservazione degli istogrammi e del violin plot sembra che non ci sia differenza tra i gruppi per Attrition = 'Yes' e 'No'.\n",
    "Il t-test invece riporta un risultato differente. È possibile quindi che il reddito mensile non sia molto significativo. Infatti, eseguendo il t-test con un alpha = 0.01 si ottiene che non vi è evidenza di una differenza significativa nel reddito mensile tra i gruppi di Attrition."
   ]
  },
  {
   "cell_type": "markdown",
   "metadata": {
    "id": "4uUVw56rs8rb"
   },
   "source": [
    "## Attrition & NumCompaniesWorked"
   ]
  },
  {
   "cell_type": "code",
   "execution_count": null,
   "metadata": {
    "executionInfo": {
     "elapsed": 8781,
     "status": "aborted",
     "timestamp": 1728749526009,
     "user": {
      "displayName": "Umberto Romagnolo",
      "userId": "14928952592276304637"
     },
     "user_tz": -120
    },
    "id": "g581LDRgs8rb"
   },
   "outputs": [],
   "source": [
    "# Filtra i dati per Attrition = 'Yes' e 'No'\n",
    "attrition_yes = hr[hr['Attrition'] == 'Yes']\n",
    "attrition_no = hr[hr['Attrition'] == 'No']\n",
    "\n",
    "# Calcola la frequenza dei valori di TrainingTimesLastYear per Attrition = 'Yes'\n",
    "training_counts_yes = attrition_yes['NumCompaniesWorked'].value_counts().sort_index()\n",
    "\n",
    "# Calcola la frequenza dei valori di TrainingTimesLastYear per Attrition = 'No'\n",
    "training_counts_no = attrition_no['NumCompaniesWorked'].value_counts().sort_index()\n",
    "\n",
    "# Crea una griglia di plot con 1 riga e 2 colonne\n",
    "fig, axes = plt.subplots(nrows=1, ncols=2, figsize=(10, 5))\n",
    "\n",
    "# Crea il primo grafico a barre per Attrition = 'Yes'\n",
    "axes[0].bar(training_counts_yes.index, training_counts_yes.values)\n",
    "axes[0].set_title('Distribuzione NumCompaniesWorked - Attrition = Yes')\n",
    "axes[0].set_xlabel('NumCompaniesWorked')\n",
    "axes[0].set_ylabel('Frequency')\n",
    "\n",
    "# Crea il secondo grafico a barre per Attrition = 'No'\n",
    "axes[1].bar(training_counts_no.index, training_counts_no.values)\n",
    "axes[1].set_title('Distribuzione NumCompaniesWorked - Attrition = No')\n",
    "axes[1].set_xlabel('NumCompaniesWorked')\n",
    "axes[1].set_ylabel('Frequency')\n",
    "\n",
    "# Regola lo spaziamento tra i grafici\n",
    "plt.tight_layout()\n",
    "\n",
    "# Visualizza i grafici affiancati\n",
    "plt.show()\n"
   ]
  },
  {
   "cell_type": "code",
   "execution_count": null,
   "metadata": {
    "executionInfo": {
     "elapsed": 8779,
     "status": "aborted",
     "timestamp": 1728749526009,
     "user": {
      "displayName": "Umberto Romagnolo",
      "userId": "14928952592276304637"
     },
     "user_tz": -120
    },
    "id": "QKwIlTsQs8rb"
   },
   "outputs": [],
   "source": [
    "plt.figure(figsize=(8, 8))\n",
    "\n",
    "# Violin plot\n",
    "ax = sns.violinplot(y='NumCompaniesWorked', x='Attrition', data=hr, inner='box')\n",
    "\n",
    "# Calcola media e deviazione standard\n",
    "means = hr.groupby('Attrition')['NumCompaniesWorked'].mean()\n",
    "stds = hr.groupby('Attrition')['NumCompaniesWorked'].std()\n",
    "\n",
    "# Colore per media e deviazione standard\n",
    "colors = ['black', 'black']\n",
    "\n",
    "for i, attrition in enumerate(means.index):\n",
    "    ax.text(i, -3, f'Mean: {means.values[i]:.2f}', ha='center', color=colors[i])\n",
    "    ax.text(i, -3.5, f'Std: {stds.values[i]:.2f}', ha='center', color=colors[i])\n",
    "    ax.scatter([], [], color=colors[i])\n",
    "\n",
    "plt.show()"
   ]
  },
  {
   "cell_type": "markdown",
   "metadata": {
    "id": "KAOnwi8Ws8rc"
   },
   "source": [
    "Attraverso il violin plot, al confronto tra i due gruppi della distribuzione del numero di compagnie in cui ogni dipendente ha lavorato in precedenza, la parte più ampia del violino per i dipendenti con Attrition = Yes è spostata verso il basso rispetto a quella per i dipendenti con Attrition = No, seppure anche quest'ultima si concentra tra i 0 e 4 numero di compagnie; ciò potrebbe indicare che i dipendenti che hanno lavorato in meno compagnie tendono a lasciare l'azienda più facilmente.\n",
    "Si nota che per i dipendenti con Attrition = Yes la mediana è rappresentata in prossimità del primo quartile, ad indicare una maggiora affluenza di dipendenti con NumCompaniesWorked compreso tra 0 e 2."
   ]
  },
  {
   "cell_type": "code",
   "execution_count": null,
   "metadata": {
    "executionInfo": {
     "elapsed": 8778,
     "status": "aborted",
     "timestamp": 1728749526010,
     "user": {
      "displayName": "Umberto Romagnolo",
      "userId": "14928952592276304637"
     },
     "user_tz": -120
    },
    "id": "2QMj8LZ_s8rc"
   },
   "outputs": [],
   "source": [
    "plt.figure(figsize=(8,10))\n",
    "ax = sns.countplot(x='NumCompaniesWorked', data=hr, hue=\"Attrition\")\n",
    "ax.set_ylabel('# of Employee')\n",
    "bars = ax.patches\n",
    "half = int(len(bars)/2)\n",
    "left_bars = bars[:half]\n",
    "right_bars = bars[half:]\n",
    "\n",
    "for left, right in zip(left_bars, right_bars):\n",
    "    height_l = left.get_height()\n",
    "    height_r = right.get_height()\n",
    "    total = height_l + height_r\n",
    "\n",
    "    ax.text(left.get_x() + left.get_width()/2., height_l + 30, '{0:.0%}'.format(height_l/total), ha=\"center\")\n",
    "    ax.text(right.get_x() + right.get_width()/2., height_r + 40, '{0:.0%}'.format(height_r/total), ha=\"center\")"
   ]
  },
  {
   "cell_type": "code",
   "execution_count": null,
   "metadata": {
    "executionInfo": {
     "elapsed": 8776,
     "status": "aborted",
     "timestamp": 1728749526010,
     "user": {
      "displayName": "Umberto Romagnolo",
      "userId": "14928952592276304637"
     },
     "user_tz": -120
    },
    "id": "NckuCqUYs8rd"
   },
   "outputs": [],
   "source": [
    "# Filtra i dati per Attrition 'Yes' e 'No'\n",
    "attrition_yes = hr[hr['Attrition'] == 'Yes']\n",
    "attrition_no = hr[hr['Attrition'] == 'No']\n",
    "\n",
    "# Esegui il test t indipendente tra i due gruppi\n",
    "t_statistic, p_value = stats.ttest_ind(attrition_yes['NumCompaniesWorked'], attrition_no['NumCompaniesWorked'])\n",
    "\n",
    "# Stampa il risultato del test\n",
    "alpha = 0.05\n",
    "if p_value < alpha:\n",
    "    print(\"La differenza nel NumCompaniesWorked tra i gruppi di Attrition è statisticamente significativa.\")\n",
    "else:\n",
    "    print(\"Non vi è evidenza di una differenza significativa nel NumCompaniesWorked tra i gruppi di Attrition.\")"
   ]
  },
  {
   "cell_type": "markdown",
   "metadata": {
    "id": "Eqx8Bftys8rd"
   },
   "source": [
    "Il t-test conferma quanto asssunto dall'osservazione del violin plot."
   ]
  },
  {
   "cell_type": "markdown",
   "metadata": {
    "id": "ldpk2MkKs8rd"
   },
   "source": [
    "## Attritioin & PercentSalaryHike"
   ]
  },
  {
   "cell_type": "code",
   "execution_count": null,
   "metadata": {
    "executionInfo": {
     "elapsed": 8774,
     "status": "aborted",
     "timestamp": 1728749526010,
     "user": {
      "displayName": "Umberto Romagnolo",
      "userId": "14928952592276304637"
     },
     "user_tz": -120
    },
    "id": "_XIf9bDEs8re"
   },
   "outputs": [],
   "source": [
    "# Filtra i dati per Attrition = 'Yes' e 'No'\n",
    "attrition_yes = hr[hr['Attrition'] == 'Yes']\n",
    "attrition_no = hr[hr['Attrition'] == 'No']\n",
    "\n",
    "# Crea una griglia di plot con 1 riga e 2 colonne\n",
    "fig, axes = plt.subplots(nrows=1, ncols=2, figsize=(10, 5))\n",
    "\n",
    "# Crea il primo istogramma per Attrition = 'Yes'\n",
    "axes[0].hist(attrition_yes['PercentSalaryHike'], bins=10, edgecolor='black', alpha=0.5)\n",
    "axes[0].set_title('Distribuzione PercentSalaryHike - Attrition = Yes')\n",
    "axes[0].set_xlabel('PercentSalaryHike')\n",
    "axes[0].set_ylabel('Frequency')\n",
    "\n",
    "# Crea il secondo istogramma per Attrition = 'No'\n",
    "axes[1].hist(attrition_no['PercentSalaryHike'], bins=10, edgecolor='black', alpha=0.5)\n",
    "axes[1].set_title('Distribuzione PercentSalaryHike - Attrition = No')\n",
    "axes[1].set_xlabel('PercentSalaryHike')\n",
    "axes[1].set_ylabel('Frequency')\n",
    "\n",
    "# Regola lo spaziamento tra i grafici\n",
    "plt.tight_layout()\n",
    "\n",
    "# Visualizza i grafici affiancati\n",
    "plt.show()"
   ]
  },
  {
   "cell_type": "code",
   "execution_count": null,
   "metadata": {
    "executionInfo": {
     "elapsed": 8772,
     "status": "aborted",
     "timestamp": 1728749526010,
     "user": {
      "displayName": "Umberto Romagnolo",
      "userId": "14928952592276304637"
     },
     "user_tz": -120
    },
    "id": "SXqBM9Jjs8re"
   },
   "outputs": [],
   "source": [
    "plt.figure(figsize=(8, 8))\n",
    "\n",
    "# Violin plot\n",
    "ax = sns.violinplot(y='PercentSalaryHike', x='Attrition', data=hr, inner='box')\n",
    "\n",
    "# Calcola media e deviazione standard\n",
    "means = hr.groupby('Attrition')['PercentSalaryHike'].mean()\n",
    "stds = hr.groupby('Attrition')['PercentSalaryHike'].std()\n",
    "\n",
    "# Colore per media e deviazione standard\n",
    "colors = ['black', 'black']\n",
    "\n",
    "for i, attrition in enumerate(means.index):\n",
    "    ax.text(i, 6.5, f'Mean: {means.values[i]:.2f}', ha='center', color=colors[i])\n",
    "    ax.text(i, 5.5, f'Std: {stds.values[i]:.2f}', ha='center', color=colors[i])\n",
    "    ax.scatter([], [], color=colors[i])\n",
    "\n",
    "plt.show()"
   ]
  },
  {
   "cell_type": "markdown",
   "metadata": {
    "id": "vOxo2o9xs8rf"
   },
   "source": [
    "Attraverso il violin plot, al confronto tra i due gruppi della distribuzione dell'aumento in percentuale del salario rispetto l'anno precedente, la parte più ampia del violino per i dipendenti con Attrition = Yes è simile rispetto a quella per i dipendenti con Attrition = No, ciò potrebbe indicare che non ci sia tanta differenza tra i due gruppi."
   ]
  },
  {
   "cell_type": "code",
   "execution_count": null,
   "metadata": {
    "executionInfo": {
     "elapsed": 8770,
     "status": "aborted",
     "timestamp": 1728749526010,
     "user": {
      "displayName": "Umberto Romagnolo",
      "userId": "14928952592276304637"
     },
     "user_tz": -120
    },
    "id": "zbE3XSWfs8rg"
   },
   "outputs": [],
   "source": [
    "# Filtra i dati per Attrition 'Yes' e 'No'\n",
    "attrition_yes = hr[hr['Attrition'] == 'Yes']\n",
    "attrition_no = hr[hr['Attrition'] == 'No']\n",
    "\n",
    "# Esegui il test t indipendente tra i due gruppi\n",
    "t_statistic, p_value = stats.ttest_ind(attrition_yes['PercentSalaryHike'], attrition_no['PercentSalaryHike'])\n",
    "\n",
    "# Stampa il risultato del test\n",
    "alpha = 0.01\n",
    "if p_value < alpha:\n",
    "    print(\"La differenza nel PercentSalaryHike tra i gruppi di Attrition è statisticamente significativa.\")\n",
    "else:\n",
    "    print(\"Non vi è evidenza di una differenza significativa nel PercentSalaryHike tra i gruppi di Attrition.\")"
   ]
  },
  {
   "cell_type": "markdown",
   "metadata": {
    "id": "gukYGqL2s8rg"
   },
   "source": [
    "Anche dall'osservazione degli istogrammi sembra che non ci sia differenza tra i gruppi per Attrition = 'Yes' e 'No'.\n",
    "Il t-test invece riporta un risultato differente. È possibile quindi che l'aumento percentuale del salario rispetto all'anno precedente non sia molto significativo. Infatti, eseguendo il t-test con un alpha = 0.01 si ottiene che non vi è evidenza di una differenza significativa."
   ]
  },
  {
   "cell_type": "markdown",
   "metadata": {
    "id": "HfrQayT_s8rg"
   },
   "source": [
    "## Attrition & TotalWorkingYears"
   ]
  },
  {
   "cell_type": "code",
   "execution_count": null,
   "metadata": {
    "executionInfo": {
     "elapsed": 8768,
     "status": "aborted",
     "timestamp": 1728749526010,
     "user": {
      "displayName": "Umberto Romagnolo",
      "userId": "14928952592276304637"
     },
     "user_tz": -120
    },
    "id": "NsNpLhjQs8rh"
   },
   "outputs": [],
   "source": [
    "plt.figure(figsize=(8, 8))\n",
    "\n",
    "# Violin plot\n",
    "ax = sns.violinplot(y='TotalWorkingYears', x='Attrition', data=hr, inner='box')\n",
    "\n",
    "# Calcola media e deviazione standard\n",
    "means = hr.groupby('Attrition')['TotalWorkingYears'].mean()\n",
    "stds = hr.groupby('Attrition')['TotalWorkingYears'].std()\n",
    "\n",
    "# Colore per media e deviazione standard\n",
    "colors = ['black', 'black']\n",
    "\n",
    "for i, attrition in enumerate(means.index):\n",
    "    ax.text(i, -10, f'Mean: {means.values[i]:.2f}', ha='center', color=colors[i])\n",
    "    ax.text(i, -12, f'Std: {stds.values[i]:.2f}', ha='center', color=colors[i])\n",
    "    ax.scatter([], [], color=colors[i])\n",
    "\n",
    "plt.show()"
   ]
  },
  {
   "cell_type": "markdown",
   "metadata": {
    "id": "vV_ieQ7As8rh"
   },
   "source": [
    "Al confronto tra i due gruppi della distribuzione del numero totale di anni lavorati fino adesso da ogni dipendente, la parte più ampia del violino per i dipendenti con Attrition = Yes è spostata verso il basso come quella per i dipendenti con Attrition = No ma più ampia. Questo potrebbe indicare che in generale vi è un accumulo di dipendenti con non più di 10 anni di lavoro alle spalle e che i dipendenti che hanno lavorato meno anni tendono a lasciare l'azienda più facilmente."
   ]
  },
  {
   "cell_type": "code",
   "execution_count": null,
   "metadata": {
    "executionInfo": {
     "elapsed": 8766,
     "status": "aborted",
     "timestamp": 1728749526010,
     "user": {
      "displayName": "Umberto Romagnolo",
      "userId": "14928952592276304637"
     },
     "user_tz": -120
    },
    "id": "P_JzetbJs8rh"
   },
   "outputs": [],
   "source": [
    "# Estrai le colonne Attrition e TotalWorkingYears dal DataFrame hr_num\n",
    "X = hr_num[['Attrition', 'TotalWorkingYears']].values\n",
    "\n",
    "# Inizializza una lista per salvare le inertia per ogni valore di n_clusters\n",
    "inertia_values = []\n",
    "\n",
    "# Prova diversi valori di n_clusters e calcola l'inertia per ognuno\n",
    "for k in range(1, 16):\n",
    "    kmeans = KMeans(n_clusters=k, random_state=42)\n",
    "    kmeans.fit(X)\n",
    "    inertia_values.append(kmeans.inertia_)\n",
    "\n",
    "# Plotta il grafico del metodo del gomito\n",
    "plt.plot(range(1, 16), inertia_values, marker='o')\n",
    "plt.xlabel('Numero di Clusters')\n",
    "plt.ylabel('Inertia')\n",
    "plt.title('Metodo del Gomito')\n",
    "plt.show()"
   ]
  },
  {
   "cell_type": "code",
   "execution_count": null,
   "metadata": {
    "executionInfo": {
     "elapsed": 8764,
     "status": "aborted",
     "timestamp": 1728749526010,
     "user": {
      "displayName": "Umberto Romagnolo",
      "userId": "14928952592276304637"
     },
     "user_tz": -120
    },
    "id": "RtJU2Ndxs8ri"
   },
   "outputs": [],
   "source": [
    "# Crea l'istanza del modello K-means\n",
    "kmeans = KMeans(n_clusters=4, random_state=42)\n",
    "\n",
    "# Addestra il modello sui dati TotalWorkingYears\n",
    "kmeans.fit(X)\n",
    "\n",
    "# Assegna le etichette di cluster ai dipendenti\n",
    "hr['Cluster'] = kmeans.labels_\n",
    "\n",
    "# Calcola i valori minimi e massimi degli intervalli di TotalWorkingYears per ogni cluster\n",
    "twy_ranges = []\n",
    "for cluster_id in range(4):\n",
    "    twy_values = hr.loc[hr['Cluster'] == cluster_id, 'TotalWorkingYears']\n",
    "    twy_min = twy_values.min()\n",
    "    twy_max = twy_values.max()\n",
    "    twy_range = f\"{twy_min} - {twy_max}\"\n",
    "    twy_ranges.append(twy_range)\n",
    "\n",
    "print(twy_ranges)"
   ]
  },
  {
   "cell_type": "code",
   "execution_count": null,
   "metadata": {
    "executionInfo": {
     "elapsed": 8762,
     "status": "aborted",
     "timestamp": 1728749526010,
     "user": {
      "displayName": "Umberto Romagnolo",
      "userId": "14928952592276304637"
     },
     "user_tz": -120
    },
    "id": "WLNxRUE1s8ri"
   },
   "outputs": [],
   "source": [
    "# Definisci gli estremi degli intervalli di TotalWorkingYears (inclusi -> right=True)\n",
    "intervalli_twy = [(0, 7), (8, 14), (15,24), (25,40)]\n",
    "\n",
    "hr['TWY_Intervallo'] = pd.cut(hr['TotalWorkingYears'], bins=[intervallo[0] for intervallo in intervalli_twy] + [intervalli_twy[-1][1] + 1],\n",
    "                        labels=[f\"{intervallo[0]}-{intervallo[1]}\" for intervallo in intervalli_twy], right=True)"
   ]
  },
  {
   "cell_type": "code",
   "execution_count": null,
   "metadata": {
    "executionInfo": {
     "elapsed": 8760,
     "status": "aborted",
     "timestamp": 1728749526010,
     "user": {
      "displayName": "Umberto Romagnolo",
      "userId": "14928952592276304637"
     },
     "user_tz": -120
    },
    "id": "XV-4Ygs5s8ri"
   },
   "outputs": [],
   "source": [
    "plt.figure(figsize=(8,10))\n",
    "ax = sns.countplot(x='TWY_Intervallo', data=hr, hue=\"Attrition\")\n",
    "ax.set_ylabel('# of Employee')\n",
    "bars = ax.patches\n",
    "half = int(len(bars)/2)\n",
    "left_bars = bars[:half]\n",
    "right_bars = bars[half:]\n",
    "\n",
    "for left, right in zip(left_bars, right_bars):\n",
    "    height_l = left.get_height()\n",
    "    height_r = right.get_height()\n",
    "    total = height_l + height_r\n",
    "\n",
    "    ax.text(left.get_x() + left.get_width()/2., height_l + 30, '{0:.0%}'.format(height_l/total), ha=\"center\")\n",
    "    ax.text(right.get_x() + right.get_width()/2., height_r + 40, '{0:.0%}'.format(height_r/total), ha=\"center\")"
   ]
  },
  {
   "cell_type": "markdown",
   "metadata": {
    "id": "15Tbgrxps8rj"
   },
   "source": [
    "Dal grafico a barre si riscontra che, per ogni ripartizione rispetto alle classi di TotalWorkingYears, la percentuale dei dipendenti che ha lasciato lo scorso anno è minore rispetto alla percentuale di chi è rimasto.\n",
    "\n",
    "- Il 23% di chi ha abbandonato l'azienda lo scorso anno rientra nella classe di chi ha alle spalle tra 0 ed 7 anni di lavoro.\n",
    "- Il 12% di chi ha abbandonato l'azienda lo scorso anno rientra nella classe di hi ha alle spalle tra 8 e 14 anni di lavoro.\n",
    "- Il 09% di chi ha abbandonato l'azienda lo scorso anno rientra nella classe di chi ha alle spalle tra 15 e 24 anni di lavoro.\n",
    "- Il 07% di chi ha abbandonato l'azienda lo scorso anno rientra nella classe di chi ha alle spalle tra 25 e 40 anni di lavoro."
   ]
  },
  {
   "cell_type": "code",
   "execution_count": null,
   "metadata": {
    "executionInfo": {
     "elapsed": 8758,
     "status": "aborted",
     "timestamp": 1728749526010,
     "user": {
      "displayName": "Umberto Romagnolo",
      "userId": "14928952592276304637"
     },
     "user_tz": -120
    },
    "id": "pgXtnhpUs8rj"
   },
   "outputs": [],
   "source": [
    "# Calcola la tabella di frequenza percentuali per colonna\n",
    "table = pd.crosstab(hr['TWY_Intervallo'], hr['Attrition'], normalize='columns') * 100\n",
    "\n",
    "# Stampa la tabella di frequenza\n",
    "print(table)"
   ]
  },
  {
   "cell_type": "markdown",
   "metadata": {
    "id": "WwIXRx07s8rj"
   },
   "source": [
    "A ulteriore conferma di quanto visto dai grafici si veda la tabella a doppia entrata. Questa risalta che, tra i dipendenti che hanno abbandonato lo scorso anno, il 61% ha alle spalle tra 0 e 7 anni di lavoro. La seconda percentuale più alta, il 25%, è di chi ha alle spalle tra 8 e 14 anni di lavoro."
   ]
  },
  {
   "cell_type": "code",
   "execution_count": null,
   "metadata": {
    "executionInfo": {
     "elapsed": 8756,
     "status": "aborted",
     "timestamp": 1728749526010,
     "user": {
      "displayName": "Umberto Romagnolo",
      "userId": "14928952592276304637"
     },
     "user_tz": -120
    },
    "id": "pbAKGJQPs8rk"
   },
   "outputs": [],
   "source": [
    "# Filtra i dati per Attrition 'Yes' e 'No'\n",
    "attrition_yes = hr[hr['Attrition'] == 'Yes']\n",
    "attrition_no = hr[hr['Attrition'] == 'No']\n",
    "\n",
    "# Esegui il test t indipendente tra i due gruppi\n",
    "t_statistic, p_value = stats.ttest_ind(attrition_yes['TotalWorkingYears'], attrition_no['TotalWorkingYears'])\n",
    "\n",
    "# Stampa il risultato del test\n",
    "alpha = 0.05\n",
    "if p_value < alpha:\n",
    "    print(\"La differenza nel TotalWorkingYears tra i gruppi di Attrition è statisticamente significativa.\")\n",
    "else:\n",
    "    print(\"Non vi è evidenza di una differenza significativa nel TotalWorkingYears tra i gruppi di Attrition.\")"
   ]
  },
  {
   "cell_type": "markdown",
   "metadata": {
    "id": "M6eIXp1Ms8rk"
   },
   "source": [
    "Anche il risutato che si ottiene dal t-test è in linea con quanto osservato in precedenza; sia con alpha = 0.05 che con alpha = 0.01"
   ]
  },
  {
   "cell_type": "markdown",
   "metadata": {
    "id": "1wLBKvp4s8rk"
   },
   "source": [
    "## Attrition & TrainingTimesLastYear"
   ]
  },
  {
   "cell_type": "code",
   "execution_count": null,
   "metadata": {
    "executionInfo": {
     "elapsed": 8754,
     "status": "aborted",
     "timestamp": 1728749526010,
     "user": {
      "displayName": "Umberto Romagnolo",
      "userId": "14928952592276304637"
     },
     "user_tz": -120
    },
    "id": "cyqzjFD2s8rl"
   },
   "outputs": [],
   "source": [
    "plt.figure(figsize=(8, 8))\n",
    "\n",
    "# Violin plot\n",
    "ax = sns.violinplot(y='TrainingTimesLastYear', x='Attrition', data=hr, inner='box')\n",
    "\n",
    "# Calcola media e deviazione standard\n",
    "means = hr.groupby('Attrition')['TrainingTimesLastYear'].mean()\n",
    "stds = hr.groupby('Attrition')['TrainingTimesLastYear'].std()\n",
    "\n",
    "# Colore per media e deviazione standard\n",
    "colors = ['black', 'black']\n",
    "\n",
    "for i, attrition in enumerate(means.index):\n",
    "    ax.text(i, -1.6, f'Mean: {means.values[i]:.2f}', ha='center', color=colors[i])\n",
    "    ax.text(i, -1.9, f'Std: {stds.values[i]:.2f}', ha='center', color=colors[i])\n",
    "    ax.scatter([], [], color=colors[i])\n",
    "\n",
    "plt.show()"
   ]
  },
  {
   "cell_type": "markdown",
   "metadata": {
    "id": "janEyOqHs8rl"
   },
   "source": [
    "Al confronto tra i due gruppi della distribuzione del numero di volte in cui il singolo dipendente ha svolto formazione durante l'anno precedente, sia per i dipendenti con Attrition = Yes che per i dipendenti con Attrition = No si nota pressapoco la stessa distribuzione, ciò potrebbe indicare che non c'è differenza tra i due gruppi."
   ]
  },
  {
   "cell_type": "code",
   "execution_count": null,
   "metadata": {
    "executionInfo": {
     "elapsed": 8749,
     "status": "aborted",
     "timestamp": 1728749526010,
     "user": {
      "displayName": "Umberto Romagnolo",
      "userId": "14928952592276304637"
     },
     "user_tz": -120
    },
    "id": "lUYk0GqZs8rl"
   },
   "outputs": [],
   "source": [
    "plt.figure(figsize=(8,10))\n",
    "ax = sns.countplot(x='TrainingTimesLastYear', data=hr, hue=\"Attrition\")\n",
    "ax.set_ylabel('# of Employee')\n",
    "bars = ax.patches\n",
    "half = int(len(bars)/2)\n",
    "left_bars = bars[:half]\n",
    "right_bars = bars[half:]\n",
    "\n",
    "for left, right in zip(left_bars, right_bars):\n",
    "    height_l = left.get_height()\n",
    "    height_r = right.get_height()\n",
    "    total = height_l + height_r\n",
    "\n",
    "    ax.text(left.get_x() + left.get_width()/2., height_l + 30, '{0:.0%}'.format(height_l/total), ha=\"center\")\n",
    "    ax.text(right.get_x() + right.get_width()/2., height_r + 40, '{0:.0%}'.format(height_r/total), ha=\"center\")"
   ]
  },
  {
   "cell_type": "markdown",
   "metadata": {
    "id": "zOjqUI4Vs8rl"
   },
   "source": [
    "Osservando il grafico a barre si riscontra che, per ogni ripartizione rispetto alle classi di TrainingTimesWorking, la percentuale dei dipendenti che ha lasciato lo scorso anno è minore rispetto alla percentuale di chi è rimasto.\n",
    "\n",
    "- Il 19% di chi ha abbandonato l'azienda lo scorso anno rientra nella classe di chi lo scorso anno non ha svolto la formazione.\n",
    "- Il 18% di chi ha abbandonato l'azienda lo scorso anno rientra nella classe di chi lo scorso anno ha svolto 3 volte la formazione.\n",
    "- Il 17% di chi ha abbandonato l'azienda lo scorso anno rientra nella classe di chi lo scorso anno ha svolto 2 volte la formazione.\n",
    "- il 14% di chi ha abbandonato l'azienda lo scorso anno rientra nella classe di chi lo scorso anno ha svolto sia 1 volta che 5 volte la formazione.\n",
    "- il 06% di chi ha abbandonato l'azienda lo scorso anno rientra nella classe di chi lo scorso anno ha svolto 6 volte la formazione."
   ]
  },
  {
   "cell_type": "code",
   "execution_count": null,
   "metadata": {
    "executionInfo": {
     "elapsed": 8746,
     "status": "aborted",
     "timestamp": 1728749526010,
     "user": {
      "displayName": "Umberto Romagnolo",
      "userId": "14928952592276304637"
     },
     "user_tz": -120
    },
    "id": "Q5SQjBu9s8rm"
   },
   "outputs": [],
   "source": [
    "# Filtra i dati per Attrition 'Yes' e 'No'\n",
    "attrition_yes = hr[hr['Attrition'] == 'Yes']\n",
    "attrition_no = hr[hr['Attrition'] == 'No']\n",
    "\n",
    "# Esegui il test t indipendente tra i due gruppi\n",
    "t_statistic, p_value = stats.ttest_ind(attrition_yes['TrainingTimesLastYear'], attrition_no['TrainingTimesLastYear'])\n",
    "\n",
    "# Stampa il risultato del test\n",
    "alpha = 0.01\n",
    "if p_value < alpha:\n",
    "    print(\"La differenza nel TrainingTimesLastYear tra i gruppi di Attrition è statisticamente significativa.\")\n",
    "else:\n",
    "    print(\"Non vi è evidenza di una differenza significativa nel TrainingTimesLastYear tra i gruppi di Attrition.\")"
   ]
  },
  {
   "cell_type": "markdown",
   "metadata": {
    "id": "JWCDNt4es8rm"
   },
   "source": [
    "Anche se le distribuzioni dei valori sembrano simili nel violin plot, il t-test considera anche le differenze nelle medie dei due gruppi e rileva differenze statisticamente significative che non sono immediatamente evidenti solo guardando il grafico."
   ]
  },
  {
   "cell_type": "markdown",
   "metadata": {
    "id": "GsjuDHQts8rm"
   },
   "source": [
    "## Attrition & YearsAtCompany"
   ]
  },
  {
   "cell_type": "code",
   "execution_count": null,
   "metadata": {
    "executionInfo": {
     "elapsed": 8745,
     "status": "aborted",
     "timestamp": 1728749526011,
     "user": {
      "displayName": "Umberto Romagnolo",
      "userId": "14928952592276304637"
     },
     "user_tz": -120
    },
    "id": "PIwmvpa8s8rm"
   },
   "outputs": [],
   "source": [
    "plt.figure(figsize=(8, 8))\n",
    "\n",
    "# Violin plot\n",
    "ax = sns.violinplot(y='YearsAtCompany', x='Attrition', data=hr, inner='box')\n",
    "\n",
    "# Calcola media e deviazione standard\n",
    "means = hr.groupby('Attrition')['YearsAtCompany'].mean()\n",
    "stds = hr.groupby('Attrition')['YearsAtCompany'].std()\n",
    "\n",
    "# Colore per media e deviazione standard\n",
    "colors = ['black', 'black']\n",
    "\n",
    "for i, attrition in enumerate(means.index):\n",
    "    ax.text(i, -9.5, f'Mean: {means.values[i]:.2f}', ha='center', color=colors[i])\n",
    "    ax.text(i, -11.5, f'Std: {stds.values[i]:.2f}', ha='center', color=colors[i])\n",
    "    ax.scatter([], [], color=colors[i])\n",
    "\n",
    "plt.show()"
   ]
  },
  {
   "cell_type": "markdown",
   "metadata": {
    "id": "auDM6GoLs8rm"
   },
   "source": [
    "Al confronto tra i due gruppi della distribuzione del numero di anni del singolo dipendente trascorsi nella compagnia, la parte più ampia del violino per i dipendenti con Attrition = Yes è spostata verso il basso: come quella per i dipendenti con Attrition = No ma più ampia. Questo potrebbe indicare che in generale vi è un accumulo di dipendenti con non più di 10 anni di presenza nella compagnia e che i dipendenti che hanno lavorato meno anni tendono a lasciare l'azienda più facilmente. Stesse conclusioni di quanto visto con la variabile TotalWorkingYears"
   ]
  },
  {
   "cell_type": "code",
   "execution_count": null,
   "metadata": {
    "executionInfo": {
     "elapsed": 8743,
     "status": "aborted",
     "timestamp": 1728749526011,
     "user": {
      "displayName": "Umberto Romagnolo",
      "userId": "14928952592276304637"
     },
     "user_tz": -120
    },
    "id": "I6w9VTx2s8rm"
   },
   "outputs": [],
   "source": [
    "# Estrai le colonne Attrition e YearsAtCompany dal DataFrame hr_num\n",
    "X = hr_num[['Attrition', 'YearsAtCompany']].values\n",
    "\n",
    "# Inizializza una lista per salvare le inertia per ogni valore di n_clusters\n",
    "inertia_values = []\n",
    "\n",
    "# Prova diversi valori di n_clusters e calcola l'inertia per ognuno\n",
    "for k in range(1, 16):\n",
    "    kmeans = KMeans(n_clusters=k, random_state=42)\n",
    "    kmeans.fit(X)\n",
    "    inertia_values.append(kmeans.inertia_)\n",
    "\n",
    "# Plotta il grafico del metodo del gomito\n",
    "plt.plot(range(1, 16), inertia_values, marker='o')\n",
    "plt.xlabel('Numero di Clusters')\n",
    "plt.ylabel('Inertia')\n",
    "plt.title('Metodo del Gomito')\n",
    "plt.show()"
   ]
  },
  {
   "cell_type": "code",
   "execution_count": null,
   "metadata": {
    "executionInfo": {
     "elapsed": 8741,
     "status": "aborted",
     "timestamp": 1728749526011,
     "user": {
      "displayName": "Umberto Romagnolo",
      "userId": "14928952592276304637"
     },
     "user_tz": -120
    },
    "id": "1v5FOAhGs8rn"
   },
   "outputs": [],
   "source": [
    "# Crea l'istanza del modello K-means\n",
    "kmeans = KMeans(n_clusters=4, random_state=42)\n",
    "\n",
    "# Addestra il modello sui dati YearsAtCompany\n",
    "kmeans.fit(X)\n",
    "\n",
    "# Assegna le etichette di cluster ai dipendenti\n",
    "hr['Cluster'] = kmeans.labels_\n",
    "\n",
    "# Calcola i valori minimi e massimi degli intervalli di YearsAtCompany per ogni cluster\n",
    "twy_ranges = []\n",
    "for cluster_id in range(4):\n",
    "    twy_values = hr.loc[hr['Cluster'] == cluster_id, 'YearsAtCompany']\n",
    "    twy_min = twy_values.min()\n",
    "    twy_max = twy_values.max()\n",
    "    twy_range = f\"{twy_min} - {twy_max}\"\n",
    "    twy_ranges.append(twy_range)\n",
    "\n",
    "print(twy_ranges)"
   ]
  },
  {
   "cell_type": "code",
   "execution_count": null,
   "metadata": {
    "executionInfo": {
     "elapsed": 8739,
     "status": "aborted",
     "timestamp": 1728749526011,
     "user": {
      "displayName": "Umberto Romagnolo",
      "userId": "14928952592276304637"
     },
     "user_tz": -120
    },
    "id": "2j9ghAF6s8rs"
   },
   "outputs": [],
   "source": [
    "# Definisci gli estremi degli intervalli di YearsAtCompany (inclusi -> right=True)\n",
    "intervalli_yac = [(0, 5), (6, 13), (14,24), (25,40)]\n",
    "\n",
    "hr['YaC_Intervallo'] = pd.cut(hr['YearsAtCompany'], bins=[intervallo[0] for intervallo in intervalli_yac] + [intervalli_yac[-1][1] + 1],\n",
    "                        labels=[f\"{intervallo[0]}-{intervallo[1]}\" for intervallo in intervalli_yac], right=True)"
   ]
  },
  {
   "cell_type": "code",
   "execution_count": null,
   "metadata": {
    "executionInfo": {
     "elapsed": 8737,
     "status": "aborted",
     "timestamp": 1728749526011,
     "user": {
      "displayName": "Umberto Romagnolo",
      "userId": "14928952592276304637"
     },
     "user_tz": -120
    },
    "id": "0GQ0u_8ls8rs"
   },
   "outputs": [],
   "source": [
    "plt.figure(figsize=(8,10))\n",
    "ax = sns.countplot(x='YaC_Intervallo', data=hr, hue=\"Attrition\")\n",
    "ax.set_ylabel('# of Employee')\n",
    "bars = ax.patches\n",
    "half = int(len(bars)/2)\n",
    "left_bars = bars[:half]\n",
    "right_bars = bars[half:]\n",
    "\n",
    "for left, right in zip(left_bars, right_bars):\n",
    "    height_l = left.get_height()\n",
    "    height_r = right.get_height()\n",
    "    total = height_l + height_r\n",
    "\n",
    "    ax.text(left.get_x() + left.get_width()/2., height_l + 30, '{0:.0%}'.format(height_l/total), ha=\"center\")\n",
    "    ax.text(right.get_x() + right.get_width()/2., height_r + 40, '{0:.0%}'.format(height_r/total), ha=\"center\")"
   ]
  },
  {
   "cell_type": "markdown",
   "metadata": {
    "id": "PvHzUnUns8rs"
   },
   "source": [
    "Dal grafico a barre si riscontra che, per ogni ripartizione rispetto alle classi di YearsAtCompany, la percentuale dei dipendenti che ha lasciato lo scorso anno è minore rispetto alla percentuale di chi è rimasto.\n",
    "\n",
    "- Il 19% di chi ha abbandonato l'azienda lo scorso anno rientra nella classe di chi ha alle spalle tra 0 ed 5 anni di lavoro.\n",
    "- Il 16% di chi ha abbandonato l'azienda lo scorso anno rientra nella classe di chi ha alle spalle tra 25 e 40 anni di lavoro.\n",
    "- L' 11% di chi ha abbandonato l'azienda lo scorso anno rientra nella classe di hi ha alle spalle tra 6 e 13 anni di lavoro.\n",
    "- Il 08% di chi ha abbandonato l'azienda lo scorso anno rientra nella classe di chi ha alle spalle tra 14 e 24 anni di lavoro."
   ]
  },
  {
   "cell_type": "code",
   "execution_count": null,
   "metadata": {
    "executionInfo": {
     "elapsed": 8735,
     "status": "aborted",
     "timestamp": 1728749526011,
     "user": {
      "displayName": "Umberto Romagnolo",
      "userId": "14928952592276304637"
     },
     "user_tz": -120
    },
    "id": "Ehdr9up1s8rt"
   },
   "outputs": [],
   "source": [
    "# Calcola la tabella di frequenza percentuali per colonna\n",
    "table = pd.crosstab(hr['YaC_Intervallo'], hr['Attrition'], normalize='columns') * 100\n",
    "\n",
    "# Stampa la tabella di frequenza\n",
    "print(table)"
   ]
  },
  {
   "cell_type": "markdown",
   "metadata": {
    "id": "_EM8JH4ns8rt"
   },
   "source": [
    "A ulteriore conferma di quanto visto dai grafici si veda la tabella a doppia entrata. Questa risalta che, tra i dipendenti che hanno abbandonato lo scorso anno, il 70% ha alle spalle tra 0 e 5 anni di lavoro con la compagnia. La seconda percentuale più alta, il 24%, è di chi ha alle spalle tra 5 e 13 anni di lavoro con la compagnia."
   ]
  },
  {
   "cell_type": "code",
   "execution_count": null,
   "metadata": {
    "executionInfo": {
     "elapsed": 8733,
     "status": "aborted",
     "timestamp": 1728749526011,
     "user": {
      "displayName": "Umberto Romagnolo",
      "userId": "14928952592276304637"
     },
     "user_tz": -120
    },
    "id": "9yLz7tFjs8rt"
   },
   "outputs": [],
   "source": [
    "# Filtra i dati per Attrition 'Yes' e 'No'\n",
    "attrition_yes = hr[hr['Attrition'] == 'Yes']\n",
    "attrition_no = hr[hr['Attrition'] == 'No']\n",
    "\n",
    "# Esegui il test t indipendente tra i due gruppi\n",
    "t_statistic, p_value = stats.ttest_ind(attrition_yes['YearsAtCompany'], attrition_no['YearsAtCompany'])\n",
    "\n",
    "# Stampa il risultato del test\n",
    "alpha = 0.05\n",
    "if p_value < alpha:\n",
    "    print(\"La differenza nel YearsAtCompany tra i gruppi di Attrition è statisticamente significativa.\")\n",
    "else:\n",
    "    print(\"Non vi è evidenza di una differenza significativa nel YearsAtCompany tra i gruppi di Attrition.\")"
   ]
  },
  {
   "cell_type": "markdown",
   "metadata": {
    "id": "rYn_Kaw0s8rt"
   },
   "source": [
    "Anche il risutato che si ottiene dal t-test è in linea con quanto osservato in precedenza; sia con alpha = 0.05 che con alpha = 0.01"
   ]
  },
  {
   "cell_type": "markdown",
   "metadata": {
    "id": "l7ggxUzHs8rt"
   },
   "source": [
    "## Attrition & YearsSinceLastPromotion"
   ]
  },
  {
   "cell_type": "code",
   "execution_count": null,
   "metadata": {
    "executionInfo": {
     "elapsed": 8731,
     "status": "aborted",
     "timestamp": 1728749526011,
     "user": {
      "displayName": "Umberto Romagnolo",
      "userId": "14928952592276304637"
     },
     "user_tz": -120
    },
    "id": "gM5BKKnus8ru"
   },
   "outputs": [],
   "source": [
    "plt.figure(figsize=(8, 8))\n",
    "\n",
    "# Violin plot\n",
    "ax = sns.violinplot(y='YearsSinceLastPromotion', x='Attrition', data=hr, inner='box')\n",
    "\n",
    "# Calcola media e deviazione standard\n",
    "means = hr.groupby('Attrition')['YearsSinceLastPromotion'].mean()\n",
    "stds = hr.groupby('Attrition')['YearsSinceLastPromotion'].std()\n",
    "\n",
    "# Colore per media e deviazione standard\n",
    "colors = ['black', 'black']\n",
    "\n",
    "for i, attrition in enumerate(means.index):\n",
    "    ax.text(i, -4.2, f'Mean: {means.values[i]:.2f}', ha='center', color=colors[i])\n",
    "    ax.text(i, -5, f'Std: {stds.values[i]:.2f}', ha='center', color=colors[i])\n",
    "    ax.scatter([], [], color=colors[i])\n",
    "\n",
    "plt.show()"
   ]
  },
  {
   "cell_type": "markdown",
   "metadata": {
    "id": "QGqGr2Aes8ru"
   },
   "source": [
    "Al confronto tra i due gruppi della distribuzione del numero di anni del singolo dipendente dall'ultima promozione, la parte più ampia del violino per i dipendenti con Attrition = No è spostata verso il basso: come quella per i dipendenti con Attrition = Yes ma leggermente più ampia e schiacciata intorno ai valori tra 0 e 2 anni. Questo potrebbe indicare che in generale vi è un accumulo di dipendenti con non più di 2.5 anni dall'ultima promozione e che i dipendenti che non hanno avuto una promozione entro i primi 2 anni tendono a lasciare l'azienda più facilmente."
   ]
  },
  {
   "cell_type": "code",
   "execution_count": null,
   "metadata": {
    "executionInfo": {
     "elapsed": 8729,
     "status": "aborted",
     "timestamp": 1728749526011,
     "user": {
      "displayName": "Umberto Romagnolo",
      "userId": "14928952592276304637"
     },
     "user_tz": -120
    },
    "id": "XMViqX08s8ru"
   },
   "outputs": [],
   "source": [
    "# Filtra i dati per Attrition = 'Yes' e 'No'\n",
    "attrition_yes = hr[hr['Attrition'] == 'Yes']\n",
    "attrition_no = hr[hr['Attrition'] == 'No']\n",
    "\n",
    "# Calcola la frequenza dei valori di TrainingTimesLastYear per Attrition = 'Yes'\n",
    "training_counts_yes = attrition_yes['YearsSinceLastPromotion'].value_counts().sort_index()\n",
    "\n",
    "# Calcola la frequenza dei valori di TrainingTimesLastYear per Attrition = 'No'\n",
    "training_counts_no = attrition_no['YearsSinceLastPromotion'].value_counts().sort_index()\n",
    "\n",
    "# Crea una griglia di plot con 1 riga e 2 colonne\n",
    "fig, axes = plt.subplots(nrows=1, ncols=2, figsize=(10, 5))\n",
    "\n",
    "# Crea il primo grafico a barre per Attrition = 'Yes'\n",
    "axes[0].bar(training_counts_yes.index, training_counts_yes.values)\n",
    "axes[0].set_title('Distribuzione degli anni dall\\'ultima promozione - Attrition = Yes')\n",
    "axes[0].set_xlabel('YearsSinceLastPromotion')\n",
    "axes[0].set_ylabel('Frequency')\n",
    "\n",
    "# Crea il secondo grafico a barre per Attrition = 'No'\n",
    "axes[1].bar(training_counts_no.index, training_counts_no.values)\n",
    "axes[1].set_title('Distribuzione degli anni dall\\'ultima promozione - Attrition = No')\n",
    "axes[1].set_xlabel('YearsSinceLastPromotion')\n",
    "axes[1].set_ylabel('Frequency')\n",
    "\n",
    "# Regola lo spaziamento tra i grafici\n",
    "plt.subplots_adjust(wspace=1.5)\n",
    "\n",
    "# Visualizza i grafici affiancati\n",
    "plt.show()"
   ]
  },
  {
   "cell_type": "code",
   "execution_count": null,
   "metadata": {
    "executionInfo": {
     "elapsed": 8727,
     "status": "aborted",
     "timestamp": 1728749526011,
     "user": {
      "displayName": "Umberto Romagnolo",
      "userId": "14928952592276304637"
     },
     "user_tz": -120
    },
    "id": "LC1P8Ud1s8ru"
   },
   "outputs": [],
   "source": [
    "# Estrai le colonne Attrition e YearsAtCompany dal DataFrame hr_num\n",
    "X = hr_num[['Attrition', 'YearsSinceLastPromotion']].values\n",
    "\n",
    "# Inizializza una lista per salvare le inertia per ogni valore di n_clusters\n",
    "inertia_values = []\n",
    "\n",
    "# Prova diversi valori di n_clusters e calcola l'inertia per ognuno\n",
    "for k in range(1, 10):\n",
    "    kmeans = KMeans(n_clusters=k, random_state=42)\n",
    "    kmeans.fit(X)\n",
    "    inertia_values.append(kmeans.inertia_)\n",
    "\n",
    "# Plotta il grafico del metodo del gomito\n",
    "plt.plot(range(1, 10), inertia_values, marker='o')\n",
    "plt.xlabel('Numero di Clusters')\n",
    "plt.ylabel('Inertia')\n",
    "plt.title('Metodo del Gomito')\n",
    "plt.show()"
   ]
  },
  {
   "cell_type": "code",
   "execution_count": null,
   "metadata": {
    "executionInfo": {
     "elapsed": 8725,
     "status": "aborted",
     "timestamp": 1728749526011,
     "user": {
      "displayName": "Umberto Romagnolo",
      "userId": "14928952592276304637"
     },
     "user_tz": -120
    },
    "id": "MApQt5Wds8ru"
   },
   "outputs": [],
   "source": [
    "# Definizione delle features per addestrare il modello K-means\n",
    "X = hr[['YearsSinceLastPromotion']].copy()  # Copia la colonna in un DataFrame\n",
    "\n",
    "# Sostituisci i valori NaN con 0 nella colonna 'YearsSinceLastPromotion'\n",
    "X['YearsSinceLastPromotion'].fillna(0, inplace=True)\n",
    "\n",
    "# Crea l'istanza del modello K-means\n",
    "kmeans = KMeans(n_clusters=3, random_state=42)\n",
    "\n",
    "# Addestra il modello sui dati YearsSinceLastPromotion\n",
    "kmeans.fit(X)\n",
    "\n",
    "# Assegna le etichette di cluster ai dipendenti\n",
    "hr['Cluster'] = kmeans.labels_\n",
    "\n",
    "# Calcola i valori minimi e massimi degli intervalli di YearsSinceLastPromotion per ogni cluster\n",
    "yslp_ranges = []\n",
    "for cluster_id in range(3):\n",
    "    yslp_values = hr.loc[hr['Cluster'] == cluster_id, 'YearsSinceLastPromotion']\n",
    "    yslp_min = yslp_values.min()\n",
    "    yslp_max = yslp_values.max()\n",
    "    yslp_range = f\"{yslp_min} - {yslp_max}\"\n",
    "    yslp_ranges.append(yslp_range)\n",
    "\n",
    "print(yslp_ranges)"
   ]
  },
  {
   "cell_type": "code",
   "execution_count": null,
   "metadata": {
    "executionInfo": {
     "elapsed": 8724,
     "status": "aborted",
     "timestamp": 1728749526011,
     "user": {
      "displayName": "Umberto Romagnolo",
      "userId": "14928952592276304637"
     },
     "user_tz": -120
    },
    "id": "JTGVSj-rs8ru"
   },
   "outputs": [],
   "source": [
    "# Definisci gli estremi degli intervalli di YearsSinceLastPromotion (inclusi -> right=True)\n",
    "intervalli_yslp = [(0, 3), (4, 8), (9,15)]\n",
    "\n",
    "hr['YsLp_Intervallo'] = pd.cut(hr['YearsSinceLastPromotion'], bins=[intervallo[0] for intervallo in intervalli_yslp] + [intervalli_yslp[-1][1] + 1],\n",
    "                        labels=[f\"{intervallo[0]}-{intervallo[1]}\" for intervallo in intervalli_yslp], right=True)"
   ]
  },
  {
   "cell_type": "code",
   "execution_count": null,
   "metadata": {
    "executionInfo": {
     "elapsed": 8722,
     "status": "aborted",
     "timestamp": 1728749526011,
     "user": {
      "displayName": "Umberto Romagnolo",
      "userId": "14928952592276304637"
     },
     "user_tz": -120
    },
    "id": "co4cvZzWs8rv"
   },
   "outputs": [],
   "source": [
    "plt.figure(figsize=(8,10))\n",
    "ax = sns.countplot(x='YsLp_Intervallo', data=hr, hue=\"Attrition\")\n",
    "ax.set_ylabel('# of Employee')\n",
    "bars = ax.patches\n",
    "half = int(len(bars)/2)\n",
    "left_bars = bars[:half]\n",
    "right_bars = bars[half:]\n",
    "\n",
    "for left, right in zip(left_bars, right_bars):\n",
    "    height_l = left.get_height()\n",
    "    height_r = right.get_height()\n",
    "    total = height_l + height_r\n",
    "\n",
    "    ax.text(left.get_x() + left.get_width()/2., height_l + 30, '{0:.0%}'.format(height_l/total), ha=\"center\")\n",
    "    ax.text(right.get_x() + right.get_width()/2., height_r + 40, '{0:.0%}'.format(height_r/total), ha=\"center\")"
   ]
  },
  {
   "cell_type": "markdown",
   "metadata": {
    "id": "JVoNNCPrs8rv"
   },
   "source": [
    "Dai grafici a barre si riscontra che, per ogni ripartizione rispetto alle classi di YearsSinceLastPromotion, la percentuale dei dipendenti che ha lasciato lo scorso anno è minore rispetto alla percentuale di chi è rimasto.\n",
    "\n",
    "- Il 15% di chi ha abbandonato l'azienda lo scorso anno rientra nella classe di chi ha ricevuto una promozione tra gli ultimi 4-8 anni di lavoro.\n",
    "- Il 14% di chi ha abbandonato l'azienda lo scorso anno rientra nella classe di chi ha ricevuto una promozione tra 0-3 anni di lavoro.\n",
    "- L' 12% di chi ha abbandonato l'azienda lo scorso anno rientra nella classe di chi ha ricevuto una promozione tra gli ultimi 9-15 anni di lavoro."
   ]
  },
  {
   "cell_type": "code",
   "execution_count": null,
   "metadata": {
    "executionInfo": {
     "elapsed": 8720,
     "status": "aborted",
     "timestamp": 1728749526011,
     "user": {
      "displayName": "Umberto Romagnolo",
      "userId": "14928952592276304637"
     },
     "user_tz": -120
    },
    "id": "vCauNldgs8rv"
   },
   "outputs": [],
   "source": [
    "# Calcola la tabella di frequenza percentuali per colonna\n",
    "table = pd.crosstab(hr['YsLp_Intervallo'], hr['Attrition'], normalize='columns') * 100\n",
    "\n",
    "# Stampa la tabella di frequenza\n",
    "print(table)"
   ]
  },
  {
   "cell_type": "markdown",
   "metadata": {
    "id": "lnvxF1Ras8rv"
   },
   "source": [
    "A conferma di quanto visto dai grafici si veda la tabella a doppia entrata. Questa risalta che, tra i dipendenti che hanno abbandonato lo scorso anno, il 71% ha avuto una promozione negli ultimi 3 anni. La seconda percentuale più alta, il 22%, è di chi ha avuto una promozione tra gli ultimi 4-8 anni di lavoro."
   ]
  },
  {
   "cell_type": "code",
   "execution_count": null,
   "metadata": {
    "executionInfo": {
     "elapsed": 8718,
     "status": "aborted",
     "timestamp": 1728749526011,
     "user": {
      "displayName": "Umberto Romagnolo",
      "userId": "14928952592276304637"
     },
     "user_tz": -120
    },
    "id": "e_YcaFoys8rv"
   },
   "outputs": [],
   "source": [
    "# Filtra i dati per Attrition 'Yes' e 'No'\n",
    "attrition_yes = hr[hr['Attrition'] == 'Yes']\n",
    "attrition_no = hr[hr['Attrition'] == 'No']\n",
    "\n",
    "# Esegui il test t indipendente tra i due gruppi\n",
    "t_statistic, p_value = stats.ttest_ind(attrition_yes['YearsSinceLastPromotion'], attrition_no['YearsSinceLastPromotion'])\n",
    "\n",
    "# Stampa il risultato del test\n",
    "alpha = 0.01\n",
    "if p_value < alpha:\n",
    "    print(\"La differenza nel YearsSinceLastPromotion tra i gruppi di Attrition è statisticamente significativa.\")\n",
    "else:\n",
    "    print(\"Non vi è evidenza di una differenza significativa nel YearsSinceLastPromotion tra i gruppi di Attrition.\")"
   ]
  },
  {
   "cell_type": "markdown",
   "metadata": {
    "id": "zfxWdYiUs8rw"
   },
   "source": [
    "A dimostrazione del fatto che non c'è molta differenza tra i due gruppi, Attrition = Yes e Attrition = No, il t-test riporta che la differenza è statisticamente significativa per un alpha = 0.05; con un alpha = 0.01 il t-test riporta che non vi è evidenza di una differenza significativa nella variabile tra i due gruppi di Attrition."
   ]
  },
  {
   "cell_type": "markdown",
   "metadata": {
    "id": "iSvU34XMs8rw"
   },
   "source": [
    "## Attrition & YearsWithCurrManager"
   ]
  },
  {
   "cell_type": "code",
   "execution_count": null,
   "metadata": {
    "executionInfo": {
     "elapsed": 8715,
     "status": "aborted",
     "timestamp": 1728749526011,
     "user": {
      "displayName": "Umberto Romagnolo",
      "userId": "14928952592276304637"
     },
     "user_tz": -120
    },
    "id": "w1XCQJi_s8rw"
   },
   "outputs": [],
   "source": [
    "plt.figure(figsize=(8, 8))\n",
    "\n",
    "# Violin plot\n",
    "ax = sns.violinplot(y='YearsWithCurrManager', x='Attrition', data=hr, inner='box')\n",
    "\n",
    "# Calcola media e deviazione standard\n",
    "means = hr.groupby('Attrition')['YearsWithCurrManager'].mean()\n",
    "stds = hr.groupby('Attrition')['YearsWithCurrManager'].std()\n",
    "\n",
    "# Colore per media e deviazione standard\n",
    "colors = ['black', 'black']\n",
    "\n",
    "for i, attrition in enumerate(means.index):\n",
    "    ax.text(i, -4.2, f'Mean: {means.values[i]:.2f}', ha='center', color=colors[i])\n",
    "    ax.text(i, -5, f'Std: {stds.values[i]:.2f}', ha='center', color=colors[i])\n",
    "    ax.scatter([], [], color=colors[i])\n",
    "\n",
    "plt.show()"
   ]
  },
  {
   "cell_type": "markdown",
   "metadata": {
    "id": "BPwxlv33s8rw"
   },
   "source": [
    "Al confronto tra i due gruppi della distribuzione del numero di anni del singolo dipendente trascorsi con il manager corrente, la parte più ampia del violino per i dipendenti con Attrition = Yes è spostata verso il basso: come quella per i dipendenti con Attrition = No ma più ampia. Questo potrebbe indicare che in generale vi è un accumulo di dipendenti con non più di 5 anni con il manager corrente e che i dipendenti che hanno lavorato meno anni tendono a lasciare l'azienda più facilmente. Stesse conclusioni di quanto visto con la variabile TotalWorkingYears"
   ]
  },
  {
   "cell_type": "code",
   "execution_count": null,
   "metadata": {
    "executionInfo": {
     "elapsed": 8713,
     "status": "aborted",
     "timestamp": 1728749526011,
     "user": {
      "displayName": "Umberto Romagnolo",
      "userId": "14928952592276304637"
     },
     "user_tz": -120
    },
    "id": "l8aFK29Ls8rw"
   },
   "outputs": [],
   "source": [
    "# Filtra i dati per Attrition = 'Yes' e 'No'\n",
    "attrition_yes = hr[hr['Attrition'] == 'Yes']\n",
    "attrition_no = hr[hr['Attrition'] == 'No']\n",
    "\n",
    "# Calcola la frequenza dei valori di TrainingTimesLastYear per Attrition = 'Yes'\n",
    "training_counts_yes = attrition_yes['YearsWithCurrManager'].value_counts().sort_index()\n",
    "\n",
    "# Calcola la frequenza dei valori di TrainingTimesLastYear per Attrition = 'No'\n",
    "training_counts_no = attrition_no['YearsWithCurrManager'].value_counts().sort_index()\n",
    "\n",
    "# Crea una griglia di plot con 1 riga e 2 colonne\n",
    "fig, axes = plt.subplots(nrows=1, ncols=2, figsize=(10, 5))\n",
    "\n",
    "# Crea il primo grafico a barre per Attrition = 'Yes'\n",
    "axes[0].bar(training_counts_yes.index, training_counts_yes.values)\n",
    "axes[0].set_title('Distribuzione degli anni con il manager corrente - Attrition = Yes')\n",
    "axes[0].set_xlabel('YearsWithCurrManager')\n",
    "axes[0].set_ylabel('Frequency')\n",
    "\n",
    "# Crea il secondo grafico a barre per Attrition = 'No'\n",
    "axes[1].bar(training_counts_no.index, training_counts_no.values)\n",
    "axes[1].set_title('Distribuzione degli anni con il manager corrente - Attrition = No')\n",
    "axes[1].set_xlabel('YearsWithCurrManager')\n",
    "axes[1].set_ylabel('Frequency')\n",
    "\n",
    "# Regola lo spaziamento tra i grafici\n",
    "plt.subplots_adjust(wspace=1.5)\n",
    "\n",
    "# Visualizza i grafici affiancati\n",
    "plt.show()"
   ]
  },
  {
   "cell_type": "markdown",
   "metadata": {
    "id": "W9Vvw4Fts8rx"
   },
   "source": [
    "Già da questo primo grafico a barre i possono notare delle differenze tra i due gruppi di Attrition"
   ]
  },
  {
   "cell_type": "code",
   "execution_count": null,
   "metadata": {
    "executionInfo": {
     "elapsed": 8712,
     "status": "aborted",
     "timestamp": 1728749526011,
     "user": {
      "displayName": "Umberto Romagnolo",
      "userId": "14928952592276304637"
     },
     "user_tz": -120
    },
    "id": "JzWfUjS-s8rx"
   },
   "outputs": [],
   "source": [
    "# Estrai le colonne Attrition e YearsWithCurrManager dal DataFrame hr_num\n",
    "X = hr_num[['Attrition', 'YearsWithCurrManager']].values\n",
    "\n",
    "# Inizializza una lista per salvare le inertia per ogni valore di n_clusters\n",
    "inertia_values = []\n",
    "\n",
    "# Prova diversi valori di n_clusters e calcola l'inertia per ognuno\n",
    "for k in range(1, 15):\n",
    "    kmeans = KMeans(n_clusters=k, random_state=42)\n",
    "    kmeans.fit(X)\n",
    "    inertia_values.append(kmeans.inertia_)\n",
    "\n",
    "# Plotta il grafico del metodo del gomito\n",
    "plt.plot(range(1, 15), inertia_values, marker='o')\n",
    "plt.xlabel('Numero di Clusters')\n",
    "plt.ylabel('Inertia')\n",
    "plt.title('Metodo del Gomito')\n",
    "plt.show()"
   ]
  },
  {
   "cell_type": "code",
   "execution_count": null,
   "metadata": {
    "executionInfo": {
     "elapsed": 8710,
     "status": "aborted",
     "timestamp": 1728749526011,
     "user": {
      "displayName": "Umberto Romagnolo",
      "userId": "14928952592276304637"
     },
     "user_tz": -120
    },
    "id": "ivHWKBo1s8rx"
   },
   "outputs": [],
   "source": [
    "# Definizione delle features per addestrare il modello K-means\n",
    "# X = hr[['YearsSinceLastPromotion']].copy()  # Copia la colonna in un DataFrame\n",
    "\n",
    "# Sostituisci i valori NaN con 0 nella colonna 'YearsSinceLastPromotion'\n",
    "# X['YearsSinceLastPromotion'].fillna(0, inplace=True)\n",
    "\n",
    "# Crea l'istanza del modello K-means\n",
    "kmeans = KMeans(n_clusters=3, random_state=42)\n",
    "\n",
    "# Addestra il modello sui dati YearsSinceLastPromotion\n",
    "kmeans.fit(X)\n",
    "\n",
    "# Assegna le etichette di cluster ai dipendenti\n",
    "hr['Cluster'] = kmeans.labels_\n",
    "\n",
    "# Calcola i valori minimi e massimi degli intervalli di YearsSinceLastPromotion per ogni cluster\n",
    "ywcm_ranges = []\n",
    "for cluster_id in range(3):\n",
    "    ywcm_values = hr.loc[hr['Cluster'] == cluster_id, 'YearsWithCurrManager']\n",
    "    ywcm_min = ywcm_values.min()\n",
    "    ywcm_max = ywcm_values.max()\n",
    "    ywcm_range = f\"{ywcm_min} - {ywcm_max}\"\n",
    "    ywcm_ranges.append(ywcm_range)\n",
    "\n",
    "print(ywcm_ranges)"
   ]
  },
  {
   "cell_type": "code",
   "execution_count": null,
   "metadata": {
    "executionInfo": {
     "elapsed": 8708,
     "status": "aborted",
     "timestamp": 1728749526011,
     "user": {
      "displayName": "Umberto Romagnolo",
      "userId": "14928952592276304637"
     },
     "user_tz": -120
    },
    "id": "qZQGowUBs8rx"
   },
   "outputs": [],
   "source": [
    "# Definisci gli estremi degli intervalli di YearsSinceLastPromotion (inclusi -> right=True)\n",
    "intervalli_ywcm = [(0, 4), (5, 9), (10,17)]\n",
    "\n",
    "hr['YwCm_Intervallo'] = pd.cut(hr['YearsWithCurrManager'], bins=[intervallo[0] for intervallo in intervalli_ywcm] + [intervalli_ywcm[-1][1] + 1],\n",
    "                        labels=[f\"{intervallo[0]}-{intervallo[1]}\" for intervallo in intervalli_ywcm], right=True)"
   ]
  },
  {
   "cell_type": "code",
   "execution_count": null,
   "metadata": {
    "executionInfo": {
     "elapsed": 8707,
     "status": "aborted",
     "timestamp": 1728749526012,
     "user": {
      "displayName": "Umberto Romagnolo",
      "userId": "14928952592276304637"
     },
     "user_tz": -120
    },
    "id": "vbdSEBFts8rx"
   },
   "outputs": [],
   "source": [
    "plt.figure(figsize=(8,10))\n",
    "ax = sns.countplot(x='YwCm_Intervallo', data=hr, hue=\"Attrition\")\n",
    "ax.set_ylabel('# of Employee')\n",
    "bars = ax.patches\n",
    "half = int(len(bars)/2)\n",
    "left_bars = bars[:half]\n",
    "right_bars = bars[half:]\n",
    "\n",
    "for left, right in zip(left_bars, right_bars):\n",
    "    height_l = left.get_height()\n",
    "    height_r = right.get_height()\n",
    "    total = height_l + height_r\n",
    "\n",
    "    ax.text(left.get_x() + left.get_width()/2., height_l + 30, '{0:.0%}'.format(height_l/total), ha=\"center\")\n",
    "    ax.text(right.get_x() + right.get_width()/2., height_r + 40, '{0:.0%}'.format(height_r/total), ha=\"center\")"
   ]
  },
  {
   "cell_type": "markdown",
   "metadata": {
    "id": "KLDEPmuds8ry"
   },
   "source": [
    "Dai grafici a barre si riscontra che, per ogni ripartizione rispetto alle classi di YearsSinceLastPromotion, la percentuale dei dipendenti che ha lasciato lo scorso anno è minore rispetto alla percentuale di chi è rimasto.\n",
    "\n",
    "- Il 14% di chi ha abbandonato l'azienda lo scorso anno rientra nella classe di chi ha trascorso al massimo 4 anni con il manager corrente.\n",
    "- Il 12% di chi ha abbandonato l'azienda lo scorso anno rientra nella classe di chi ha trascorso tra 5-9 anni con il manager corrente.\n",
    "- Lo 04% di chi ha abbandonato l'azienda lo scorso anno rientra nella classe di chi ha trascorso tra 10-17 anni con il manager corrente."
   ]
  },
  {
   "cell_type": "code",
   "execution_count": null,
   "metadata": {
    "executionInfo": {
     "elapsed": 8705,
     "status": "aborted",
     "timestamp": 1728749526012,
     "user": {
      "displayName": "Umberto Romagnolo",
      "userId": "14928952592276304637"
     },
     "user_tz": -120
    },
    "id": "bsvy7V2cs8ry"
   },
   "outputs": [],
   "source": [
    "# Calcola la tabella di frequenza percentuali per colonna\n",
    "table = pd.crosstab(hr['YwCm_Intervallo'], hr['Attrition'], normalize='columns') * 100\n",
    "\n",
    "# Stampa la tabella di frequenza\n",
    "print(table)"
   ]
  },
  {
   "cell_type": "markdown",
   "metadata": {
    "id": "yTmOPj8Ps8ry"
   },
   "source": [
    "A conferma di quanto visto dai grafici si veda la tabella a doppia entrata. Questa risalta che, tra i dipendenti che hanno abbandonato lo scorso anno, il 63% ha trascorso non più di 4 anni con il manager corrente. La seconda percentuale più alta, il 36%, è di chi ha trascorso con il manager corrente tra i 5 ed i 9 anni."
   ]
  },
  {
   "cell_type": "code",
   "execution_count": null,
   "metadata": {
    "executionInfo": {
     "elapsed": 8703,
     "status": "aborted",
     "timestamp": 1728749526012,
     "user": {
      "displayName": "Umberto Romagnolo",
      "userId": "14928952592276304637"
     },
     "user_tz": -120
    },
    "id": "lbfdHx_vs8ry"
   },
   "outputs": [],
   "source": [
    "# Filtra i dati per Attrition 'Yes' e 'No'\n",
    "attrition_yes = hr[hr['Attrition'] == 'Yes']\n",
    "attrition_no = hr[hr['Attrition'] == 'No']\n",
    "\n",
    "# Esegui il test t indipendente tra i due gruppi\n",
    "t_statistic, p_value = stats.ttest_ind(attrition_yes['YearsWithCurrManager'], attrition_no['YearsWithCurrManager'])\n",
    "\n",
    "# Stampa il risultato del test\n",
    "alpha = 0.05\n",
    "if p_value < alpha:\n",
    "    print(\"La differenza nel YearsWithCurrManager tra i gruppi di Attrition è statisticamente significativa.\")\n",
    "else:\n",
    "    print(\"Non vi è evidenza di una differenza significativa nel YearsWithCurrManager tra i gruppi di Attrition.\")"
   ]
  },
  {
   "cell_type": "markdown",
   "metadata": {
    "id": "Bgg5_GWxs8ry"
   },
   "source": [
    "Anche il risutato che si ottiene dal t-test è in linea con quanto osservato in precedenza; sia con alpha = 0.05 che con alpha = 0.01 la differenza negli anni con il manager corrente tra i gruppi di Attrition è statisticamente significativa."
   ]
  },
  {
   "cell_type": "markdown",
   "metadata": {
    "id": "Jj0Ojgh1s8ry"
   },
   "source": [
    "## Matrice di contingenza dei dati categoriali"
   ]
  },
  {
   "cell_type": "code",
   "execution_count": null,
   "metadata": {
    "executionInfo": {
     "elapsed": 8700,
     "status": "aborted",
     "timestamp": 1728749526012,
     "user": {
      "displayName": "Umberto Romagnolo",
      "userId": "14928952592276304637"
     },
     "user_tz": -120
    },
    "id": "F9Viqp5Es8ry"
   },
   "outputs": [],
   "source": [
    "# Dataframe con soli variabili categoriali\n",
    "hr_cat = hr_var_dec[['Attrition', 'JobInvolvement', 'PerformanceRating', 'EnvironmentSatisfaction', 'JobSatisfaction', 'WorkLifeBalance',\n",
    "                    'BusinessTravel', 'Department', 'Education', 'EducationField', 'Gender', 'JobRole', 'MaritalStatus']]"
   ]
  },
  {
   "cell_type": "code",
   "execution_count": null,
   "metadata": {
    "executionInfo": {
     "elapsed": 8698,
     "status": "aborted",
     "timestamp": 1728749526012,
     "user": {
      "displayName": "Umberto Romagnolo",
      "userId": "14928952592276304637"
     },
     "user_tz": -120
    },
    "id": "wYMwfzafs8rz"
   },
   "outputs": [],
   "source": [
    "hr_cat = hr_cat.astype('category')"
   ]
  },
  {
   "cell_type": "code",
   "execution_count": null,
   "metadata": {
    "executionInfo": {
     "elapsed": 8696,
     "status": "aborted",
     "timestamp": 1728749526012,
     "user": {
      "displayName": "Umberto Romagnolo",
      "userId": "14928952592276304637"
     },
     "user_tz": -120
    },
    "id": "h_P5nhXCs8rz"
   },
   "outputs": [],
   "source": [
    "# Creare la tabella di contingenza\n",
    "contingency_table = pd.crosstab(index=hr_cat['Attrition'],\n",
    "                               columns=[hr_cat['JobInvolvement'], hr_cat['PerformanceRating'],\n",
    "                                        hr_cat['EnvironmentSatisfaction'], hr_cat['JobSatisfaction'],\n",
    "                                        hr_cat['WorkLifeBalance'], hr_cat['BusinessTravel'], hr_cat['Department'],\n",
    "                                        hr_cat['Education'], hr_cat['EducationField'], hr_cat['Gender'],\n",
    "                                        hr_cat['JobRole'], hr_cat['MaritalStatus']])"
   ]
  },
  {
   "cell_type": "code",
   "execution_count": null,
   "metadata": {
    "executionInfo": {
     "elapsed": 8695,
     "status": "aborted",
     "timestamp": 1728749526012,
     "user": {
      "displayName": "Umberto Romagnolo",
      "userId": "14928952592276304637"
     },
     "user_tz": -120
    },
    "id": "WpmnE5bgs8rz"
   },
   "outputs": [],
   "source": [
    "# Frequenza delle combinazioni per Attrition = Yes\n",
    "freq_yes = contingency_table.loc['Yes']\n",
    "max_freq_yes_comb = freq_yes.idxmax()\n",
    "max_freq_yes_count = freq_yes.max()\n",
    "\n",
    "print(\"Combinazione con la frequenza più alta per Attrition = Yes:\")\n",
    "print(max_freq_yes_comb)\n",
    "print(\"Frequenza:\", max_freq_yes_count)\n",
    "\n",
    "# Frequenza delle combinazioni per Attrition = No\n",
    "freq_no = contingency_table.loc['No']\n",
    "max_freq_no_comb = freq_no.idxmax()\n",
    "max_freq_no_count = freq_no.max()\n",
    "\n",
    "print(\"\\nCombinazione con la frequenza più alta per Attrition = No:\")\n",
    "print(max_freq_no_comb)\n",
    "print(\"Frequenza:\", max_freq_no_count)"
   ]
  },
  {
   "cell_type": "markdown",
   "metadata": {
    "id": "kG5tejbIs8rz"
   },
   "source": [
    "La tabella di contingenza calcola la frequenza delle combinazioni di valori per le variabili specificate. Ogni cella della tabella rappresenta il numero di osservazioni che corrispondono a una specifica combinazione di valori.\n",
    "L'output che si è ottenuto indica le combinazioni di valori con la frequenza più alta per `Attrition = Yes` e `Attrition = No`. Si può vedere che le combinazioni di valori sono presentate come tuple, con ogni elemento che rappresenta i valori delle rispettive variabili categoriche.\n",
    "\n",
    "Per `Attrition = Yes`, la combinazione con la frequenza più alta è:\n",
    "- JobInvolvement: 'High'\n",
    "- PerformanceRating: 'Excellent'\n",
    "- EnvironmentSatisfaction: 'High'\n",
    "- JobSatisfaction: 'High'\n",
    "- WorkLifeBalance: 'Bad'\n",
    "- BusinessTravel: 'Travel_Frequently'\n",
    "- Department: 'Research & Development'\n",
    "- Education: 'Bachelor'\n",
    "- EducationField: 'Medical'\n",
    "- Gender: 'Female'\n",
    "- JobRole: 'Sales Executive'\n",
    "- MaritalStatus: 'Married'\n",
    "\n",
    "La frequenza associata a questa combinazione è 3.\n",
    "\n",
    "Per `Attrition = No`, la combinazione con la frequenza più alta è:\n",
    "- JobInvolvement: 'High'\n",
    "- PerformanceRating: 'Excellent'\n",
    "- EnvironmentSatisfaction: 'High'\n",
    "- JobSatisfaction: 'High'\n",
    "- WorkLifeBalance: 'Better'\n",
    "- BusinessTravel: 'Travel_Rarely'\n",
    "- Department: 'Sales'\n",
    "- Education: 'Bachelor'\n",
    "- EducationField: 'Medical'\n",
    "- Gender: 'Female'\n",
    "- JobRole: 'Laboratory Technician'\n",
    "- MaritalStatus: 'Married'\n",
    "\n",
    "La frequenza associata a questa combinazione è 6.\n",
    "\n",
    "Queste informazioni forniscono una comprensione delle combinazioni di valori che sono più frequenti per le diverse categorie di `Attrition`.\n",
    "\n",
    "Ha senso approfondire l'analisi esplorativa dei dati concentrandosi sulle variabili categoriali che risultano presenti nelle combinazioni di valori più frequenti. Questo può essere utile per identificare le caratteristiche più rilevanti o significative che potrebbero influenzare l'attrition.\n",
    "\n",
    "Concentrarsi sulle combinazioni di valori più frequenti permette di individuare i modelli o le relazioni che potrebbero avere un impatto significativo sull'attrition. Si può esaminare come queste variabili categoriali influenzano l'attrition e determinare se esistono correlazioni o tendenze evidenti."
   ]
  },
  {
   "cell_type": "code",
   "execution_count": null,
   "metadata": {
    "executionInfo": {
     "elapsed": 8693,
     "status": "aborted",
     "timestamp": 1728749526012,
     "user": {
      "displayName": "Umberto Romagnolo",
      "userId": "14928952592276304637"
     },
     "user_tz": -120
    },
    "id": "oEh0OpBJs8rz"
   },
   "outputs": [],
   "source": [
    "from scipy.stats import chi2_contingency\n",
    "\n",
    "# Lista delle variabili esplicative categoriche\n",
    "variabili_esplicative = ['JobInvolvement', 'PerformanceRating', 'EnvironmentSatisfaction', 'JobSatisfaction',\n",
    "                         'WorkLifeBalance', 'BusinessTravel', 'Department', 'Education', 'EducationField',\n",
    "                         'Gender', 'JobRole', 'MaritalStatus']\n",
    "\n",
    "# Lista delle variabili esplicative significative\n",
    "variabili_significative = []\n",
    "\n",
    "# Calcolo del test del chi-quadro per ogni variabile esplicativa\n",
    "for variabile in variabili_esplicative:\n",
    "    contingency_table = pd.crosstab(index=hr_var_dec['Attrition'], columns=hr_var_dec[variabile])\n",
    "    chi2, p_value, _, _ = chi2_contingency(contingency_table)\n",
    "\n",
    "    # Controllo del valore di p del test del chi-quadro\n",
    "    if p_value < 0.05:  # Impostare il livello di significatività desiderato\n",
    "        variabili_significative.append(variabile)\n",
    "\n",
    "# Output delle variabili esplicative significative\n",
    "if len(variabili_significative) > 0:\n",
    "    print(\"Le seguenti variabili esplicative categoriche risultano significative:\")\n",
    "    for variabile in variabili_significative:\n",
    "        print(variabile)\n",
    "else:\n",
    "    print(\"Nessuna variabile esplicativa categorica risulta significativa.\")\n"
   ]
  },
  {
   "cell_type": "code",
   "execution_count": null,
   "metadata": {
    "executionInfo": {
     "elapsed": 8691,
     "status": "aborted",
     "timestamp": 1728749526012,
     "user": {
      "displayName": "Umberto Romagnolo",
      "userId": "14928952592276304637"
     },
     "user_tz": -120
    },
    "id": "37iBubB1s8r0"
   },
   "outputs": [],
   "source": [
    "# Lista delle variabili esplicative categoriche\n",
    "variabili_esplicative = ['JobInvolvement', 'PerformanceRating', 'EnvironmentSatisfaction', 'JobSatisfaction',\n",
    "                         'WorkLifeBalance', 'BusinessTravel', 'Department', 'Education', 'EducationField',\n",
    "                         'Gender', 'JobRole', 'MaritalStatus']\n",
    "\n",
    "# Lista delle variabili esplicative significative\n",
    "variabili_significative = []\n",
    "\n",
    "# Calcolo del test del chi-quadro per ogni variabile esplicativa\n",
    "for variabile in variabili_esplicative:\n",
    "    contingency_table = pd.crosstab(index=hr_var_dec['Attrition'], columns=hr_var_dec[variabile])\n",
    "    chi2, p_value, _, _ = chi2_contingency(contingency_table)\n",
    "\n",
    "    # Controllo del valore di p del test del chi-quadro\n",
    "    if p_value < 0.01:  # Impostare il livello di significatività desiderato\n",
    "        variabili_significative.append(variabile)\n",
    "\n",
    "# Output delle variabili esplicative significative\n",
    "if len(variabili_significative) > 0:\n",
    "    print(\"Le seguenti variabili esplicative categoriche risultano significative:\")\n",
    "    for variabile in variabili_significative:\n",
    "        print(variabile)\n",
    "else:\n",
    "    print(\"Nessuna variabile esplicativa categorica risulta significativa.\")"
   ]
  },
  {
   "cell_type": "code",
   "execution_count": null,
   "metadata": {
    "executionInfo": {
     "elapsed": 8689,
     "status": "aborted",
     "timestamp": 1728749526012,
     "user": {
      "displayName": "Umberto Romagnolo",
      "userId": "14928952592276304637"
     },
     "user_tz": -120
    },
    "id": "bpPLDmZAs8r0"
   },
   "outputs": [],
   "source": [
    "hr_cat2 = hr_cat.copy()\n",
    "# Converti la variabile Attrition in numerica e formatta le altre in category\n",
    "hr_cat2['Attrition'] = hr_cat2['Attrition'].map({'Yes': 1, 'No': 0})\n",
    "hr_cat2['Attrition'] = hr_cat2['Attrition'].astype(int)"
   ]
  },
  {
   "cell_type": "code",
   "execution_count": null,
   "metadata": {
    "executionInfo": {
     "elapsed": 8687,
     "status": "aborted",
     "timestamp": 1728749526012,
     "user": {
      "displayName": "Umberto Romagnolo",
      "userId": "14928952592276304637"
     },
     "user_tz": -120
    },
    "id": "Byu7kQkXs8r0"
   },
   "outputs": [],
   "source": [
    "# Lista delle variabili esplicative categoriche\n",
    "variabili_esplicative = ['JobInvolvement', 'PerformanceRating', 'EnvironmentSatisfaction', 'JobSatisfaction',\n",
    "                         'WorkLifeBalance', 'BusinessTravel', 'Department', 'Education', 'EducationField',\n",
    "                         'Gender', 'JobRole', 'MaritalStatus']\n",
    "\n",
    "# Lista delle variabili esplicative significative\n",
    "variabili_significative = []\n",
    "\n",
    "# Calcolo dell'ANOVA bidirezionale per ogni variabile esplicativa\n",
    "for variabile in variabili_esplicative:\n",
    "    formula = 'Attrition ~ ' + variabile\n",
    "    model = ols(formula, data=hr_cat2).fit()\n",
    "    table = sm.stats.anova_lm(model, typ=2)\n",
    "    p_value = table.loc[variabile, 'PR(>F)']\n",
    "\n",
    "    if p_value < 0.05:  # Impostare il livello di significatività desiderato\n",
    "        variabili_significative.append(variabile)\n",
    "\n",
    "# Generazione dell'output con le variabili esplicative significative\n",
    "if len(variabili_significative) > 0:\n",
    "    output = \"Le seguenti variabili esplicative categoriche risultano significative: \" + \", \".join(variabili_significative)\n",
    "else:\n",
    "    output = \"Nessuna variabile esplicativa categorica risulta significativa.\"\n",
    "\n",
    "print(output)"
   ]
  },
  {
   "cell_type": "code",
   "execution_count": null,
   "metadata": {
    "executionInfo": {
     "elapsed": 8685,
     "status": "aborted",
     "timestamp": 1728749526012,
     "user": {
      "displayName": "Umberto Romagnolo",
      "userId": "14928952592276304637"
     },
     "user_tz": -120
    },
    "id": "xFvpiEbis8r0"
   },
   "outputs": [],
   "source": [
    "# Calcolo dell'ANOVA bidirezionale per ogni variabile esplicativa con alpha = 0.01\n",
    "for variabile in variabili_esplicative:\n",
    "    formula = 'Attrition ~ ' + variabile\n",
    "    model = ols(formula, data=hr_cat2).fit()\n",
    "    table = sm.stats.anova_lm(model, typ=2)\n",
    "    p_value = table.loc[variabile, 'PR(>F)']\n",
    "\n",
    "    if p_value < 0.01:  # Impostare il livello di significatività desiderato\n",
    "        variabili_significative.append(variabile)\n",
    "\n",
    "# Generazione dell'output con le variabili esplicative significative\n",
    "if len(variabili_significative) > 0:\n",
    "    output = \"Le seguenti variabili esplicative categoriche risultano significative: \" + \", \".join(variabili_significative)\n",
    "else:\n",
    "    output = \"Nessuna variabile esplicativa categorica risulta significativa.\"\n",
    "\n",
    "print(output)"
   ]
  },
  {
   "cell_type": "markdown",
   "metadata": {
    "id": "N0Hv3AKLs8r0"
   },
   "source": [
    "Dai test del chi-quadro e ANOVA si è ottenuta una lista di variabili esplicative categoriche che risultano significative e che si vedranno in dettaglio."
   ]
  },
  {
   "cell_type": "markdown",
   "metadata": {
    "id": "KBpMpCPrs8r1"
   },
   "source": [
    "## Attrition & JobInvolvement"
   ]
  },
  {
   "cell_type": "code",
   "execution_count": null,
   "metadata": {
    "executionInfo": {
     "elapsed": 8683,
     "status": "aborted",
     "timestamp": 1728749526012,
     "user": {
      "displayName": "Umberto Romagnolo",
      "userId": "14928952592276304637"
     },
     "user_tz": -120
    },
    "id": "YP_MJmZCs8r1"
   },
   "outputs": [],
   "source": [
    "plt.figure(figsize=(8,10))\n",
    "ax = sns.countplot(x='JobInvolvement', data=hr_var_dec, hue=\"Attrition\")\n",
    "ax.set_ylabel('# of Employee')\n",
    "bars = ax.patches\n",
    "half = int(len(bars)/2)\n",
    "left_bars = bars[:half]\n",
    "right_bars = bars[half:]\n",
    "\n",
    "for left, right in zip(left_bars, right_bars):\n",
    "    height_l = left.get_height()\n",
    "    height_r = right.get_height()\n",
    "    total = height_l + height_r\n",
    "\n",
    "    ax.text(left.get_x() + left.get_width()/2., height_l + 30, '{0:.0%}'.format(height_l/total), ha=\"center\")\n",
    "    ax.text(right.get_x() + right.get_width()/2., height_r + 40, '{0:.0%}'.format(height_r/total), ha=\"center\")"
   ]
  },
  {
   "cell_type": "code",
   "execution_count": null,
   "metadata": {
    "executionInfo": {
     "elapsed": 8681,
     "status": "aborted",
     "timestamp": 1728749526012,
     "user": {
      "displayName": "Umberto Romagnolo",
      "userId": "14928952592276304637"
     },
     "user_tz": -120
    },
    "id": "3qQrk1yts8r1"
   },
   "outputs": [],
   "source": [
    "# Crea la tabella a doppia entrata con valori percentuali per colonna\n",
    "table = pd.crosstab(hr_var_dec['JobInvolvement'], hr['Attrition'], normalize='columns') * 100\n",
    "# Definisci l'ordine desiderato per i valori di JobInvolvement\n",
    "order = ['Low', 'Medium', 'High', 'Very High']\n",
    "# Ordina la tabella in base all'ordine definito\n",
    "table = table.reindex(order)\n",
    "# Visualizza la tabella\n",
    "print(table)"
   ]
  },
  {
   "cell_type": "markdown",
   "metadata": {
    "id": "2jV6ZoYvs8r1"
   },
   "source": [
    "Dal grafico a barre si riscontra che, per ogni ripartizione rispetto al \"JobInvolvement\", la percentuale dei dipendenti che ha lasciato lo scorso anno è molto minore rispetto alla percentuale di chi è rimasto.\n",
    "\n",
    "- Il 22% di chi ha abbandonato l'azienda lo scorso anno ha dato \"Low\" al livello di coinvolgimento lavorativo.\n",
    "- Il 16% di chi ha abbandonato l'azienda lo scorso anno ha dato \"Medium\" al livello di coinvolgimento lavorativo.\n",
    "- Il 15% di chi ha abbandonato l'azienda lo scorso anno ha dato \"High\" al livello di coinvolgimento lavorativo.\n",
    "- Il 18% di chi ha abbandonato l'azienda lo scorso anno ha dato \"Very High\" al livello di coinvolgimento lavorativo.\n",
    "\n",
    "Dalla tabella a doppia entrata risalta che, tra i dipendenti che hanno abbandonato lo scorso anno, il 56% ha valutato il livello di coinvolgimento lavorativo come \"High\". La seconda percentuale più alta, il 25%, è di chi ha valutato il livello di coinvolgimento lavorativo come \"Medium\"."
   ]
  },
  {
   "cell_type": "markdown",
   "metadata": {
    "id": "HPJsmadQs8r1"
   },
   "source": [
    "## Attrition & EnvironmentSatisfaction"
   ]
  },
  {
   "cell_type": "code",
   "execution_count": null,
   "metadata": {
    "executionInfo": {
     "elapsed": 8679,
     "status": "aborted",
     "timestamp": 1728749526012,
     "user": {
      "displayName": "Umberto Romagnolo",
      "userId": "14928952592276304637"
     },
     "user_tz": -120
    },
    "id": "XLpgIDqrs8r1"
   },
   "outputs": [],
   "source": [
    "plt.figure(figsize=(8,10))\n",
    "ax = sns.countplot(x='EnvironmentSatisfaction', data=hr_var_dec, hue=\"Attrition\")\n",
    "ax.set_ylabel('# of Employee')\n",
    "bars = ax.patches\n",
    "half = int(len(bars)/2)\n",
    "left_bars = bars[:half]\n",
    "right_bars = bars[half:]\n",
    "\n",
    "for left, right in zip(left_bars, right_bars):\n",
    "    height_l = left.get_height()\n",
    "    height_r = right.get_height()\n",
    "    total = height_l + height_r\n",
    "\n",
    "    ax.text(left.get_x() + left.get_width()/2., height_l + 30, '{0:.0%}'.format(height_l/total), ha=\"center\")\n",
    "    ax.text(right.get_x() + right.get_width()/2., height_r + 40, '{0:.0%}'.format(height_r/total), ha=\"center\")"
   ]
  },
  {
   "cell_type": "code",
   "execution_count": null,
   "metadata": {
    "executionInfo": {
     "elapsed": 8677,
     "status": "aborted",
     "timestamp": 1728749526012,
     "user": {
      "displayName": "Umberto Romagnolo",
      "userId": "14928952592276304637"
     },
     "user_tz": -120
    },
    "id": "CZGJRJKUs8r2"
   },
   "outputs": [],
   "source": [
    "# Crea la tabella a doppia entrata con valori percentuali per colonna\n",
    "table = pd.crosstab(hr_var_dec['EnvironmentSatisfaction'], hr['Attrition'], normalize='columns') * 100\n",
    "# Definisci l'ordine desiderato per i valori di EnvironmentSatisfaction\n",
    "order = ['Low', 'Medium', 'High', 'Very High']\n",
    "# Ordina la tabella in base all'ordine definito\n",
    "table = table.reindex(order)\n",
    "# Visualizza la tabella\n",
    "print(table)"
   ]
  },
  {
   "cell_type": "markdown",
   "metadata": {
    "id": "AUhQlSURs8r2"
   },
   "source": [
    "Dal grafico a barre si riscontra che, per ogni ripartizione rispetto al \"EnvironmentSatisfaction\", la percentuale dei dipendenti che ha lasciato lo scorso anno è molto minore rispetto alla percentuale di chi è rimasto.\n",
    "\n",
    "- Il 25% di chi ha abbandonato l'azienda lo scorso anno ha dato \"Low\" al livello di soddisfazione dell'ambiente di lavoro.\n",
    "- Il 15% di chi ha abbandonato l'azienda lo scorso anno ha dato \"Medium\" al livello di soddisfazione dell'ambiente di lavoro.\n",
    "- Il 14% di chi ha abbandonato l'azienda lo scorso anno ha dato \"High\" al livello di soddisfazione dell'ambiente di lavoro.\n",
    "- Il 13% di chi ha abbandonato l'azienda lo scorso anno ha dato \"Very High\" al livello di soddisfazione dell'ambiente di lavoro.\n",
    "\n",
    "Dalla tabella a doppia entrata risalta che, tra i dipendenti che hanno abbandonato lo scorso anno, il 30% ha valutato il livello di soddisfazione dell'ambiente di lavoro come \"Low\". La seconda percentuale più alta, il 27%, è di chi ha valutato il livello di soddisfazione dell'ambiente di lavoro come \"High\"."
   ]
  },
  {
   "cell_type": "markdown",
   "metadata": {
    "id": "fDqqqrK-s8r2"
   },
   "source": [
    "## Attrition & JobSatisfaction"
   ]
  },
  {
   "cell_type": "code",
   "execution_count": null,
   "metadata": {
    "executionInfo": {
     "elapsed": 8675,
     "status": "aborted",
     "timestamp": 1728749526012,
     "user": {
      "displayName": "Umberto Romagnolo",
      "userId": "14928952592276304637"
     },
     "user_tz": -120
    },
    "id": "ENmcCFzhs8r2"
   },
   "outputs": [],
   "source": [
    "plt.figure(figsize=(8,8))\n",
    "ax = sns.countplot(x='JobSatisfaction', data=hr_var_dec, hue=\"Attrition\")\n",
    "ax.set_ylabel('# of Employee')\n",
    "bars = ax.patches\n",
    "half = int(len(bars)/2)\n",
    "left_bars = bars[:half]\n",
    "right_bars = bars[half:]\n",
    "\n",
    "for left, right in zip(left_bars, right_bars):\n",
    "    height_l = left.get_height()\n",
    "    height_r = right.get_height()\n",
    "    total = height_l + height_r\n",
    "\n",
    "    ax.text(left.get_x() + left.get_width()/2., height_l + 40, '{0:.0%}'.format(height_l/total), ha=\"center\")\n",
    "    ax.text(right.get_x() + right.get_width()/2., height_r + 40, '{0:.0%}'.format(height_r/total), ha=\"center\")"
   ]
  },
  {
   "cell_type": "code",
   "execution_count": null,
   "metadata": {
    "executionInfo": {
     "elapsed": 8673,
     "status": "aborted",
     "timestamp": 1728749526012,
     "user": {
      "displayName": "Umberto Romagnolo",
      "userId": "14928952592276304637"
     },
     "user_tz": -120
    },
    "id": "mPQV_Byns8r2"
   },
   "outputs": [],
   "source": [
    "# Crea la tabella a doppia entrata con valori percentuali per colonna\n",
    "table = pd.crosstab(hr_var_dec['JobSatisfaction'], hr['Attrition'], normalize='columns') * 100\n",
    "# Definisci l'ordine desiderato per i valori di EnvironmentSatisfaction\n",
    "order = ['Low', 'Medium', 'High', 'Very High']\n",
    "# Ordina la tabella in base all'ordine definito\n",
    "table = table.reindex(order)\n",
    "# Visualizza la tabella\n",
    "print(table)"
   ]
  },
  {
   "cell_type": "markdown",
   "metadata": {
    "id": "TyQjuAb0s8r3"
   },
   "source": [
    "Dal grafico a barre si riscontra che, per ogni ripartizione rispetto al \"JobSatisfaction\", la percentuale dei dipendenti che ha lasciato lo scorso anno è molto minore rispetto alla percentuale di chi è rimasto.\n",
    "\n",
    "- Il 23% di chi ha abbandonato l'azienda lo scorso anno ha dato \"Low\" al livello di soddisfazione del lavoro.\n",
    "- Il 16% di chi ha abbandonato l'azienda lo scorso anno ha dato \"Medium\" al livello di soddisfazione del lavoro.\n",
    "- Il 16% di chi ha abbandonato l'azienda lo scorso anno ha dato \"High\" al livello di soddisfazione del lavoro.\n",
    "- Il 11% di chi ha abbandonato l'azienda lo scorso anno ha dato \"Very High\" al livello di soddisfazione del lavoro.\n",
    "\n",
    "Dalla tabella a doppia entrata risalta che, tra i dipendenti che hanno abbandonato lo scorso anno, il 31% ha valutato il livello di soddisfazione del lavoro come \"High\". La seconda percentuale più alta, il 28%, è di chi ha valutato il livello di soddisfazione del lavoro come \"Low\"."
   ]
  },
  {
   "cell_type": "markdown",
   "metadata": {
    "id": "NorsyyHts8r3"
   },
   "source": [
    "## Attrition & WorkLifeBalance"
   ]
  },
  {
   "cell_type": "code",
   "execution_count": null,
   "metadata": {
    "executionInfo": {
     "elapsed": 8673,
     "status": "aborted",
     "timestamp": 1728749526013,
     "user": {
      "displayName": "Umberto Romagnolo",
      "userId": "14928952592276304637"
     },
     "user_tz": -120
    },
    "id": "8EDulvdvs8r3"
   },
   "outputs": [],
   "source": [
    "# Si crea un grafico a barre che mostra il conteggio del bilanciamento tra lavoro e vita privata\n",
    "# dei dipendenti di un'azienda, suddiviso in base all'attrition (la tendenza dei dipendenti a lasciare l'azienda).\n",
    "\n",
    "plt.figure(figsize=(8,8))\n",
    "ax = sns.countplot(x='WorkLifeBalance', data=hr_var_dec, hue=\"Attrition\")\n",
    "ax.set_ylabel('# of Employee')\n",
    "bars = ax.patches\n",
    "half = int(len(bars)/2)\n",
    "left_bars = bars[:half]\n",
    "right_bars = bars[half:]\n",
    "\n",
    "for left, right in zip(left_bars, right_bars):\n",
    "    height_l = left.get_height()\n",
    "    height_r = right.get_height()\n",
    "    total = height_l + height_r\n",
    "\n",
    "    ax.text(left.get_x() + left.get_width()/2., height_l + 40, '{0:.0%}'.format(height_l/total), ha=\"center\")\n",
    "    ax.text(right.get_x() + right.get_width()/2., height_r + 40, '{0:.0%}'.format(height_r/total), ha=\"center\")"
   ]
  },
  {
   "cell_type": "code",
   "execution_count": null,
   "metadata": {
    "executionInfo": {
     "elapsed": 8671,
     "status": "aborted",
     "timestamp": 1728749526013,
     "user": {
      "displayName": "Umberto Romagnolo",
      "userId": "14928952592276304637"
     },
     "user_tz": -120
    },
    "id": "656FGF4ps8r3"
   },
   "outputs": [],
   "source": [
    "# Crea la tabella a doppia entrata con valori percentuali per colonna\n",
    "table = pd.crosstab(hr_var_dec['WorkLifeBalance'],hr['Attrition'],normalize='columns') * 100\n",
    "# Definisci l'ordine desiderato per i valori di WorkLifeBalance\n",
    "order = ['Bad', 'Good', 'Better','Best']\n",
    "# Ordina la tabella in base all'ordine definito\n",
    "table = table.reindex(order)\n",
    "# Visualizza la tabella\n",
    "print(table)"
   ]
  },
  {
   "cell_type": "markdown",
   "metadata": {
    "id": "0TLfSP_ns8r4"
   },
   "source": [
    "Dal grafico a barre si riscontra che, per ogni ripartizione rispetto al \"WorkLifeBalance\", la percentuale dei dipendenti che ha lasciato l'anno precedente è molto minore rispetto a chi non ha lasciato.\n",
    "\n",
    "Dalla tabella a doppia entrata viene risaltato invece che, tra i dipendenti che hanno lasciato l'anno precedente, il 54% riteneva il bilanciamento tra lavoro e vita privata come \"Better\".\n",
    "il 24% invece riteneva il bilanciamento lavoro-vita \"Good\".\n",
    "\n",
    "Potrebbe quindi non essere una variabile significativa"
   ]
  },
  {
   "cell_type": "markdown",
   "metadata": {
    "id": "XZvPcPWqs8r4"
   },
   "source": [
    "## Attrition & BusinessTravel"
   ]
  },
  {
   "cell_type": "code",
   "execution_count": null,
   "metadata": {
    "executionInfo": {
     "elapsed": 8668,
     "status": "aborted",
     "timestamp": 1728749526013,
     "user": {
      "displayName": "Umberto Romagnolo",
      "userId": "14928952592276304637"
     },
     "user_tz": -120
    },
    "id": "Y8I32hoAs8r4"
   },
   "outputs": [],
   "source": [
    "plt.figure(figsize=(8,8))\n",
    "ax = sns.countplot(x='BusinessTravel', data=hr_var_dec, hue=\"Attrition\")\n",
    "ax.set_ylabel('# of Employee')\n",
    "bars = ax.patches\n",
    "half = int(len(bars)/2)\n",
    "left_bars = bars[:half]\n",
    "right_bars = bars[half:]\n",
    "\n",
    "for left, right in zip(left_bars, right_bars):\n",
    "    height_l = left.get_height()\n",
    "    height_r = right.get_height()\n",
    "    total = height_l + height_r\n",
    "\n",
    "    ax.text(left.get_x() + left.get_width()/2., height_l + 40, '{0:.0%}'.format(height_l/total), ha=\"center\")\n",
    "    ax.text(right.get_x() + right.get_width()/2., height_r + 40, '{0:.0%}'.format(height_r/total), ha=\"center\")"
   ]
  },
  {
   "cell_type": "code",
   "execution_count": null,
   "metadata": {
    "executionInfo": {
     "elapsed": 8666,
     "status": "aborted",
     "timestamp": 1728749526013,
     "user": {
      "displayName": "Umberto Romagnolo",
      "userId": "14928952592276304637"
     },
     "user_tz": -120
    },
    "id": "4zEl59p3s8r4"
   },
   "outputs": [],
   "source": [
    "# Crea la tabella a doppia entrata con valori percentuali per colonna\n",
    "table = pd.crosstab(hr_var_dec['BusinessTravel'],hr['Attrition'],normalize='columns') * 100\n",
    "# Definisci l'ordine desiderato per i valori di BusinessTravel\n",
    "order = ['Non-Travel', 'Travel_Rarely', 'Travel_Frequently']\n",
    "# Ordina la tabella in base all'ordine definito\n",
    "table = table.reindex(order)\n",
    "# Visualizza la tabella\n",
    "print(table)"
   ]
  },
  {
   "cell_type": "markdown",
   "metadata": {
    "id": "QW0eE593s8r4"
   },
   "source": [
    "Dal grafico a barre si riscontra che, per ogni ripartizione rispetto al \"BusinessTravel\", la percentuale dei dipendenti che ha lasciato l'anno precedente è molto minore rispetto a chi non ha lasciato.\n",
    "\n",
    "Dalla tabella a doppia entrata viene risaltato invece che, tra i dipendenti che hanno lasciato l'anno precedente, il 66% riteneva viaggiava raramente.\n",
    "il 29% invece viaggiava per lavoro frequentemente."
   ]
  },
  {
   "cell_type": "markdown",
   "metadata": {
    "id": "CTTihbDCs8r4"
   },
   "source": [
    "## Attrition & Department"
   ]
  },
  {
   "cell_type": "code",
   "execution_count": null,
   "metadata": {
    "executionInfo": {
     "elapsed": 8664,
     "status": "aborted",
     "timestamp": 1728749526013,
     "user": {
      "displayName": "Umberto Romagnolo",
      "userId": "14928952592276304637"
     },
     "user_tz": -120
    },
    "id": "pk-frpwSs8r5"
   },
   "outputs": [],
   "source": [
    "plt.figure(figsize=(8,8))\n",
    "ax = sns.countplot(x='Department', data=hr_var_dec, hue=\"Attrition\")\n",
    "ax.set_ylabel('# of Employee')\n",
    "bars = ax.patches\n",
    "half = int(len(bars)/2)\n",
    "left_bars = bars[:half]\n",
    "right_bars = bars[half:]\n",
    "\n",
    "for left, right in zip(left_bars, right_bars):\n",
    "    height_l = left.get_height()\n",
    "    height_r = right.get_height()\n",
    "    total = height_l + height_r\n",
    "\n",
    "    ax.text(left.get_x() + left.get_width()/2., height_l + 40, '{0:.0%}'.format(height_l/total), ha=\"center\")\n",
    "    ax.text(right.get_x() + right.get_width()/2., height_r + 40, '{0:.0%}'.format(height_r/total), ha=\"center\")"
   ]
  },
  {
   "cell_type": "code",
   "execution_count": null,
   "metadata": {
    "executionInfo": {
     "elapsed": 8663,
     "status": "aborted",
     "timestamp": 1728749526013,
     "user": {
      "displayName": "Umberto Romagnolo",
      "userId": "14928952592276304637"
     },
     "user_tz": -120
    },
    "id": "eUtDVxMts8r5"
   },
   "outputs": [],
   "source": [
    "# Crea la tabella a doppia entrata con valori percentuali per colonna\n",
    "table = pd.crosstab(hr_var_dec['Department'],hr['Attrition'],normalize='columns') * 100\n",
    "# Definisci l'ordine desiderato per i valori di Department\n",
    "order = ['Sales', 'Research & Development', 'Human Resources']\n",
    "# Ordina la tabella in base all'ordine definito\n",
    "table = table.reindex(order)\n",
    "# Visualizza la tabella\n",
    "print(table)"
   ]
  },
  {
   "cell_type": "markdown",
   "metadata": {
    "id": "_VDqcet2s8r5"
   },
   "source": [
    "Dal grafico a barre si riscontra che, per ogni ripartizione rispetto al \"Department\", la percentuale dei dipendenti che ha lasciato l'anno precedente è molto minore rispetto a chi non ha lasciato. Unica eccezione nel settore 'Human Resources' dove i due valori della variabile 'Attrition' non sono molto distanti.\n",
    "\n",
    "Dalla tabella a doppia entrata viene risaltato invece che, tra i dipendenti che hanno lasciato l'anno precedente, il 64% proveniva dal settore Ricerca & Sviluppo dell'azienda.\n",
    "il 28% invece dal reparto Vendite.\n",
    "\n",
    "Questo risultato ha un riscontro nella realtà in quanto offerte di lavoro nel settore informatico sono in numero maggiore."
   ]
  },
  {
   "cell_type": "markdown",
   "metadata": {
    "id": "Ch8btY-Ps8r5"
   },
   "source": [
    "## Attrition & EducationField"
   ]
  },
  {
   "cell_type": "code",
   "execution_count": null,
   "metadata": {
    "executionInfo": {
     "elapsed": 8661,
     "status": "aborted",
     "timestamp": 1728749526013,
     "user": {
      "displayName": "Umberto Romagnolo",
      "userId": "14928952592276304637"
     },
     "user_tz": -120
    },
    "id": "Y6klz_zzs8r5"
   },
   "outputs": [],
   "source": [
    "plt.figure(figsize=(15,8))\n",
    "ax = sns.countplot(x='EducationField', data=hr_var_dec, hue=\"Attrition\")\n",
    "ax.set_ylabel('# of Employee')\n",
    "bars = ax.patches\n",
    "half = int(len(bars)/2)\n",
    "left_bars = bars[:half]\n",
    "right_bars = bars[half:]\n",
    "\n",
    "for left, right in zip(left_bars, right_bars):\n",
    "    height_l = left.get_height()\n",
    "    height_r = right.get_height()\n",
    "    total = height_l + height_r\n",
    "\n",
    "    ax.text(left.get_x() + left.get_width()/2., height_l + 40, '{0:.0%}'.format(height_l/total), ha=\"center\")\n",
    "    ax.text(right.get_x() + right.get_width()/2., height_r + 40, '{0:.0%}'.format(height_r/total), ha=\"center\")"
   ]
  },
  {
   "cell_type": "code",
   "execution_count": null,
   "metadata": {
    "executionInfo": {
     "elapsed": 8659,
     "status": "aborted",
     "timestamp": 1728749526013,
     "user": {
      "displayName": "Umberto Romagnolo",
      "userId": "14928952592276304637"
     },
     "user_tz": -120
    },
    "id": "D9QzkBCMs8r5"
   },
   "outputs": [],
   "source": [
    "# Crea la tabella a doppia entrata con valori percentuali per colonna\n",
    "table = pd.crosstab(hr_var_dec['EducationField'],hr['Attrition'],normalize='columns') * 100\n",
    "# Definisci l'ordine desiderato per i valori di EducationField\n",
    "order = ['Life Sciences', 'Other', 'Medical', 'Marketing', 'Technical Degree', 'Human Resources']\n",
    "# Ordina la tabella in base all'ordine definito\n",
    "table = table.reindex(order)\n",
    "# Visualizza la tabella\n",
    "print(table)"
   ]
  },
  {
   "cell_type": "markdown",
   "metadata": {
    "id": "QK41Bjb4s8r6"
   },
   "source": [
    "Dal grafico a barre si riscontra che, per ogni ripartizione rispetto al \"EducationField\", la percentuale dei dipendenti che ha lasciato l'anno precedente è molto minore rispetto a chi non ha lasciato. Unica eccezione nel campo di educazione 'Human Resources' dove i due valori della variabile 'Attrition' quasi si eguagliano.\n",
    "\n",
    "Dalla tabella a doppia entrata viene risaltato invece che, tra i dipendenti che hanno lasciato l'anno precedente, il 42% ha studiato nel campo delle Scienze della Vita.\n",
    "il 31% invece ha avuto una formazione Medica."
   ]
  },
  {
   "cell_type": "markdown",
   "metadata": {
    "id": "UVyc8hy8s8r6"
   },
   "source": [
    "## Attrition & JobRole"
   ]
  },
  {
   "cell_type": "code",
   "execution_count": null,
   "metadata": {
    "executionInfo": {
     "elapsed": 8656,
     "status": "aborted",
     "timestamp": 1728749526013,
     "user": {
      "displayName": "Umberto Romagnolo",
      "userId": "14928952592276304637"
     },
     "user_tz": -120
    },
    "id": "mcgwqQOUs8r6"
   },
   "outputs": [],
   "source": [
    "plt.figure(figsize=(20,8))\n",
    "ax = sns.countplot(x='JobRole', data=hr_var_dec, hue=\"Attrition\")\n",
    "ax.set_ylabel('# of Employee')\n",
    "bars = ax.patches\n",
    "half = int(len(bars)/2)\n",
    "left_bars = bars[:half]\n",
    "right_bars = bars[half:]\n",
    "\n",
    "for left, right in zip(left_bars, right_bars):\n",
    "    height_l = left.get_height()\n",
    "    height_r = right.get_height()\n",
    "    total = height_l + height_r\n",
    "\n",
    "    ax.text(left.get_x() + left.get_width()/2., height_l + 40, '{0:.0%}'.format(height_l/total), ha=\"center\")\n",
    "    ax.text(right.get_x() + right.get_width()/2., height_r + 40, '{0:.0%}'.format(height_r/total), ha=\"center\")"
   ]
  },
  {
   "cell_type": "code",
   "execution_count": null,
   "metadata": {
    "executionInfo": {
     "elapsed": 8654,
     "status": "aborted",
     "timestamp": 1728749526013,
     "user": {
      "displayName": "Umberto Romagnolo",
      "userId": "14928952592276304637"
     },
     "user_tz": -120
    },
    "id": "D0tTKEcms8r6"
   },
   "outputs": [],
   "source": [
    "# Crea la tabella a doppia entrata con valori percentuali per colonna\n",
    "table = pd.crosstab(hr_var_dec['JobRole'],hr['Attrition'],normalize='columns') * 100\n",
    "# Definisci l'ordine desiderato per i valori di JobRole\n",
    "order = ['Healthcare Representative', 'Research Scientist', 'Sales Executive', 'Human Resources', 'Research Director', 'Laboratory Technician',\n",
    "            'Manufacturing Director', 'Sales Representative', 'Manager']\n",
    "# Ordina la tabella in base all'ordine definito\n",
    "table = table.reindex(order)\n",
    "# Visualizza la tabella\n",
    "print(table)"
   ]
  },
  {
   "cell_type": "markdown",
   "metadata": {
    "id": "M3PiTRshs8r6"
   },
   "source": [
    "Dal grafico a barre si riscontra che, per ogni ripartizione rispetto al \"JobRole\", la percentuale dei dipendenti che ha lasciato l'anno precedente è  minore rispetto a chi non ha lasciato.\n",
    "\n",
    "Dalla tabella a doppia entrata viene risaltato invece che, tra i dipendenti che hanno lasciato l'anno precedente, i primi tre ruoli lavorativi con maggiore percentuale sono:\n",
    "\n",
    "1. Sales Executive con il 23%\n",
    "2. Research Scientist con il 22%\n",
    "3. Laboratory Technician con il 18%\n",
    "\n",
    "Ciò riconferma quanto visto con le variabili 'EducationField' e 'Department'"
   ]
  },
  {
   "cell_type": "markdown",
   "metadata": {
    "id": "4sjGuk1vs8r6"
   },
   "source": [
    "## Attrition & MaritalStatus"
   ]
  },
  {
   "cell_type": "code",
   "execution_count": null,
   "metadata": {
    "executionInfo": {
     "elapsed": 8652,
     "status": "aborted",
     "timestamp": 1728749526013,
     "user": {
      "displayName": "Umberto Romagnolo",
      "userId": "14928952592276304637"
     },
     "user_tz": -120
    },
    "id": "TCJSOEJis8r7"
   },
   "outputs": [],
   "source": [
    "plt.figure(figsize=(8,8))\n",
    "ax = sns.countplot(x='MaritalStatus', data=hr, hue=\"Attrition\")\n",
    "ax.set_ylabel('# of Employee')\n",
    "bars = ax.patches\n",
    "half = int(len(bars)/2)\n",
    "left_bars = bars[:half]\n",
    "right_bars = bars[half:]\n",
    "\n",
    "for left, right in zip(left_bars, right_bars):\n",
    "    height_l = left.get_height()\n",
    "    height_r = right.get_height()\n",
    "    total = height_l + height_r\n",
    "\n",
    "    ax.text(left.get_x() + left.get_width()/2., height_l + 40, '{0:.0%}'.format(height_l/total), ha=\"center\")\n",
    "    ax.text(right.get_x() + right.get_width()/2., height_r + 40, '{0:.0%}'.format(height_r/total), ha=\"center\")"
   ]
  },
  {
   "cell_type": "code",
   "execution_count": null,
   "metadata": {
    "executionInfo": {
     "elapsed": 8650,
     "status": "aborted",
     "timestamp": 1728749526013,
     "user": {
      "displayName": "Umberto Romagnolo",
      "userId": "14928952592276304637"
     },
     "user_tz": -120
    },
    "id": "oIo630Ffs8r7"
   },
   "outputs": [],
   "source": [
    "# Crea la tabella a doppia entrata con valori percentuali per colonna\n",
    "table = pd.crosstab(hr_var_dec['MaritalStatus'],hr['Attrition'],normalize='columns') * 100\n",
    "# Definisci l'ordine desiderato per i valori di JobRole\n",
    "order = ['Married', 'Single', 'Divorced']\n",
    "# Ordina la tabella in base all'ordine definito\n",
    "table = table.reindex(order)\n",
    "# Visualizza la tabella\n",
    "print(table)"
   ]
  },
  {
   "cell_type": "markdown",
   "metadata": {
    "id": "d1LVjYABs8r7"
   },
   "source": [
    "Dal grafico a barre si riscontra che, per ogni ripartizione rispetto al \"MaritalStatus\", la percentuale dei dipendenti che ha lasciato l'anno precedente è minore rispetto a chi non ha lasciato.\n",
    "\n",
    "Dalla tabella a doppia entrata viene risaltato invece che, tra i dipendenti che hanno lasciato l'anno precedente, il 50% erano single e il 35% sposati."
   ]
  },
  {
   "cell_type": "markdown",
   "metadata": {
    "id": "vG-5pY43s8r7"
   },
   "source": [
    "# Modello di regressione logistica"
   ]
  },
  {
   "cell_type": "markdown",
   "metadata": {
    "id": "EF6_RFXss8r8"
   },
   "source": [
    "## Preparazione DataFrame"
   ]
  },
  {
   "cell_type": "code",
   "execution_count": null,
   "metadata": {
    "executionInfo": {
     "elapsed": 8649,
     "status": "aborted",
     "timestamp": 1728749526014,
     "user": {
      "displayName": "Umberto Romagnolo",
      "userId": "14928952592276304637"
     },
     "user_tz": -120
    },
    "id": "meyjea2ys8r8"
   },
   "outputs": [],
   "source": [
    "# Si prova a vedere il modello completo\n",
    "\n",
    "hr_logit = hr[['Nr Ore','JobInvolvement','PerformanceRating','EnvironmentSatisfaction','JobSatisfaction','WorkLifeBalance','Age',\n",
    "'Attrition','BusinessTravel','Department','DistanceFromHome','Education','EducationField','Gender','JobLevel','JobRole','MaritalStatus',\n",
    "'MonthlyIncome_Euro','NumCompaniesWorked','PercentSalaryHike','StockOptionLevel','TotalWorkingYears','TrainingTimesLastYear','YearsAtCompany',\n",
    "'YearsSinceLastPromotion','YearsWithCurrManager']]"
   ]
  },
  {
   "cell_type": "code",
   "execution_count": null,
   "metadata": {
    "executionInfo": {
     "elapsed": 8649,
     "status": "aborted",
     "timestamp": 1728749526014,
     "user": {
      "displayName": "Umberto Romagnolo",
      "userId": "14928952592276304637"
     },
     "user_tz": -120
    },
    "id": "MTxB5YQHs8r8"
   },
   "outputs": [],
   "source": [
    "hr_logit['JobInvolvement'] = hr_logit['JobInvolvement'].map({1: 'Low', 2: 'Medium', 3: 'High', 4: 'Very High'})\n",
    "hr_logit['PerformanceRating'] = hr_logit['PerformanceRating'].map({1: 'Low', 2: 'Good', 3: 'Excellent', 4: 'Outstanding'})\n",
    "hr_logit['EnvironmentSatisfaction'] = hr_logit['EnvironmentSatisfaction'].map({1: 'Low', 2: 'Medium', 3: 'High', 4: 'Very High'})\n",
    "hr_logit['JobSatisfaction'] = hr_logit['JobSatisfaction'].map({1: 'Low', 2: 'Medium', 3: 'High', 4: 'Very High'})\n",
    "hr_logit['WorkLifeBalance'] = hr_logit['WorkLifeBalance'].map({1: 'Bad', 2: 'Good', 3: 'Better', 4: 'Best'})\n",
    "hr_logit['Education'] = hr_logit['Education'].map({1: 'Below College', 2: 'College', 3: 'Bachelor', 4: 'Master', 5: 'Doctor'})\n",
    "hr_logit['MonthlyIncome_Euro'] = hr_logit['MonthlyIncome_Euro'].astype('int64')"
   ]
  },
  {
   "cell_type": "markdown",
   "metadata": {
    "id": "QW3jDojBs8r8"
   },
   "source": [
    "## Creazione variabili dummy"
   ]
  },
  {
   "cell_type": "markdown",
   "metadata": {
    "id": "M5t2QBcys8r8"
   },
   "source": [
    "Si convertono le variabili categoriche in variabili dummy (o indicatrici/fittizie) che può essere facilmente utilizzato dagli algoritmi.\n",
    "\n",
    "Le variabili categoriche rappresentano attributi che non possono essere misurati in termini numerici continui, ma piuttosto descrivono categorie o gruppi distinti.\n",
    "\n",
    "Per utilizzare queste variabili all'interno di modelli, è necessario convertirle in un formato numerico. Le variabili dummy sono create assegnando un valore binario (0 o 1) a ciascuna categoria della variabile categorica. Viene creata una variabile fittizia separata per ogni categoria, dove il valore 1 indica che l'osservazione appartiene a quella categoria e il valore 0 indica che non appartiene.\n",
    "\n",
    "Le variabili indicatrici consentono quindi di rappresentare informazioni categoriche in modo numerico, consentendo l'utilizzo di queste variabili in modelli che richiedono input numerici."
   ]
  },
  {
   "cell_type": "code",
   "execution_count": null,
   "metadata": {
    "executionInfo": {
     "elapsed": 8648,
     "status": "aborted",
     "timestamp": 1728749526014,
     "user": {
      "displayName": "Umberto Romagnolo",
      "userId": "14928952592276304637"
     },
     "user_tz": -120
    },
    "id": "PzS-hFyYs8r8"
   },
   "outputs": [],
   "source": [
    "# Creazione di una variabile fittizia per alcune delle variabili categoriche e eliminazione della prima (per evitare la duplicazione di informazioni)\n",
    "\n",
    "dummy1 = pd.get_dummies(hr_logit[['JobInvolvement', 'PerformanceRating', 'EnvironmentSatisfaction',\n",
    "                                 'JobSatisfaction', 'WorkLifeBalance','BusinessTravel', 'Department',\n",
    "                                 'Education','EducationField', 'Gender', 'JobLevel', 'JobRole',\n",
    "                                 'MaritalStatus']], drop_first=True).astype(int)\n",
    "\n",
    "# Si aggiungono i risultati al dataframe\n",
    "hr_logit_dummy = pd.concat([hr_logit, dummy1], axis=1)"
   ]
  },
  {
   "cell_type": "code",
   "execution_count": null,
   "metadata": {
    "executionInfo": {
     "elapsed": 8648,
     "status": "aborted",
     "timestamp": 1728749526014,
     "user": {
      "displayName": "Umberto Romagnolo",
      "userId": "14928952592276304637"
     },
     "user_tz": -120
    },
    "id": "zUVD7LKms8r8"
   },
   "outputs": [],
   "source": [
    "# Avendo creato le variabili dummy si possono rimuovere dal dataframe le seguenti colonne\n",
    "hr_logit_dummy = hr_logit_dummy.drop(['JobInvolvement', 'PerformanceRating', 'EnvironmentSatisfaction',\n",
    "                          'JobSatisfaction', 'WorkLifeBalance', 'BusinessTravel', 'Department',\n",
    "                          'Education', 'EducationField', 'Gender', 'JobLevel', 'JobRole',\n",
    "                          'MaritalStatus'], axis=1)"
   ]
  },
  {
   "cell_type": "code",
   "execution_count": null,
   "metadata": {
    "executionInfo": {
     "elapsed": 8648,
     "status": "aborted",
     "timestamp": 1728749526014,
     "user": {
      "displayName": "Umberto Romagnolo",
      "userId": "14928952592276304637"
     },
     "user_tz": -120
    },
    "id": "RGKx0vfHs8r8"
   },
   "outputs": [],
   "source": [
    "# Si codifica la variabile risposta in 0 e 1\n",
    "hr_logit_dummy['Attrition'] = hr_logit_dummy['Attrition'].replace({'Yes': 1, \"No\": 0})"
   ]
  },
  {
   "cell_type": "markdown",
   "metadata": {
    "id": "zVyN1o8Ws8r9"
   },
   "source": [
    "## Modello completo di Regressione logistica"
   ]
  },
  {
   "cell_type": "markdown",
   "metadata": {
    "id": "7_S42OQ_s8r9"
   },
   "source": [
    "### Modello completo"
   ]
  },
  {
   "cell_type": "code",
   "execution_count": null,
   "metadata": {
    "executionInfo": {
     "elapsed": 8648,
     "status": "aborted",
     "timestamp": 1728749526014,
     "user": {
      "displayName": "Umberto Romagnolo",
      "userId": "14928952592276304637"
     },
     "user_tz": -120
    },
    "id": "WkgKi84As8r9"
   },
   "outputs": [],
   "source": [
    "# Si seleziona le variabili esplicative\n",
    "Xd = hr_logit_dummy.drop(['Attrition'], axis=1)"
   ]
  },
  {
   "cell_type": "code",
   "execution_count": null,
   "metadata": {
    "executionInfo": {
     "elapsed": 8648,
     "status": "aborted",
     "timestamp": 1728749526014,
     "user": {
      "displayName": "Umberto Romagnolo",
      "userId": "14928952592276304637"
     },
     "user_tz": -120
    },
    "id": "5azVRFNps8r9"
   },
   "outputs": [],
   "source": [
    "# Si assegna a y la variabile risposta\n",
    "Yd = hr_logit_dummy['Attrition']"
   ]
  },
  {
   "cell_type": "code",
   "execution_count": null,
   "metadata": {
    "executionInfo": {
     "elapsed": 8647,
     "status": "aborted",
     "timestamp": 1728749526014,
     "user": {
      "displayName": "Umberto Romagnolo",
      "userId": "14928952592276304637"
     },
     "user_tz": -120
    },
    "id": "mtbLl_KJs8r9"
   },
   "outputs": [],
   "source": [
    "# Si procede con la normalizzazione delle caratteristiche\n",
    "from sklearn.preprocessing import StandardScaler\n",
    "scaler = StandardScaler()\n",
    "\n",
    "Xd[[ 'MonthlyIncome_Euro', 'NumCompaniesWorked', 'PercentSalaryHike','StockOptionLevel', 'TotalWorkingYears', 'TrainingTimesLastYear', 'YearsAtCompany', 'YearsSinceLastPromotion', 'YearsWithCurrManager',\n",
    "'DistanceFromHome','Age','Nr Ore']] = scaler.fit_transform(Xd[[ 'MonthlyIncome_Euro', 'NumCompaniesWorked', 'PercentSalaryHike', 'StockOptionLevel', 'TotalWorkingYears', 'TrainingTimesLastYear',\n",
    "'YearsAtCompany', 'YearsSinceLastPromotion', 'YearsWithCurrManager', 'DistanceFromHome','Age','Nr Ore']])"
   ]
  },
  {
   "cell_type": "code",
   "execution_count": null,
   "metadata": {
    "executionInfo": {
     "elapsed": 8647,
     "status": "aborted",
     "timestamp": 1728749526014,
     "user": {
      "displayName": "Umberto Romagnolo",
      "userId": "14928952592276304637"
     },
     "user_tz": -120
    },
    "id": "_oeewkU6s8r9"
   },
   "outputs": [],
   "source": [
    "# Si aggiunge nel set di addestramento la costante per l'intercetta\n",
    "Xd = sm.add_constant(Xd)"
   ]
  },
  {
   "cell_type": "code",
   "execution_count": null,
   "metadata": {
    "executionInfo": {
     "elapsed": 8645,
     "status": "aborted",
     "timestamp": 1728749526014,
     "user": {
      "displayName": "Umberto Romagnolo",
      "userId": "14928952592276304637"
     },
     "user_tz": -120
    },
    "id": "s7yjWnG9s8r9"
   },
   "outputs": [],
   "source": [
    "import statsmodels.api as sm\n",
    "\n",
    "# Stima del modello completo di regressione logistica\n",
    "log_model = sm.GLM(Yd, Xd, family=sm.families.Binomial())\n",
    "fit0 = log_model.fit()\n",
    "\n",
    "# Stampa il riassunto del modello\n",
    "print(fit0.summary())"
   ]
  },
  {
   "cell_type": "code",
   "execution_count": null,
   "metadata": {
    "executionInfo": {
     "elapsed": 8642,
     "status": "aborted",
     "timestamp": 1728749526014,
     "user": {
      "displayName": "Umberto Romagnolo",
      "userId": "14928952592276304637"
     },
     "user_tz": -120
    },
    "id": "A1pUhSons8r-"
   },
   "outputs": [],
   "source": [
    "# Si calcola l'AICc (corrected Akaike Information Criterion) del modello completo per un futuro confronto con modelli alternativi.\n",
    "\n",
    "# Log-likelihood del modello\n",
    "log_likelihood = -1559.1\n",
    "\n",
    "# Numero di parametri nel modello\n",
    "num_parametri = 53+1\n",
    "\n",
    "# Numero di osservazioni nel dataset di addestramento\n",
    "n = len(Yd)\n",
    "\n",
    "# Calcolo dell'AIC\n",
    "AIC = -2 * log_likelihood + 2 * num_parametri\n",
    "AICc = AIC + (2 * num_parametri * (num_parametri + 1)) / (n - num_parametri - 1)\n",
    "\n",
    "# Un modello con un valore di AICc più basso è generalmente preferito in quanto indica un migliore equilibrio tra bontà di adattamento e complessità del modello.\n",
    "\n",
    "AICc"
   ]
  },
  {
   "cell_type": "code",
   "execution_count": null,
   "metadata": {
    "executionInfo": {
     "elapsed": 8639,
     "status": "aborted",
     "timestamp": 1728749526014,
     "user": {
      "displayName": "Umberto Romagnolo",
      "userId": "14928952592276304637"
     },
     "user_tz": -120
    },
    "id": "LDtNubBGs8r-"
   },
   "outputs": [],
   "source": [
    "# Si calcola il BIC (Bayesian Information Criterion) del modello completo per un futuro confronto con modelli alternativi.\n",
    "\n",
    " # Log-likelihood del modello\n",
    "log_likelihood = fit0.llf\n",
    "\n",
    "# Numero di parametri del modello (è uguale al numero di coefficienti nel modello + 1 per l'intercetta)\n",
    "num_parametri = fit0.df_model + 1\n",
    "\n",
    "# Numero di osservazioni nel set di dati\n",
    "n = len(Yd)\n",
    "\n",
    "# Calcolo il BIC\n",
    "BIC = -2 * log_likelihood + num_parametri * np.log(n)\n",
    "\n",
    "# Un valore BIC inferiore indica una migliore adeguabilità del modello ai dati, tenendo conto della complessità del modello.\n",
    "\n",
    "BIC"
   ]
  },
  {
   "cell_type": "markdown",
   "metadata": {
    "id": "IioUvo1Qs8r-"
   },
   "source": [
    "Variabili quantitative considerate rilevanti dall'analisi esplorativa attraverso il T-test sono:\n",
    "\n",
    "\tVariabili con differenza significativa tra i gruppi di Attrition sia con alpha = 0.05 che con alpha = 0.01:\n",
    "\t\t1. Age\n",
    "\t\t2. NumCompaniesWorked\n",
    "\t\t3. TotalWorkingYears\n",
    "\t\t4. TrainingTimesLastYear\n",
    "\t\t5. YearsAtCompany\n",
    "\t\t6. YearsWithCurrManager\n",
    "\n",
    "\tVariabili con differenza significativa tra i gruppi di Attrition solo per alpha = 0.05:\n",
    "\t\t1. MonthlyIncome_Euro\n",
    "\t\t2. PercentSalaryHike\n",
    "\t\t3. YearsSinceLastPromotion\n",
    "\n",
    "Variabili categoriali considerate rilevanti dall'analisi esplorativa attraverso il test del Chi-Quadro sono:\n",
    "\n",
    "\tVariabili con differenza significativa tra i gruppi di Attrition sia con alpha = 0.05 che con alpha = 0.01:\n",
    "\t\t1. EnvironmentSatisfaction\n",
    "\t\t2. JobSatisfaction\n",
    "\t\t3. WorkLifeBalance\n",
    "\t\t4. BusinessTravel\n",
    "\t\t5. Department\n",
    "\t\t6. EducationField\n",
    "\t\t7. JobRole\n",
    "\t\t8. MaritalStatus\n",
    "\n",
    "\tVariabili con differenza significativa tra i gruppi di Attrition solo per alpha = 0.05:\n",
    "\t\t1. JobInvolvement"
   ]
  },
  {
   "cell_type": "markdown",
   "metadata": {
    "id": "H1K5Mmc_s8r-"
   },
   "source": [
    "### Si modella su variabili significative dall'EDA per alpha = 0.01"
   ]
  },
  {
   "cell_type": "code",
   "execution_count": null,
   "metadata": {
    "executionInfo": {
     "elapsed": 8638,
     "status": "aborted",
     "timestamp": 1728749526014,
     "user": {
      "displayName": "Umberto Romagnolo",
      "userId": "14928952592276304637"
     },
     "user_tz": -120
    },
    "id": "JyTPktGMs8r_"
   },
   "outputs": [],
   "source": [
    "hr_eda = hr_logit_dummy[['Attrition','Age','NumCompaniesWorked','TotalWorkingYears','TrainingTimesLastYear',\n",
    "            'YearsAtCompany','YearsWithCurrManager','EnvironmentSatisfaction_Low',\n",
    "            'EnvironmentSatisfaction_Medium','EnvironmentSatisfaction_Very High','JobSatisfaction_Low',\n",
    "            'JobSatisfaction_Medium','JobSatisfaction_Very High','WorkLifeBalance_Best',\n",
    "            'WorkLifeBalance_Better','WorkLifeBalance_Good','BusinessTravel_Travel_Frequently',\n",
    "            'BusinessTravel_Travel_Rarely','Department_Research & Development','Department_Sales',\n",
    "            'EducationField_Life Sciences','EducationField_Marketing','EducationField_Medical','EducationField_Other',\n",
    "            'EducationField_Technical Degree','JobRole_Human Resources','JobRole_Laboratory Technician','JobRole_Manager',\n",
    "            'JobRole_Manufacturing Director','JobRole_Manufacturing Director','JobRole_Research Director','JobRole_Research Scientist',\n",
    "            'JobRole_Sales Executive','JobRole_Sales Representative','MaritalStatus_Married','MaritalStatus_Single']]"
   ]
  },
  {
   "cell_type": "code",
   "execution_count": null,
   "metadata": {
    "executionInfo": {
     "elapsed": 8638,
     "status": "aborted",
     "timestamp": 1728749526014,
     "user": {
      "displayName": "Umberto Romagnolo",
      "userId": "14928952592276304637"
     },
     "user_tz": -120
    },
    "id": "VBbYauvFs8r_"
   },
   "outputs": [],
   "source": [
    "# Si codifica la variabile risposta in 0 e 1\n",
    "hr_eda['Attrition'] = hr_eda['Attrition'].replace({'Yes': 1, \"No\": 0})"
   ]
  },
  {
   "cell_type": "code",
   "execution_count": null,
   "metadata": {
    "executionInfo": {
     "elapsed": 8638,
     "status": "aborted",
     "timestamp": 1728749526014,
     "user": {
      "displayName": "Umberto Romagnolo",
      "userId": "14928952592276304637"
     },
     "user_tz": -120
    },
    "id": "KRIBiv-cs8r_"
   },
   "outputs": [],
   "source": [
    "Ye = hr_eda['Attrition']\n",
    "Xe = hr_eda.drop('Attrition',axis=1)"
   ]
  },
  {
   "cell_type": "code",
   "execution_count": null,
   "metadata": {
    "executionInfo": {
     "elapsed": 8638,
     "status": "aborted",
     "timestamp": 1728749526014,
     "user": {
      "displayName": "Umberto Romagnolo",
      "userId": "14928952592276304637"
     },
     "user_tz": -120
    },
    "id": "cd1iVSDzs8r_"
   },
   "outputs": [],
   "source": [
    "# Si procede con la normalizzazione delle caratteristiche\n",
    "scaler = StandardScaler()\n",
    "\n",
    "Xe[['NumCompaniesWorked','TotalWorkingYears','TrainingTimesLastYear','YearsAtCompany','YearsWithCurrManager','Age']] = scaler.fit_transform(Xe[['NumCompaniesWorked','TotalWorkingYears','TrainingTimesLastYear','YearsAtCompany',\n",
    "            'YearsWithCurrManager','Age']])"
   ]
  },
  {
   "cell_type": "code",
   "execution_count": null,
   "metadata": {
    "executionInfo": {
     "elapsed": 8638,
     "status": "aborted",
     "timestamp": 1728749526014,
     "user": {
      "displayName": "Umberto Romagnolo",
      "userId": "14928952592276304637"
     },
     "user_tz": -120
    },
    "id": "ZnJPix0ms8r_"
   },
   "outputs": [],
   "source": [
    "# Si aggiunge nel set di addestramento la costante per l'intercetta\n",
    "Xe = sm.add_constant(Xe)"
   ]
  },
  {
   "cell_type": "code",
   "execution_count": null,
   "metadata": {
    "executionInfo": {
     "elapsed": 8634,
     "status": "aborted",
     "timestamp": 1728749526014,
     "user": {
      "displayName": "Umberto Romagnolo",
      "userId": "14928952592276304637"
     },
     "user_tz": -120
    },
    "id": "iB7u8F6Ks8r_"
   },
   "outputs": [],
   "source": [
    "# Stima del modello di regressione logistica su variabili significative dall'EDA per alpha = 0.01\n",
    "log_model_e = sm.GLM(Ye, Xe, family=sm.families.Binomial())\n",
    "fit1 = log_model_e.fit()\n",
    "\n",
    "# Stampa il riassunto del modello\n",
    "print(fit1.summary())"
   ]
  },
  {
   "cell_type": "code",
   "execution_count": null,
   "metadata": {
    "executionInfo": {
     "elapsed": 8631,
     "status": "aborted",
     "timestamp": 1728749526014,
     "user": {
      "displayName": "Umberto Romagnolo",
      "userId": "14928952592276304637"
     },
     "user_tz": -120
    },
    "id": "sJY22Fq8s8sA"
   },
   "outputs": [],
   "source": [
    "# Si calcola l'AICc (corrected Akaike Information Criterion) del modello per un futuro confronto con modelli alternativi.\n",
    "\n",
    "# Log-likelihood del modello\n",
    "log_likelihood = -1602.8\n",
    "\n",
    "# Numero di parametri nel modello\n",
    "num_parametri = 34+1\n",
    "\n",
    "# Numero di osservazioni nel dataset di addestramento\n",
    "n = len(Ye)\n",
    "\n",
    "# Calcolo dell'AIC\n",
    "AIC = -2 * log_likelihood + 2 * num_parametri\n",
    "AICc = AIC + (2 * num_parametri * (num_parametri + 1)) / (n - num_parametri - 1)\n",
    "\n",
    "# Un modello con un valore di AICc più basso è generalmente preferito in quanto indica un migliore equilibrio tra bontà di adattamento e complessità del modello.\n",
    "\n",
    "AICc"
   ]
  },
  {
   "cell_type": "code",
   "execution_count": null,
   "metadata": {
    "executionInfo": {
     "elapsed": 8627,
     "status": "aborted",
     "timestamp": 1728749526014,
     "user": {
      "displayName": "Umberto Romagnolo",
      "userId": "14928952592276304637"
     },
     "user_tz": -120
    },
    "id": "todFOnBWs8sA"
   },
   "outputs": [],
   "source": [
    "# Si calcola il BIC (Bayesian Information Criterion) del modello completo per un futuro confronto con modelli alternativi.\n",
    "\n",
    " # Log-likelihood del modello\n",
    "log_likelihood = fit1.llf\n",
    "\n",
    "# Numero di parametri del modello (è uguale al numero di coefficienti nel modello + 1 per l'intercetta)\n",
    "num_parametri = fit1.df_model + 1\n",
    "\n",
    "# Numero di osservazioni nel set di dati\n",
    "n = len(Ye)\n",
    "\n",
    "# Calcolo il BIC\n",
    "BIC = -2 * log_likelihood + num_parametri * np.log(n)\n",
    "\n",
    "# Un valore BIC inferiore indica una migliore adeguabilità del modello ai dati, tenendo conto della complessità del modello.\n",
    "\n",
    "BIC"
   ]
  },
  {
   "cell_type": "code",
   "execution_count": null,
   "metadata": {
    "executionInfo": {
     "elapsed": 8624,
     "status": "aborted",
     "timestamp": 1728749526014,
     "user": {
      "displayName": "Umberto Romagnolo",
      "userId": "14928952592276304637"
     },
     "user_tz": -120
    },
    "id": "fuBnHFVGs8sA"
   },
   "outputs": [],
   "source": [
    "# Eseguo il test del rapporto di massima verosimiglianza\n",
    "from scipy.stats import chi2\n",
    "# Calcolo il log-likelihood dei due modelli\n",
    "ll_full = fit0.llf\n",
    "ll_reduced = fit1.llf\n",
    "\n",
    "# Calcola la statistica del test del rapporto di massima verosimiglianza\n",
    "lr_statistic = -2 * (ll_reduced- ll_full)\n",
    "\n",
    "# Gradi di libertà\n",
    "df = fit0.df_model - fit1.df_model\n",
    "\n",
    "# Calcola il p-value usando la distribuzione chi-quadro\n",
    "p_value = 1.0 - chi2.cdf(lr_statistic, df)\n",
    "\n",
    "# Stampare i risultati del test\n",
    "print(\"Likelihood Ratio Test:\")\n",
    "print(\"Test statistic:\", lr_statistic)\n",
    "print(\"P-value:\", p_value)\n",
    "print(\"Degrees of freedom:\", df)\n",
    "\n",
    "# Confronto con un valore di soglia, ad esempio 0.05\n",
    "alpha = 0.05\n",
    "if p_value < alpha:\n",
    "    print(\"Il modello completo è preferibile al modello ridotto con le sole variabili significative all'1%.\")\n",
    "else:\n",
    "    print(\"Non ci sono prove sufficienti per rigettare il modello ridotto con le sole variabili significative all'1%\")"
   ]
  },
  {
   "cell_type": "markdown",
   "metadata": {
    "id": "Nhb06rWBs8sA"
   },
   "source": [
    "Dal confronto del modello completo con il modello con le sole variabili significative all'1% per l'EDA, si è riscontrato che sia per l'AICc che per il test del rapporto di verosimiglianza il modello completo è preferibile.\n",
    "I BIC invece consiglia il modello ridotto ma solo perché pesa di più il numero minore di variabili usate."
   ]
  },
  {
   "cell_type": "markdown",
   "metadata": {
    "id": "vPKdWpbns8sA"
   },
   "source": [
    "### Modello di regressione logistica multivariabile – Modello su variabili significative dall’EDA per alpha = 0.05"
   ]
  },
  {
   "cell_type": "code",
   "execution_count": null,
   "metadata": {
    "executionInfo": {
     "elapsed": 8624,
     "status": "aborted",
     "timestamp": 1728749526014,
     "user": {
      "displayName": "Umberto Romagnolo",
      "userId": "14928952592276304637"
     },
     "user_tz": -120
    },
    "id": "SpMqFD6gs8sB"
   },
   "outputs": [],
   "source": [
    "hr_eda1 = hr_logit_dummy[['Attrition','Age','NumCompaniesWorked','TotalWorkingYears','TrainingTimesLastYear',\n",
    "            'YearsAtCompany','YearsWithCurrManager','MonthlyIncome_Euro','PercentSalaryHike','YearsSinceLastPromotion','EnvironmentSatisfaction_Low',\n",
    "            'EnvironmentSatisfaction_Medium','EnvironmentSatisfaction_Very High','JobSatisfaction_Low',\n",
    "            'JobSatisfaction_Medium','JobSatisfaction_Very High','WorkLifeBalance_Best',\n",
    "            'WorkLifeBalance_Better','WorkLifeBalance_Good','BusinessTravel_Travel_Frequently',\n",
    "            'BusinessTravel_Travel_Rarely','Department_Research & Development','Department_Sales',\n",
    "            'EducationField_Life Sciences','EducationField_Marketing','EducationField_Medical','EducationField_Other',\n",
    "            'EducationField_Technical Degree','JobRole_Human Resources','JobRole_Laboratory Technician','JobRole_Manager',\n",
    "            'JobRole_Manufacturing Director','JobRole_Manufacturing Director','JobRole_Research Director','JobRole_Research Scientist',\n",
    "            'JobRole_Sales Executive','JobRole_Sales Representative','MaritalStatus_Married','MaritalStatus_Single','JobInvolvement_Low','JobInvolvement_Medium','JobInvolvement_Very High']]"
   ]
  },
  {
   "cell_type": "code",
   "execution_count": null,
   "metadata": {
    "executionInfo": {
     "elapsed": 8624,
     "status": "aborted",
     "timestamp": 1728749526014,
     "user": {
      "displayName": "Umberto Romagnolo",
      "userId": "14928952592276304637"
     },
     "user_tz": -120
    },
    "id": "2NkGT01ts8sB"
   },
   "outputs": [],
   "source": [
    "# Si codifica la variabile risposta in 0 e 1\n",
    "hr_eda1['Attrition'] = hr_eda1['Attrition'].replace({'Yes': 1, \"No\": 0})"
   ]
  },
  {
   "cell_type": "code",
   "execution_count": null,
   "metadata": {
    "executionInfo": {
     "elapsed": 8625,
     "status": "aborted",
     "timestamp": 1728749526015,
     "user": {
      "displayName": "Umberto Romagnolo",
      "userId": "14928952592276304637"
     },
     "user_tz": -120
    },
    "id": "ARglhSZzs8sB"
   },
   "outputs": [],
   "source": [
    "Ye1 = hr_eda1['Attrition']\n",
    "Xe1 = hr_eda1.drop('Attrition',axis=1)"
   ]
  },
  {
   "cell_type": "code",
   "execution_count": null,
   "metadata": {
    "executionInfo": {
     "elapsed": 8624,
     "status": "aborted",
     "timestamp": 1728749526015,
     "user": {
      "displayName": "Umberto Romagnolo",
      "userId": "14928952592276304637"
     },
     "user_tz": -120
    },
    "id": "XosyK4s7s8sB"
   },
   "outputs": [],
   "source": [
    "# Si procede con la normalizzazione delle caratteristiche\n",
    "scaler = StandardScaler()\n",
    "\n",
    "Xe1[['NumCompaniesWorked','TotalWorkingYears','TrainingTimesLastYear','YearsAtCompany','YearsWithCurrManager','Age','MonthlyIncome_Euro','PercentSalaryHike','YearsSinceLastPromotion']] = scaler.fit_transform(Xe1[['NumCompaniesWorked','TotalWorkingYears','TrainingTimesLastYear','YearsAtCompany',\n",
    "            'YearsWithCurrManager','Age','MonthlyIncome_Euro','PercentSalaryHike','YearsSinceLastPromotion']])"
   ]
  },
  {
   "cell_type": "code",
   "execution_count": null,
   "metadata": {
    "executionInfo": {
     "elapsed": 8624,
     "status": "aborted",
     "timestamp": 1728749526015,
     "user": {
      "displayName": "Umberto Romagnolo",
      "userId": "14928952592276304637"
     },
     "user_tz": -120
    },
    "id": "x4vKEtnSs8sB"
   },
   "outputs": [],
   "source": [
    "# Si aggiunge nel set di addestramento la costante per l'intercetta\n",
    "Xe1 = sm.add_constant(Xe1)"
   ]
  },
  {
   "cell_type": "code",
   "execution_count": null,
   "metadata": {
    "executionInfo": {
     "elapsed": 8620,
     "status": "aborted",
     "timestamp": 1728749526015,
     "user": {
      "displayName": "Umberto Romagnolo",
      "userId": "14928952592276304637"
     },
     "user_tz": -120
    },
    "id": "zj0Fe3rts8sB"
   },
   "outputs": [],
   "source": [
    "# Stima del modello di regressione logistica su variabili significative dall'EDA per alpha = 0.05\n",
    "log_model_e1 = sm.GLM(Ye1, Xe1, family=sm.families.Binomial())\n",
    "fit2 = log_model_e1.fit()\n",
    "\n",
    "# Stampa il riassunto del modello\n",
    "print(fit2.summary())"
   ]
  },
  {
   "cell_type": "code",
   "execution_count": null,
   "metadata": {
    "executionInfo": {
     "elapsed": 8617,
     "status": "aborted",
     "timestamp": 1728749526015,
     "user": {
      "displayName": "Umberto Romagnolo",
      "userId": "14928952592276304637"
     },
     "user_tz": -120
    },
    "id": "EpYkOcXrs8sB"
   },
   "outputs": [],
   "source": [
    "# Si calcola l'AICc (corrected Akaike Information Criterion) del modello modello ridotto con variabili significative al 5% per un futuro confronto con modelli alternativi.\n",
    "\n",
    "# Log-likelihood del modello\n",
    "log_likelihood = -1567.7\n",
    "\n",
    "# Numero di parametri nel modello\n",
    "num_parametri = 40+1\n",
    "\n",
    "# Numero di osservazioni nel dataset di addestramento\n",
    "n = len(Ye1)\n",
    "\n",
    "# Calcolo dell'AIC\n",
    "AIC = -2 * log_likelihood + 2 * num_parametri\n",
    "AICc = AIC + (2 * num_parametri * (num_parametri + 1)) / (n - num_parametri - 1)\n",
    "\n",
    "# Un modello con un valore di AICc più basso è generalmente preferito in quanto indica un migliore equilibrio tra bontà di adattamento e complessità del modello.\n",
    "\n",
    "AICc"
   ]
  },
  {
   "cell_type": "code",
   "execution_count": null,
   "metadata": {
    "executionInfo": {
     "elapsed": 8613,
     "status": "aborted",
     "timestamp": 1728749526015,
     "user": {
      "displayName": "Umberto Romagnolo",
      "userId": "14928952592276304637"
     },
     "user_tz": -120
    },
    "id": "Qgo2cypLs8sC"
   },
   "outputs": [],
   "source": [
    "# Eseguo il test del rapporto di massima verosimiglianza tra modello completo e modello ridotto con variabili significative al 5%\n",
    "from scipy.stats import chi2\n",
    "# Calcolo il log-likelihood dei due modelli\n",
    "ll_full = fit0.llf\n",
    "ll_reduced = fit2.llf\n",
    "\n",
    "# Calcola la statistica del test del rapporto di massima verosimiglianza\n",
    "lr_statistic = -2 * (ll_reduced- ll_full)\n",
    "\n",
    "# Gradi di libertà\n",
    "df = fit0.df_model - fit2.df_model\n",
    "\n",
    "# Calcola il p-value usando la distribuzione chi-quadro\n",
    "p_value = 1.0 - chi2.cdf(lr_statistic, df)\n",
    "\n",
    "# Stampare i risultati del test\n",
    "print(\"Likelihood Ratio Test:\")\n",
    "print(\"Test statistic:\", lr_statistic)\n",
    "print(\"P-value:\", p_value)\n",
    "print(\"Degrees of freedom:\", df)\n",
    "\n",
    "# Confronto con un valore di soglia, ad esempio 0.05\n",
    "alpha = 0.05\n",
    "if p_value < alpha:\n",
    "    print(\"Il modello completo è preferibile al modello ridotto con variabili significative al 5%.\")\n",
    "else:\n",
    "    print(\"Non ci sono prove sufficienti per rigettare il modello ridotto con variabili significative al 5%.\")"
   ]
  },
  {
   "cell_type": "markdown",
   "metadata": {
    "id": "2a2MFaeEs8sC"
   },
   "source": [
    "Il modello ridotto con variabili significative al 5% risulta, sia per il criterio AICc che per il test del rapporto di verosimiglianza, preferibile rispetto al modello completo."
   ]
  },
  {
   "cell_type": "markdown",
   "metadata": {
    "id": "YlBqEms1s8sC"
   },
   "source": [
    "### Costruzione modello con selezione delle variabili esplicative via metodo RFE\" (Recursive Feature Elimination with Cross-Validation)"
   ]
  },
  {
   "cell_type": "code",
   "execution_count": null,
   "metadata": {
    "executionInfo": {
     "elapsed": 8613,
     "status": "aborted",
     "timestamp": 1728749526015,
     "user": {
      "displayName": "Umberto Romagnolo",
      "userId": "14928952592276304637"
     },
     "user_tz": -120
    },
    "id": "Lgr8EjgFs8sC"
   },
   "outputs": [],
   "source": [
    "import pandas as pd\n",
    "\n",
    "EnvironmentSatisfaction = Xe1[['EnvironmentSatisfaction_Low','EnvironmentSatisfaction_Medium','EnvironmentSatisfaction_Very High']]\n",
    "JobSatisfaction = Xe1[['JobSatisfaction_Low','JobSatisfaction_Medium','JobSatisfaction_Very High']]\n",
    "WorkLifeBalance = Xe1[['WorkLifeBalance_Good','WorkLifeBalance_Better','WorkLifeBalance_Best']]\n",
    "BusinessTravel = Xe1[['BusinessTravel_Travel_Frequently','BusinessTravel_Travel_Rarely']]\n",
    "Department = Xe1[['Department_Research & Development','Department_Sales']]\n",
    "EducationField = Xe1[['EducationField_Life Sciences','EducationField_Marketing','EducationField_Medical','EducationField_Other','EducationField_Technical Degree']]\n",
    "JobRole = Xe1[['JobRole_Human Resources','JobRole_Laboratory Technician','JobRole_Manager','JobRole_Manufacturing Director','JobRole_Manufacturing Director','JobRole_Research Director','JobRole_Research Scientist','JobRole_Sales Executive','JobRole_Sales Representative']]\n",
    "MaritalStatus = Xe1[['MaritalStatus_Married','MaritalStatus_Single']]\n",
    "JobInvolvement = Xe1[['JobInvolvement_Low','JobInvolvement_Medium','JobInvolvement_Very High']]\n",
    "\n",
    "dummy_vars_list = [EnvironmentSatisfaction,JobSatisfaction,WorkLifeBalance,BusinessTravel,Department,EducationField,JobRole,MaritalStatus,JobInvolvement]\n",
    "\n",
    "def calculate_weights_for_dummy_variables(dummy_variables_list): # dummy_variables_list è una lista di DataFrame, ognuno contenente colonne dummy per una variabile\n",
    "\n",
    "    # Calcola la somma delle colonne dummy per ottenere il conteggio complessivo per ciascuna categoria\n",
    "    total_counts = pd.concat(dummy_variables_list, axis=1).sum()\n",
    "\n",
    "    # Calcola i pesi inversamente proporzionali alla frequenza di ciascuna categoria\n",
    "    weights = pd.concat(dummy_variables_list, axis=1).shape[0] / total_counts\n",
    "\n",
    "    # Normalizza i pesi in modo che la somma sia pari a 1\n",
    "    weights /= weights.sum()\n",
    "\n",
    "    # Crea un dizionario di pesi per le categorie\n",
    "    category_weights = dict(zip(weights.index, weights))\n",
    "\n",
    "    # Applica i pesi alle colonne dummy nei DataFrame originali\n",
    "    weighted_dummy_variables_list = [dummy_vars.copy() for dummy_vars in dummy_variables_list]\n",
    "    for i, dummy_vars in enumerate(weighted_dummy_variables_list):\n",
    "        for col in dummy_vars.columns:\n",
    "            weighted_dummy_variables_list[i][col] *= category_weights[col]\n",
    "\n",
    "    return weighted_dummy_variables_list\n",
    "\n",
    "weighted_dummy_variables_list = calculate_weights_for_dummy_variables(dummy_vars_list)"
   ]
  },
  {
   "cell_type": "code",
   "execution_count": null,
   "metadata": {
    "executionInfo": {
     "elapsed": 8610,
     "status": "aborted",
     "timestamp": 1728749526015,
     "user": {
      "displayName": "Umberto Romagnolo",
      "userId": "14928952592276304637"
     },
     "user_tz": -120
    },
    "id": "gn-ciWhMs8sC"
   },
   "outputs": [],
   "source": [
    "from sklearn.linear_model import LogisticRegression\n",
    "from sklearn.feature_selection import RFECV\n",
    "\n",
    "# Creazione di un oggetto di regressione logistica\n",
    "logreg = LogisticRegression()\n",
    "\n",
    "# Definizione del selettore di feature RFE\n",
    "selector = RFECV(logreg, step=1)\n",
    "\n",
    "# Addestramento del selettore sul set di addestramento\n",
    "selector.fit(Xe1, Ye1)\n",
    "\n",
    "# Selezione delle variabili\n",
    "selected_features = Xe1.columns[selector.support_]\n",
    "\n",
    "# Addestramento del modello di regressione logistica sulle variabili selezionate\n",
    "model_rfecv = sm.GLM(Ye1, Xe1[selected_features], family=sm.families.Binomial())\n",
    "fit_rfecv = model_rfecv.fit()\n",
    "\n",
    "# Stampa il riassunto del modello\n",
    "print(fit_rfecv.summary())"
   ]
  },
  {
   "cell_type": "code",
   "execution_count": null,
   "metadata": {
    "executionInfo": {
     "elapsed": 8606,
     "status": "aborted",
     "timestamp": 1728749526015,
     "user": {
      "displayName": "Umberto Romagnolo",
      "userId": "14928952592276304637"
     },
     "user_tz": -120
    },
    "id": "hVpKEz9zs8sC"
   },
   "outputs": [],
   "source": [
    "# Si calcola l'AICc (corrected Akaike Information Criterion) del modello con selezione delle variabili esplicative via metodo RFE per un futuro confronto con modelli alternativi.\n",
    "\n",
    "# Log-likelihood del modello\n",
    "log_likelihood = -1575.9\n",
    "\n",
    "# Numero di parametri nel modello\n",
    "num_parametri = 33+1\n",
    "\n",
    "# Numero di osservazioni nel dataset di addestramento\n",
    "n = len(Ye1)\n",
    "\n",
    "# Calcolo dell'AIC\n",
    "AIC = -2 * log_likelihood + 2 * num_parametri\n",
    "AICc = AIC + (2 * num_parametri * (num_parametri + 1)) / (n - num_parametri - 1)\n",
    "\n",
    "# Un modello con un valore di AICc più basso è generalmente preferito in quanto indica un migliore equilibrio\n",
    "# tra bontà di adattamento e complessità del modello.\n",
    "\n",
    "AICc"
   ]
  },
  {
   "cell_type": "code",
   "execution_count": null,
   "metadata": {
    "executionInfo": {
     "elapsed": 8602,
     "status": "aborted",
     "timestamp": 1728749526015,
     "user": {
      "displayName": "Umberto Romagnolo",
      "userId": "14928952592276304637"
     },
     "user_tz": -120
    },
    "id": "2JoCvBres8sD"
   },
   "outputs": [],
   "source": [
    "# Eseguo il test del rapporto di massima verosimiglianza tra modello ridotto con variabili significative al 5% e il modello con selezione delle variabili esplicative via metodo RFE-cv\n",
    "from scipy.stats import chi2\n",
    "# Calcolo il log-likelihood dei due modelli\n",
    "ll_reduced = fit2.llf\n",
    "ll_rfe = fit_rfecv.llf\n",
    "\n",
    "# Calcola la statistica del test del rapporto di massima verosimiglianza\n",
    "lr_statistic = -2 * (ll_rfe- ll_reduced)\n",
    "\n",
    "# Gradi di libertà\n",
    "df = fit2.df_model - fit_rfecv.df_model\n",
    "\n",
    "# Calcola il p-value usando la distribuzione chi-quadro\n",
    "p_value = 1.0 - chi2.cdf(lr_statistic, df)\n",
    "\n",
    "# Stampare i risultati del test\n",
    "print(\"Likelihood Ratio Test:\")\n",
    "print(\"Test statistic:\", lr_statistic)\n",
    "print(\"P-value:\", p_value)\n",
    "print(\"Degrees of freedom:\", df)\n",
    "\n",
    "# Confronto con un valore di soglia, ad esempio 0.05\n",
    "alpha = 0.05\n",
    "if p_value < alpha:\n",
    "    print(\"Il modello ridotto con variabili significative al 5% è preferibile al modello con selezione delle variabili esplicative via metodo RFE-CV.\")\n",
    "else:\n",
    "    print(\"Non ci sono prove sufficienti per rigettare il modello con selezione delle variabili esplicative via metodo RFE-cv.\")"
   ]
  },
  {
   "cell_type": "markdown",
   "metadata": {
    "id": "j5w8_KWks8sD"
   },
   "source": [
    "Dal criterio AICc è preferibile per poco il modello ridotto con variabili significative al 5%. Lo stesso risultato sembra che si ottenga anche dal test del rapporto di verosimiglianza, anche se con un valore di soglia dell'1% è preferibile il modello con selezione delle variabili esplicative via metodo RFE.\n",
    "\n",
    "La scelta tra un valore di soglia del 5% o dell'1% dipende dalla tolleranza agli errori di tipo I e II e dalle norme del campo di studio. Un valore di soglia più basso rende il test più conservativo, ma può rendere più difficile rifiutare il null hypothesis.\n",
    "In pratica, spesso si utilizza il valore di soglia del 5% come punto di partenza, ma in alcuni contesti più critici o in situazioni in cui è essenziale limitare gli errori di tipo I, si può scegliere un valore di soglia più basso come l'1%.\n",
    "\n",
    "Se si è più conservativi e si vuole ridurre al minimo la probabilità di commettere un errore di tipo I (accettare erroneamente un falso effetto), si può essere più inclini a seguire la conclusione ottenuta con un valore di soglia dell'1%."
   ]
  },
  {
   "cell_type": "markdown",
   "metadata": {
    "id": "jQL2QWuqs8sD"
   },
   "source": [
    "### Modelli Ridge e Lasso"
   ]
  },
  {
   "cell_type": "markdown",
   "metadata": {
    "id": "mZ7AfwHFs8sD"
   },
   "source": [
    "Dato che si è in presenza di overfitting, l'uso di tecniche di regolarizzazione come Ridge e Lasso può essere utile per mitigare questo problema."
   ]
  },
  {
   "cell_type": "markdown",
   "metadata": {
    "id": "FaSAvjzIs8sD"
   },
   "source": [
    "Si usa la cross-validation per selezionare il parametro di regolarizzazione ottimale (alfa) per Ridge e Lasso.\n",
    "Questo aiuterà a trovare il giusto equilibrio tra adattamento ai dati di addestramento e generalizzazione ai dati di test."
   ]
  },
  {
   "cell_type": "code",
   "execution_count": null,
   "metadata": {
    "executionInfo": {
     "elapsed": 10448,
     "status": "aborted",
     "timestamp": 1728749527861,
     "user": {
      "displayName": "Umberto Romagnolo",
      "userId": "14928952592276304637"
     },
     "user_tz": -120
    },
    "id": "1jaxzX5ys8sD"
   },
   "outputs": [],
   "source": [
    "from sklearn.model_selection import train_test_split\n",
    "from sklearn.linear_model import LogisticRegression\n",
    "from sklearn.datasets import make_classification\n",
    "from sklearn.metrics import accuracy_score"
   ]
  },
  {
   "cell_type": "code",
   "execution_count": null,
   "metadata": {
    "executionInfo": {
     "elapsed": 10448,
     "status": "aborted",
     "timestamp": 1728749527862,
     "user": {
      "displayName": "Umberto Romagnolo",
      "userId": "14928952592276304637"
     },
     "user_tz": -120
    },
    "id": "H34OAOlDs8sD"
   },
   "outputs": [],
   "source": [
    "from sklearn.model_selection import KFold\n",
    "kf = KFold(n_splits=5, shuffle=True, random_state=42)\n",
    "\n",
    "for train_index, test_index in kf.split(Xe1):\n",
    "    X_train, X_test = Xe1.iloc[train_index], Xe1.iloc[test_index]\n",
    "    y_train, y_test = Ye1.iloc[train_index], Ye1.iloc[test_index]\n",
    "    #y_train, y_test = Ye1[train_index], Ye1[test_index]#"
   ]
  },
  {
   "cell_type": "markdown",
   "metadata": {
    "id": "owF9egNZs8sE"
   },
   "source": [
    "#### Lasso"
   ]
  },
  {
   "cell_type": "code",
   "execution_count": null,
   "metadata": {
    "executionInfo": {
     "elapsed": 10445,
     "status": "aborted",
     "timestamp": 1728749527862,
     "user": {
      "displayName": "Umberto Romagnolo",
      "userId": "14928952592276304637"
     },
     "user_tz": -120
    },
    "id": "GAmI7CPas8sE"
   },
   "outputs": [],
   "source": [
    "# Regressione logistica con regolarizzazione L1 (LASSO)\n",
    "lasso_model = LogisticRegression(penalty='l1', solver='liblinear')\n",
    "lasso_model.fit(X_train, y_train)\n",
    "\n",
    "# Predici sui dati di test\n",
    "y_pred_lasso = lasso_model.predict(X_test)\n",
    "\n",
    "# Valuta le performance\n",
    "accuracy_lasso = accuracy_score(y_test, y_pred_lasso)\n",
    "print(\"Accuracy con LASSO:\", accuracy_lasso)"
   ]
  },
  {
   "cell_type": "code",
   "execution_count": null,
   "metadata": {
    "executionInfo": {
     "elapsed": 10442,
     "status": "aborted",
     "timestamp": 1728749527862,
     "user": {
      "displayName": "Umberto Romagnolo",
      "userId": "14928952592276304637"
     },
     "user_tz": -120
    },
    "id": "5INXLuPCs8sE"
   },
   "outputs": [],
   "source": [
    "# Calcola la log-verosimiglianza utilizzando il modulo statsmodels\n",
    "log_likelihood = sm.Logit(y_train, sm.add_constant(X_train)).fit_regularized(method='l1').llf\n",
    "\n",
    "# Calcola il criterio di Akaike corretto\n",
    "num_params = len(lasso_model.coef_[0]) + 1  # Numero di parametri nel modello, inclusa l'intercetta\n",
    "aicc = -2 * log_likelihood + 2 * num_params\n",
    "\n",
    "print(\"Log-verosimiglianza di Lasso:\", log_likelihood)\n",
    "print(\"Criterio di Akaike corretto di Lasso:\", aicc)"
   ]
  },
  {
   "cell_type": "code",
   "execution_count": null,
   "metadata": {
    "executionInfo": {
     "elapsed": 10439,
     "status": "aborted",
     "timestamp": 1728749527862,
     "user": {
      "displayName": "Umberto Romagnolo",
      "userId": "14928952592276304637"
     },
     "user_tz": -120
    },
    "id": "ZkDwQZAjs8sE"
   },
   "outputs": [],
   "source": [
    "num_coef = np.sum(lasso_model.coef_ != 0)\n",
    "print(\"Numero di variabili esplicative con coefficienti diversi da zero:\", num_coef)"
   ]
  },
  {
   "cell_type": "code",
   "execution_count": null,
   "metadata": {
    "executionInfo": {
     "elapsed": 10436,
     "status": "aborted",
     "timestamp": 1728749527862,
     "user": {
      "displayName": "Umberto Romagnolo",
      "userId": "14928952592276304637"
     },
     "user_tz": -120
    },
    "id": "UU20QA3Es8sF"
   },
   "outputs": [],
   "source": [
    "from sklearn.metrics import confusion_matrix\n",
    "from tabulate import tabulate\n",
    "\n",
    "# Calcola la matrice di confusione\n",
    "conf_matrix_lasso = confusion_matrix(y_test, y_pred_lasso)\n",
    "table = tabulate(conf_matrix_lasso, headers=['Predicted 0', 'Predicted 1'], showindex=['Actual 0', 'Actual 1'], tablefmt='grid')\n",
    "# Stampa la matrice di confusione\n",
    "print(\"Confusion Matrix (LASSO):\")\n",
    "print(table)"
   ]
  },
  {
   "cell_type": "code",
   "execution_count": null,
   "metadata": {
    "executionInfo": {
     "elapsed": 10432,
     "status": "aborted",
     "timestamp": 1728749527862,
     "user": {
      "displayName": "Umberto Romagnolo",
      "userId": "14928952592276304637"
     },
     "user_tz": -120
    },
    "id": "ZTDtzXSMs8sF"
   },
   "outputs": [],
   "source": [
    "from sklearn.metrics import classification_report\n",
    "print(classification_report(y_test,y_pred_lasso))"
   ]
  },
  {
   "cell_type": "markdown",
   "metadata": {
    "id": "xaVnlFzPs8sF"
   },
   "source": [
    "#### Ridge"
   ]
  },
  {
   "cell_type": "code",
   "execution_count": null,
   "metadata": {
    "executionInfo": {
     "elapsed": 10429,
     "status": "aborted",
     "timestamp": 1728749527862,
     "user": {
      "displayName": "Umberto Romagnolo",
      "userId": "14928952592276304637"
     },
     "user_tz": -120
    },
    "id": "uXCT8qOps8sF"
   },
   "outputs": [],
   "source": [
    "# Regressione logistica con regolarizzazione L2 (ridge)\n",
    "ridge_model = LogisticRegression(penalty='l2', solver='liblinear')\n",
    "ridge_model.fit(X_train, y_train)\n",
    "\n",
    "# Predici sui dati di test\n",
    "y_pred_ridge = ridge_model.predict(X_test)\n",
    "\n",
    "# Valuta le performance\n",
    "accuracy_ridge = accuracy_score(y_test, y_pred_ridge)\n",
    "print(\"Accuracy con Ridge:\", accuracy_ridge)"
   ]
  },
  {
   "cell_type": "code",
   "execution_count": null,
   "metadata": {
    "executionInfo": {
     "elapsed": 10426,
     "status": "aborted",
     "timestamp": 1728749527862,
     "user": {
      "displayName": "Umberto Romagnolo",
      "userId": "14928952592276304637"
     },
     "user_tz": -120
    },
    "id": "-tvoUCT2s8sF"
   },
   "outputs": [],
   "source": [
    "# Estrai i coefficienti del modello\n",
    "coefficients = ridge_model.coef_\n",
    "\n",
    "# Calcola la log-verosimiglianza\n",
    "log_likelihood = np.sum(y_train * np.log(ridge_model.predict_proba(X_train)[:, 1]) + (1 - y_train) * np.log(1 - ridge_model.predict_proba(X_train)[:, 1]))\n",
    "\n",
    "# Calcola l'AICc\n",
    "n = len(y_train)  # Numero di osservazioni\n",
    "k = len(coefficients.flatten())  # Numero di parametri nel modello\n",
    "\n",
    "aic = -2 * log_likelihood + 2 * k  # AIC classico\n",
    "aic_corrected = aic + (2 * k * (k + 1)) / (n - k - 1)  # AICc\n",
    "\n",
    "print(\"Log-verosimiglianza di Ridge:\", log_likelihood)\n",
    "print(\"Criterio di Akaike corretto di Ridge::\", aic_corrected)"
   ]
  },
  {
   "cell_type": "code",
   "execution_count": null,
   "metadata": {
    "executionInfo": {
     "elapsed": 10422,
     "status": "aborted",
     "timestamp": 1728749527862,
     "user": {
      "displayName": "Umberto Romagnolo",
      "userId": "14928952592276304637"
     },
     "user_tz": -120
    },
    "id": "aj2p_d_Ws8sF"
   },
   "outputs": [],
   "source": [
    "num_coef = np.sum(ridge_model.coef_ != 0)\n",
    "print(\"Numero di variabili esplicative con coefficienti diversi da zero:\", num_coef)"
   ]
  },
  {
   "cell_type": "code",
   "execution_count": null,
   "metadata": {
    "executionInfo": {
     "elapsed": 10419,
     "status": "aborted",
     "timestamp": 1728749527862,
     "user": {
      "displayName": "Umberto Romagnolo",
      "userId": "14928952592276304637"
     },
     "user_tz": -120
    },
    "id": "wVbz5Ysps8sG"
   },
   "outputs": [],
   "source": [
    "# Eseguo il test del rapporto di massima verosimiglianza tra modello Ridge e il modello Lasso\n",
    "from scipy.stats import chi2\n",
    "# Calcolo il log-likelihood dei due modelli\n",
    "ll_lasso = sm.Logit(y_train, sm.add_constant(X_train)).fit_regularized(method='l1').llf\n",
    "ll_ridge = np.sum(y_train * np.log(ridge_model.predict_proba(X_train)[:, 1]) + (1 - y_train) * np.log(1 - ridge_model.predict_proba(X_train)[:, 1]))\n",
    "\n",
    "# Calcola la statistica del test del rapporto di massima verosimiglianza\n",
    "lr_statistic = -2 * (ll_ridge - ll_lasso)\n",
    "\n",
    "# Gradi di libertà\n",
    "df_lasso = num_params\n",
    "df_ridge = k\n",
    "df = df_lasso - df_ridge\n",
    "\n",
    "# Calcola il p-value usando la distribuzione chi-quadro\n",
    "p_value = 1.0 - chi2.cdf(lr_statistic, df)\n",
    "\n",
    "# Stampare i risultati del test\n",
    "print(\"Likelihood Ratio Test:\")\n",
    "print(\"Test statistic:\", lr_statistic)\n",
    "print(\"P-value:\", p_value)\n",
    "print(\"Degrees of freedom:\", df)\n",
    "\n",
    "# Confronto con un valore di soglia, ad esempio 0.05\n",
    "alpha = 0.05\n",
    "if p_value < alpha:\n",
    "    print(\"Il modello Ridge è preferibile al modello Lasso.\")\n",
    "else:\n",
    "    print(\"Non ci sono prove sufficienti per rigettare il modello Lasso.\")"
   ]
  },
  {
   "cell_type": "markdown",
   "metadata": {
    "id": "57MKTocjs8sG"
   },
   "source": [
    "##### Ridge Regression"
   ]
  },
  {
   "cell_type": "markdown",
   "metadata": {
    "id": "2FpRQ3lus8sM"
   },
   "source": [
    "Ridge aggiunge una penalità quadratica alla somma dei quadrati dei coefficienti. Questo aiuta a \"spalmare\" i coefficienti e può essere efficace nel trattare il multicollinearity. Tuttavia, tiene comunque tutti i predittori nel modello."
   ]
  },
  {
   "cell_type": "markdown",
   "metadata": {
    "id": "8qOnmKUws8sM"
   },
   "source": [
    "ElasticNetCV è la classe in scikit-learn che implementa la regressione Elastic Net con validazione incrociata (cross-validation) per la selezione automatica del parametro di regolarizzazione. In questo caso, stiamo utilizzando Elastic Net, ma impostando l1_ratio=0.0, stiamo effettivamente selezionando solo il componente L2, che rende il modello equivalente a Ridge.\n",
    "\n",
    "l1_ratio=0.0: Questo parametro controlla la proporzione tra le penalità L1 e L2 nella regressione Elastic Net. Quando l1_ratio è impostato a 1.0, significa che si sta utilizzando solo la penalità L1, rendendo il modello equivalente a Lasso. Se l1_ratio è impostato a 0.0, è equivalente a Ridge. Con 0.0 < l1_ratio < 1.0, si utilizzerebbe una combinazione di L1 e L2.\n",
    "\n",
    "alphas=[0.1, 1.0, 10.0]: Questo è un elenco di valori di iperparametri alfa, che controllano la forza della regolarizzazione. ElasticNetCV eseguirà la ricerca del miglior valore di alfa durante la cross-validation. In questo caso, sta testando tre valori diversi: 0.1, 1.0 e 10.0.\n",
    "\n",
    "cv=5: Questo parametro specifica la strategia di cross-validation. In questo caso, si sta utilizzando la cross-validation a 5 fold, il che significa che il set di dati viene diviso in 5 parti, e il modello viene addestrato e validato su ciascuna combinazione di 4 parti per l'addestramento e 1 parte per la validazione."
   ]
  },
  {
   "cell_type": "code",
   "execution_count": null,
   "metadata": {
    "executionInfo": {
     "elapsed": 10419,
     "status": "aborted",
     "timestamp": 1728749527862,
     "user": {
      "displayName": "Umberto Romagnolo",
      "userId": "14928952592276304637"
     },
     "user_tz": -120
    },
    "id": "-cHuzpVis8sN"
   },
   "outputs": [],
   "source": [
    "from sklearn.linear_model import ElasticNetCV\n",
    "# Inizializza il modello ElasticNetCV\n",
    "Ridge = ElasticNetCV(l1_ratio=0.0, alphas=[0.1, 1.0, 10.0], cv=5)"
   ]
  },
  {
   "cell_type": "code",
   "execution_count": null,
   "metadata": {
    "executionInfo": {
     "elapsed": 10419,
     "status": "aborted",
     "timestamp": 1728749527862,
     "user": {
      "displayName": "Umberto Romagnolo",
      "userId": "14928952592276304637"
     },
     "user_tz": -120
    },
    "id": "sAKhvSe9s8sN"
   },
   "outputs": [],
   "source": [
    "coefficients_ridge = []  # Memorizza i coefficienti ottenuti da ciascuna fold\n",
    "for train_index, test_index in kf.split(Xe1):\n",
    "    X_train, X_test = Xe1.iloc[train_index], Xe1.iloc[test_index]\n",
    "    y_train, y_test = Ye1[train_index], Ye1[test_index]\n",
    "\n",
    "    Ridge.fit(X_train, y_train)\n",
    "    coefficients_ridge.append(Ridge.coef_)"
   ]
  },
  {
   "cell_type": "code",
   "execution_count": null,
   "metadata": {
    "executionInfo": {
     "elapsed": 10418,
     "status": "aborted",
     "timestamp": 1728749527862,
     "user": {
      "displayName": "Umberto Romagnolo",
      "userId": "14928952592276304637"
     },
     "user_tz": -120
    },
    "id": "RG7p-6pns8sN"
   },
   "outputs": [],
   "source": [
    "num_coef = np.sum(Ridge.coef_ != 0)\n",
    "print(\"Numero di variabili esplicative con coefficienti diversi da zero:\", num_coef)"
   ]
  },
  {
   "cell_type": "code",
   "execution_count": null,
   "metadata": {
    "executionInfo": {
     "elapsed": 10418,
     "status": "aborted",
     "timestamp": 1728749527862,
     "user": {
      "displayName": "Umberto Romagnolo",
      "userId": "14928952592276304637"
     },
     "user_tz": -120
    },
    "id": "XQI5oT3ds8sN"
   },
   "outputs": [],
   "source": [
    "# Calcola AICc e log-verosimiglianza utilizzando i coefficienti medi\n",
    "coefficients_mean_r = np.mean(coefficients_ridge, axis=0)\n",
    "n = len(Ye1)\n",
    "mse = np.mean((Ye1 - np.dot(Xe1, coefficients_mean_r))**2)\n",
    "df_model = np.sum(Ridge.coef_ != 0)  # Gradi di libertà del modello\n",
    "log_likelihood = -n / 2 * (1 + np.log(2 * np.pi) + np.log(mse / n))\n",
    "aicc = -2 * log_likelihood + 2 * df_model + 2 * df_model * (df_model + 1) / (n - df_model - 1)\n",
    "\n",
    "# Stampa i risultati\n",
    "print(\"Ridge - AICc:\", aicc)\n",
    "print(\"Log-likelihood:\", log_likelihood)"
   ]
  },
  {
   "cell_type": "markdown",
   "metadata": {
    "id": "iGt3py-ls8sO"
   },
   "source": [
    "##### Lasso Regression"
   ]
  },
  {
   "cell_type": "markdown",
   "metadata": {
    "id": "P370hsEKs8sO"
   },
   "source": [
    "Lasso può essere più utile se si ritiene che molte delle caratteristiche non siano rilevanti. Lasso aggiunge una penalità assoluta alla somma dei valori assoluti dei coefficienti, spingendo alcuni di essi a diventare esattamente zero."
   ]
  },
  {
   "cell_type": "code",
   "execution_count": null,
   "metadata": {
    "executionInfo": {
     "elapsed": 10418,
     "status": "aborted",
     "timestamp": 1728749527862,
     "user": {
      "displayName": "Umberto Romagnolo",
      "userId": "14928952592276304637"
     },
     "user_tz": -120
    },
    "id": "RyVDkWDvs8sO"
   },
   "outputs": [],
   "source": [
    "from sklearn.linear_model import ElasticNetCV\n",
    "# Inizializza il modello ElasticNetCV\n",
    "Lasso = ElasticNetCV(l1_ratio=1.0, alphas=[0.1, 1.0, 10.0], cv=5)"
   ]
  },
  {
   "cell_type": "code",
   "execution_count": null,
   "metadata": {
    "executionInfo": {
     "elapsed": 10418,
     "status": "aborted",
     "timestamp": 1728749527862,
     "user": {
      "displayName": "Umberto Romagnolo",
      "userId": "14928952592276304637"
     },
     "user_tz": -120
    },
    "id": "hUtsX6ZLs8sO"
   },
   "outputs": [],
   "source": [
    "coefficients = []  # Memorizza i coefficienti ottenuti da ciascuna fold\n",
    "for train_index, test_index in kf.split(Xe1):\n",
    "    X_train, X_test = Xe1.iloc[train_index], Xe1.iloc[test_index]\n",
    "    y_train, y_test = Ye1[train_index], Ye1[test_index]\n",
    "\n",
    "    Lasso.fit(X_train, y_train)\n",
    "    coefficients.append(Lasso.coef_)"
   ]
  },
  {
   "cell_type": "code",
   "execution_count": null,
   "metadata": {
    "executionInfo": {
     "elapsed": 10419,
     "status": "aborted",
     "timestamp": 1728749527863,
     "user": {
      "displayName": "Umberto Romagnolo",
      "userId": "14928952592276304637"
     },
     "user_tz": -120
    },
    "id": "b8aN8a1ns8sO"
   },
   "outputs": [],
   "source": [
    "# Calcola AICc e log-verosimiglianza utilizzando i coefficienti medi\n",
    "coefficients_mean = np.mean(coefficients, axis=0)\n",
    "n = len(Ye1)\n",
    "mse = np.mean((Ye1 - np.dot(Xe1, coefficients_mean))**2)\n",
    "df_model = np.sum(coefficients_mean != 0)  # Gradi di libertà del modello\n",
    "log_likelihood = -n / 2 * (1 + np.log(2 * np.pi) + np.log(mse / n))\n",
    "aicc = -2 * log_likelihood + 2 * df_model + 2 * df_model * (df_model + 1) / (n - df_model - 1)\n",
    "\n",
    "# Stampa i risultati\n",
    "print(\"Lasso - AICc:\", aicc)\n",
    "print(\"Log-likelihood:\", log_likelihood)"
   ]
  },
  {
   "cell_type": "code",
   "execution_count": null,
   "metadata": {
    "executionInfo": {
     "elapsed": 10419,
     "status": "aborted",
     "timestamp": 1728749527863,
     "user": {
      "displayName": "Umberto Romagnolo",
      "userId": "14928952592276304637"
     },
     "user_tz": -120
    },
    "id": "I36guX06s8sP"
   },
   "outputs": [],
   "source": [
    "num_coef = np.sum(Lasso.coef_ != 0)\n",
    "print(\"Numero di variabili esplicative con coefficienti diversi da zero:\", num_coef)"
   ]
  },
  {
   "cell_type": "code",
   "execution_count": null,
   "metadata": {
    "executionInfo": {
     "elapsed": 10419,
     "status": "aborted",
     "timestamp": 1728749527863,
     "user": {
      "displayName": "Umberto Romagnolo",
      "userId": "14928952592276304637"
     },
     "user_tz": -120
    },
    "id": "GBBHIWFes8sP"
   },
   "outputs": [],
   "source": [
    "from sklearn.model_selection import cross_val_predict\n",
    "# Calcola le previsioni attraverso la cross-validation\n",
    "y_pred = cross_val_predict(Lasso, Xe1, Ye1, cv=5)"
   ]
  },
  {
   "cell_type": "markdown",
   "metadata": {
    "id": "0mpBRntVs8sP"
   },
   "source": [
    "##### Elastic Net"
   ]
  },
  {
   "cell_type": "code",
   "execution_count": null,
   "metadata": {
    "executionInfo": {
     "elapsed": 10419,
     "status": "aborted",
     "timestamp": 1728749527863,
     "user": {
      "displayName": "Umberto Romagnolo",
      "userId": "14928952592276304637"
     },
     "user_tz": -120
    },
    "id": "K6pVc5yqs8sP"
   },
   "outputs": [],
   "source": [
    "from sklearn.linear_model import ElasticNetCV\n",
    "elasticnet_cv = ElasticNetCV(alphas=[0.1, 1.0, 10.0], l1_ratio=[0.25, 0.5, 0.75], cv=kf)\n",
    "elasticnet_cv.fit(Xe1, Ye1)"
   ]
  },
  {
   "cell_type": "markdown",
   "metadata": {
    "id": "YIF_Dfams8sQ"
   },
   "source": [
    "## Divisione dati in set di addestramento e di test"
   ]
  },
  {
   "cell_type": "code",
   "execution_count": null,
   "metadata": {
    "executionInfo": {
     "elapsed": 10419,
     "status": "aborted",
     "timestamp": 1728749527863,
     "user": {
      "displayName": "Umberto Romagnolo",
      "userId": "14928952592276304637"
     },
     "user_tz": -120
    },
    "id": "Qj9SaLbRs8sQ"
   },
   "outputs": [],
   "source": [
    "from sklearn.model_selection import train_test_split"
   ]
  },
  {
   "cell_type": "code",
   "execution_count": null,
   "metadata": {
    "executionInfo": {
     "elapsed": 10418,
     "status": "aborted",
     "timestamp": 1728749527863,
     "user": {
      "displayName": "Umberto Romagnolo",
      "userId": "14928952592276304637"
     },
     "user_tz": -120
    },
    "id": "KuJISlTXs8sQ"
   },
   "outputs": [],
   "source": [
    "# Si seleziona le variabili esplicative\n",
    "Xd = hr_logit_dummy.drop(['Attrition'], axis=1)"
   ]
  },
  {
   "cell_type": "code",
   "execution_count": null,
   "metadata": {
    "executionInfo": {
     "elapsed": 10418,
     "status": "aborted",
     "timestamp": 1728749527863,
     "user": {
      "displayName": "Umberto Romagnolo",
      "userId": "14928952592276304637"
     },
     "user_tz": -120
    },
    "id": "zC5C2AjFs8sQ"
   },
   "outputs": [],
   "source": [
    "# Si assegna a y la variabile risposta\n",
    "Yd = hr_logit_dummy['Attrition']"
   ]
  },
  {
   "cell_type": "code",
   "execution_count": null,
   "metadata": {
    "executionInfo": {
     "elapsed": 10418,
     "status": "aborted",
     "timestamp": 1728749527863,
     "user": {
      "displayName": "Umberto Romagnolo",
      "userId": "14928952592276304637"
     },
     "user_tz": -120
    },
    "id": "Pizb87_5s8sR"
   },
   "outputs": [],
   "source": [
    "# Si dividono i dati in set di addestramento e di test (test del 30% e training del 70%)\n",
    "X_train_d, X_test_d, y_train_d, y_test_d = train_test_split(Xd, Yd, test_size=0.2, random_state=42)"
   ]
  },
  {
   "cell_type": "code",
   "execution_count": null,
   "metadata": {
    "executionInfo": {
     "elapsed": 10418,
     "status": "aborted",
     "timestamp": 1728749527863,
     "user": {
      "displayName": "Umberto Romagnolo",
      "userId": "14928952592276304637"
     },
     "user_tz": -120
    },
    "id": "cdD0hVJQs8sR"
   },
   "outputs": [],
   "source": [
    "# Si procede con la normalizzazione delle caratteristiche\n",
    "from sklearn.preprocessing import StandardScaler\n",
    "scaler = StandardScaler()\n",
    "\n",
    "X_train_d[[ 'MonthlyIncome_Euro', 'NumCompaniesWorked', 'PercentSalaryHike',\n",
    "       'StockOptionLevel', 'TotalWorkingYears', 'TrainingTimesLastYear',\n",
    "       'YearsAtCompany', 'YearsSinceLastPromotion', 'YearsWithCurrManager',\n",
    "           'DistanceFromHome','Age','Nr Ore']] = scaler.fit_transform(X_train_d[[ 'MonthlyIncome_Euro', 'NumCompaniesWorked', 'PercentSalaryHike',\n",
    "       'StockOptionLevel', 'TotalWorkingYears', 'TrainingTimesLastYear',\n",
    "       'YearsAtCompany', 'YearsSinceLastPromotion', 'YearsWithCurrManager',\n",
    "           'DistanceFromHome','Age','Nr Ore']])\n",
    "\n",
    "X_test_d[[ 'MonthlyIncome_Euro', 'NumCompaniesWorked', 'PercentSalaryHike',\n",
    "       'StockOptionLevel', 'TotalWorkingYears', 'TrainingTimesLastYear',\n",
    "       'YearsAtCompany', 'YearsSinceLastPromotion', 'YearsWithCurrManager',\n",
    "           'DistanceFromHome','Age','Nr Ore']] = scaler.fit_transform(X_test_d[[ 'MonthlyIncome_Euro', 'NumCompaniesWorked', 'PercentSalaryHike',\n",
    "       'StockOptionLevel', 'TotalWorkingYears', 'TrainingTimesLastYear',\n",
    "       'YearsAtCompany', 'YearsSinceLastPromotion', 'YearsWithCurrManager',\n",
    "           'DistanceFromHome','Age','Nr Ore']])"
   ]
  },
  {
   "cell_type": "markdown",
   "metadata": {
    "id": "tnsxK5r0s8sR"
   },
   "source": [
    "La normalizzazione viene eseguita nel seguente modo:\n",
    "\n",
    "- Crea un'istanza della classe StandardScaler assegnandola alla variabile scaler.\n",
    "- Applica la normalizzazione alle colonne specificate del dataframe X_train utilizzando il metodo fit_transform() della classe StandardScaler.\n",
    "- Il risultato della normalizzazione viene assegnato di nuovo alle stesse colonne nel dataframe X_train.\n",
    "\n",
    "La normalizzazione delle features rende i dati comparabili tra loro. Utilizzando lo StandardScaler, le colonne specificate vengono trasformate in modo tale che abbiano una media pari a 0 e una deviazione standard pari a 1. Questo aiuta a evitare che le variabili con valori più grandi abbiano un'influenza sproporzionata sui modelli."
   ]
  },
  {
   "cell_type": "code",
   "execution_count": null,
   "metadata": {
    "executionInfo": {
     "elapsed": 10418,
     "status": "aborted",
     "timestamp": 1728749527863,
     "user": {
      "displayName": "Umberto Romagnolo",
      "userId": "14928952592276304637"
     },
     "user_tz": -120
    },
    "id": "N2M62NTDs8sR"
   },
   "outputs": [],
   "source": [
    "# Check sul tasso di abbandono\n",
    "attrition_rate = (sum(hr_logit_dummy['Attrition']) / len(hr_logit_dummy['Attrition'].index)) * 100\n",
    "print(\"Il tasso di abbandono rispetto all'anno precedente è del {:.2f}%\".format(attrition_rate))"
   ]
  },
  {
   "cell_type": "markdown",
   "metadata": {
    "id": "ehXCYQwLs8sR"
   },
   "source": [
    "## Costruzione del modello completo con variabili dummy"
   ]
  },
  {
   "cell_type": "code",
   "execution_count": null,
   "metadata": {
    "executionInfo": {
     "elapsed": 10418,
     "status": "aborted",
     "timestamp": 1728749527863,
     "user": {
      "displayName": "Umberto Romagnolo",
      "userId": "14928952592276304637"
     },
     "user_tz": -120
    },
    "id": "tGnvj6R3s8sS"
   },
   "outputs": [],
   "source": [
    "# Si aggiunge nel set di addestramento la costante per l'intercetta\n",
    "X_train_d = sm.add_constant(X_train_d)\n",
    "X_test_d = sm.add_constant(X_test_d)"
   ]
  },
  {
   "cell_type": "code",
   "execution_count": null,
   "metadata": {
    "executionInfo": {
     "elapsed": 10418,
     "status": "aborted",
     "timestamp": 1728749527863,
     "user": {
      "displayName": "Umberto Romagnolo",
      "userId": "14928952592276304637"
     },
     "user_tz": -120
    },
    "id": "t5X4TepQs8sS"
   },
   "outputs": [],
   "source": [
    "import statsmodels.api as sm\n",
    "\n",
    "# Stima del modello completo di regressione logistica\n",
    "log_model = sm.GLM(y_train_d, X_train_d, family=sm.families.Binomial())\n",
    "fit0 = log_model.fit()\n",
    "\n",
    "# Stampa il riassunto del modello\n",
    "print(fit0.summary())"
   ]
  },
  {
   "cell_type": "markdown",
   "metadata": {
    "id": "1pj-HSzBs8sS"
   },
   "source": [
    "Nell'output del modello di regressione logistica, si hanno diverse informazioni statistiche utili per valutare la bontà del modello. Ecco alcune considerazioni basate sull'output:\n",
    "\n",
    "1. Coefficienti: I coefficienti stimati per le variabili indipendenti del modello sono elencati nella tabella dei risultati. Ogni coefficiente rappresenta la variazione media nell'odds ratio dell'evento di Attrition per un aumento unitario nella variabile indipendente corrispondente. Ad esempio, il coefficiente stimato per la variabile \"MaritalStatus_Married\" è 0.1850. Ciò significa che un aumento di una unità in \"MaritalStatus_Married\" è associato ad un aumento dell'odds ratio dell'Attrition di circa il 18,50%.\n",
    "\n",
    "2. Valori p: I valori p indicano la significatività statistica dei coefficienti stimati. Nell'output, il valore p è elencato nella colonna \"P>|z|\". Ad esempio, per la variabile \"Nr Ore\", il valore p è 0.663. Un valore p elevato indica che non c'è evidenza sufficiente per respingere l'ipotesi nulla di non significatività della variabile. Pertanto, si potrebbe pensare di escludere la variabile \"Nr Ore\".\n",
    "\n",
    "3. Pseudo R-quadrato: il Pseudo R-squared di Cragg & Uhler (CS) è una misura della bontà di adattamento del modello. In questo modello il Pseudo R-quadrato (CS) è 0.1713. Questo valore indica che il modello spiega circa il 17% della variazione nell'Attrition.\n",
    "\n",
    "4. Devianza e Pearson chi2: Questi sono test di bontà di adattamento per il modello. Valori più alti di devianza e Pearson chi2 indicano una peggiore aderenza del modello ai dati. In questo caso, la devianza è 2490.4 e il Pearson chi2 è 4.27e+03. Questi valori sono molto elevati rispetto al numero di gradi di libertà del modello (53).\n",
    "\n",
    "5. Intervallo di confidenza: Nella colonna \"[0.025 0.975]\" sono forniti gli estremi degli intervalli di confidenza al 95% per i coefficienti stimati. Gli intervalli di confidenza possono aiutare a valutare la precisione delle stime dei coefficienti."
   ]
  },
  {
   "cell_type": "markdown",
   "metadata": {
    "id": "Z7xw6mnds8sS"
   },
   "source": [
    "### Valutazione del modello completo"
   ]
  },
  {
   "cell_type": "code",
   "execution_count": null,
   "metadata": {
    "executionInfo": {
     "elapsed": 10418,
     "status": "aborted",
     "timestamp": 1728749527863,
     "user": {
      "displayName": "Umberto Romagnolo",
      "userId": "14928952592276304637"
     },
     "user_tz": -120
    },
    "id": "I8ZAOevss8sS"
   },
   "outputs": [],
   "source": [
    "y_pred_d = fit0.predict(X_test_d)\n",
    "\n",
    "# Valutazione delle previsioni\n",
    "y_pred_d_binary = (y_pred_d > 0.5).astype(int)  # Converte le previsioni in valori binari\n",
    "accuracy_d = (y_test_d == y_pred_d_binary).mean()\n",
    "print(\"Accuracy:\", accuracy_d)"
   ]
  },
  {
   "cell_type": "code",
   "execution_count": null,
   "metadata": {
    "executionInfo": {
     "elapsed": 10418,
     "status": "aborted",
     "timestamp": 1728749527863,
     "user": {
      "displayName": "Umberto Romagnolo",
      "userId": "14928952592276304637"
     },
     "user_tz": -120
    },
    "id": "vhnngZhys8sT"
   },
   "outputs": [],
   "source": [
    "from sklearn.metrics import confusion_matrix\n",
    "from tabulate import tabulate\n",
    "# Calcolo della matrice di confusione\n",
    "cmd = confusion_matrix(y_test_d, y_pred_d_binary)\n",
    "table_d = tabulate(cmd, headers=['Predicted 0', 'Predicted 1'], showindex=['Actual 0', 'Actual 1'], tablefmt='grid')\n",
    "print(\"Confusion Matrix:\")\n",
    "print(table_d)"
   ]
  },
  {
   "cell_type": "markdown",
   "metadata": {
    "id": "SPFJXo65s8sT"
   },
   "source": [
    "L'output sopra riportato rappresenta la matrice di confusione, che fornisce una panoramica delle previsioni effettuate dal modello completo rispetto alle etichette di classe reali. La matrice di confusione è organizzata in una tabella che mostra il numero di casi per ogni combinazione di previsioni e valori reali delle classi.\n",
    "\n",
    "- La colonna \"Predicted 1\" rappresenta le previsioni per la classe 1 (logoramento) mentre la colonna \"Predicted 0\" rappresenta le previsioni effettuate dal modello per la classe 0 (non logoramento).\n",
    "- La riga \"Actual 1\" rappresenta i valori reali delle osservazioni appartenenti alla classe 1 mentre la riga \"Actual 0\" rappresenta i valori reali delle osservazioni appartenenti alla classe 0.\n",
    "- I numeri all'interno della tabella rappresentano il conteggio dei casi per ogni combinazione di previsioni e valori reali delle classi. Ad esempio, ci sono 28 casi in cui sia la previsione che il valore reale corrispondono alla classe 1, ci sono 730 casi in cui sia la previsione che il valore reale corrispondono alla classe 0, ecc.\n",
    "\n",
    "I casi correttamente classificati sono sulla diagonale principale della matrice. Ad esempio, i 730 casi correttamente classificati come \"Predicted 0\" e \"Actual 0\" rappresentano i veri negativi.\n",
    "Gli elementi al di fuori della diagonale principale rappresentano gli errori di classificazione. Ad esempio, i 103 casi classificati erroneamente come \"Predicted 0\" ma in realtà appartenenti alla classe 1 rappresentano i falsi negativi, mentre i 21 casi classificati erroneamente come \"Predicted 1\" ma in realtà appartenenti alla classe 0 rappresentano i falsi positivi.\n",
    "\n",
    "La matrice di confusione fornisce un'indicazione della capacità del modello di distinguere correttamente tra le classi. Si possono utilizzare i numeri nella matrice per calcolare metriche di valutazione come la precisione, il richiamo e l'F1-score, che offrono una valutazione più completa delle prestazioni del modello."
   ]
  },
  {
   "cell_type": "code",
   "execution_count": null,
   "metadata": {
    "executionInfo": {
     "elapsed": 10417,
     "status": "aborted",
     "timestamp": 1728749527863,
     "user": {
      "displayName": "Umberto Romagnolo",
      "userId": "14928952592276304637"
     },
     "user_tz": -120
    },
    "id": "WyyhiaKus8sT"
   },
   "outputs": [],
   "source": [
    "from sklearn.metrics import classification_report\n",
    "print(classification_report(y_test_d,y_pred_d_binary))"
   ]
  },
  {
   "cell_type": "markdown",
   "metadata": {
    "id": "3E99DmoEs8sT"
   },
   "source": [
    "1. Precision (Precisione):\n",
    "\n",
    "    - La precisione per la classe 0 (etichetta negativa) è 0.88 [730/(730+103)], che indica la percentuale di casi classificati correttamente come negativi rispetto al totale dei casi classificati come negativi (colonna Predicted 0 della matrice di confusione).\n",
    "    - La precisione per la classe 1 (etichetta positiva) è 0.57 [28/(21+28)], che indica la percentuale di casi classificati correttamente come positivi rispetto al totale dei casi classificati come positivi (colonna Predicted 1 della matrice di confusione).\n",
    "    \n",
    "    Un valore più alto di Precision indica una maggiore accuratezza nelle previsioni per la classe specifica.\n",
    "\n",
    "2. Recall (Richiamo):\n",
    "\n",
    "    - Il richiamo o sensitività (sensitivity) per la classe 0 è 0.97 [730/(730+21], che rappresenta la percentuale di casi negativi correttamente identificati rispetto al totale dei casi reali negativi (riga Actual 0 della matrice di confusione).\n",
    "    - Il richiamo o sensitività (sensitivity) per la classe 1 è 0.21 [28/(28+103)], che rappresenta la percentuale di casi positivi correttamente identificati rispetto al totale dei casi reali positivi (riga Actual 1 della matrice di confusione).\n",
    "    \n",
    "    Un valore più alto di Recall (varia da 0 a 1) indica una migliore capacità del modello di identificare correttamente i casi della classe specifica.\n",
    "\n",
    "3. F1-score:\n",
    "\n",
    "    - L'F1-score per la classe 0 è 0.92 [2*(0.88*0.97)/(0.88+0.97)], che rappresenta una misura complessiva dell'accuratezza del modello considerando sia la precisione che il richiamo.\n",
    "    - L'F1-score per la classe 1 è 0.31 [2*(0.57*0.21)/(0.57+0.21)], che rappresenta una misura complessiva dell'accuratezza del modello per la classe positiva.\n",
    "    \n",
    "    L'F1-score è la media armonica della precisione e del richiamo [2(Precision*Recall)/(Precision+Recall)] ed è utile per valutare il bilanciamento tra precisione e richiamo.\n",
    "    un F1-score di 0.31 (dove il valore può variare da 0 a 1) per la classe 1 indica che il modello ha una bassa precisione e un basso richiamo per quella classe. Ciò suggerisce che il modello fatica a identificare correttamente la maggior parte delle istanze positive (1) e tende a fare molte previsioni errate, sia falsi positivi che falsi negativi, per questa classe.\n",
    "    Sussiste una disparità significativa tra le due classi, con prestazioni migliori per la classe negativa (0) rispetto alla classe positiva (1).\n",
    "    \n",
    "4. Support:\n",
    "\n",
    "    - Il supporto per la classe 0 è 751, che rappresenta il numero totale di casi appartenenti alla classe negativa.\n",
    "    - Il supporto per la classe 1 è 131, che rappresenta il numero totale di casi appartenenti alla classe positiva.\n",
    "    \n",
    "    Il supporto indica la distribuzione dei casi nelle classi di destinazione.\n",
    "\n",
    "5. Accuracy (Accuratezza):\n",
    "\n",
    "    - L'accuratezza complessiva del modello è 0.86, che rappresenta la percentuale di casi classificati correttamente (vero positivo + vero negativo) rispetto al totale dei casi.\n",
    "\n",
    "    L'accuratezza fornisce una misura complessiva delle prestazioni del modello.\n",
    "    un'accuratezza del 0.86 suggerisce che il modello ha una prestazione complessiva abbastanza buona, in quanto classifica correttamente l'86% delle istanze. Tuttavia, è importante considerare il contesto del problema e il bilanciamento delle classi nel set di dati.\n",
    "    Le classi nel set di dati sono sbilanciate: l'accuratezza non è la migliore metrica per valutare le prestazioni del modello in quanto si ha una classe di minoranza molto più piccola rispetto alla classe di maggioranza.\n",
    "\n",
    "6. Macro avg e weighted avg:\n",
    "\n",
    "    - Macro avg rappresenta la media non ponderata delle metriche per tutte le classi.\n",
    "        - Precision: 0.72 indica una media delle precisioni per tutte le classi del 72%. Questo valore indica un buon equilibrio generale tra precisione per le diverse classi.\n",
    "        -   Recall: 0.59 indica una media dei recall per tutte le classi del 59%. Questo valore suggerisce che, in media, il modello sta classificando correttamente solo il 59% delle istanze positive per tutte le classi.\n",
    "        -   F1-score: 0.62 indica una media degli F1-score per tutte le classi del 62%. Questo valore riflette un bilanciamento tra precisione e recall mediamente buono per tutte le classi.\n",
    "\n",
    "    - Weighted avg rappresenta la media ponderata delle metriche per tutte le classi, ponderate in base al supporto di ciascuna classe.\n",
    "        -   Precision: 0.83 indica una media ponderata delle precisioni per tutte le classi dell'83%. Questo valore tiene conto del supporto (numero di istanze) per ogni classe e riflette una precisione complessivamente buona, considerando il peso delle diverse classi.\n",
    "        -   Recall: 0.86 indica una media ponderata dei recall per tutte le classi dell'86%. Questo valore tiene conto del supporto (numero di istanze) per ogni classe e riflette un buon recall complessivo, considerando il peso delle diverse classi.\n",
    "        -   F1-score: 0.83 indica una media ponderata degli F1-score per tutte le classi dell'80%. Questo valore tiene conto del supporto (numero di istanze) per ogni classe e riflette un bilanciamento complessivamente buono tra precisione e recall, considerando il peso delle diverse classi."
   ]
  },
  {
   "cell_type": "code",
   "execution_count": null,
   "metadata": {
    "executionInfo": {
     "elapsed": 10417,
     "status": "aborted",
     "timestamp": 1728749527863,
     "user": {
      "displayName": "Umberto Romagnolo",
      "userId": "14928952592276304637"
     },
     "user_tz": -120
    },
    "id": "20swWy_qs8sT"
   },
   "outputs": [],
   "source": [
    "# Si calcola l'AICc (corrected Akaike Information Criterion) del modello completo per un futuro confronto con modelli alternativi.\n",
    "\n",
    "# Log-likelihood del modello\n",
    "log_likelihood = -1245.2\n",
    "\n",
    "# Numero di parametri nel modello\n",
    "num_parametri = 53+1\n",
    "\n",
    "# Numero di osservazioni nel dataset di addestramento\n",
    "n = len(y_train_d)\n",
    "\n",
    "# Calcolo dell'AIC\n",
    "AIC = -2 * log_likelihood + 2 * num_parametri\n",
    "AICc = AIC + (2 * num_parametri * (num_parametri + 1)) / (n - num_parametri - 1)\n",
    "\n",
    "# Un modello con un valore di AICc più basso è generalmente preferito in quanto indica un migliore equilibrio\n",
    "# tra bontà di adattamento e complessità del modello.\n",
    "\n",
    "AICc"
   ]
  },
  {
   "cell_type": "code",
   "execution_count": null,
   "metadata": {
    "executionInfo": {
     "elapsed": 10417,
     "status": "aborted",
     "timestamp": 1728749527863,
     "user": {
      "displayName": "Umberto Romagnolo",
      "userId": "14928952592276304637"
     },
     "user_tz": -120
    },
    "id": "74aQMMSus8sT"
   },
   "outputs": [],
   "source": [
    "# Si calcola il BIC (Bayesian Information Criterion) del modello completo per un futuro confronto con modelli alternativi.\n",
    "\n",
    " # Log-likelihood del modello\n",
    "log_likelihood = fit0.llf\n",
    "\n",
    "# Numero di parametri del modello (è uguale al numero di coefficienti nel modello + 1 per l'intercetta)\n",
    "num_parametri = fit0.df_model + 1\n",
    "\n",
    "# Numero di osservazioni nel set di dati\n",
    "n = len(y_train_d)\n",
    "\n",
    "# Calcolo il BIC\n",
    "BIC = -2 * log_likelihood + num_parametri * np.log(n)\n",
    "\n",
    "# Un valore BIC inferiore indica una migliore adeguabilità del modello ai dati, tenendo conto della complessità del modello.\n",
    "\n",
    "BIC"
   ]
  },
  {
   "cell_type": "markdown",
   "metadata": {
    "id": "jk2T4uK_s8sT"
   },
   "source": [
    "### Tecniche di regolarizzazione: Regressione di Ridge & Regressione di Lasso"
   ]
  },
  {
   "cell_type": "markdown",
   "metadata": {
    "id": "KutLk37is8sT"
   },
   "source": [
    "Dato che il modello completo ha un basso valore di bontà d'adattamento (vedi il log-likelihood molto basso) e una devianza elevata, potrebbe indicare che il modello è sovradattato (overfitting) ai dati di addestramento. Ciò significa che il modello si adatta troppo bene ai dati di addestramento, ma non generalizza bene ai nuovi dati.\n",
    "In questo caso si considera di utilizzare tecniche di regolarizzazione."
   ]
  },
  {
   "cell_type": "markdown",
   "metadata": {
    "id": "tMDSR-VMs8sU"
   },
   "source": [
    "La regressione Ridge e la regressione Lasso sono modelli lineari che aiutano a prevenire l'overfitting ed a gestire il problema della multicolinarietà (correlazione tra le variabili predittive). Ridge e LASSO introducono un termine di penalizzazione nella funzione di regressione per limitare i coefficienti delle variabili. Ridge tende a ridurre tutti i coefficienti senza annullarli, mentre LASSO può annullare alcuni coefficienti, portando ad una selezione automatica delle variabili."
   ]
  },
  {
   "cell_type": "code",
   "execution_count": null,
   "metadata": {
    "executionInfo": {
     "elapsed": 10417,
     "status": "aborted",
     "timestamp": 1728749527863,
     "user": {
      "displayName": "Umberto Romagnolo",
      "userId": "14928952592276304637"
     },
     "user_tz": -120
    },
    "id": "SCJTe1r-s8sU"
   },
   "outputs": [],
   "source": [
    "import matplotlib.pyplot as plt\n",
    "from sklearn.linear_model import RidgeCV, LassoCV, ElasticNetCV\n",
    "from sklearn.model_selection import cross_val_score\n",
    "from sklearn.linear_model import Lasso\n",
    "from sklearn.linear_model import Ridge\n",
    "from sklearn.model_selection import GridSearchCV\n",
    "from sklearn.metrics import mean_squared_error"
   ]
  },
  {
   "cell_type": "markdown",
   "metadata": {
    "id": "k2h8TfKks8sU"
   },
   "source": [
    "#### Regressione Ridge"
   ]
  },
  {
   "cell_type": "code",
   "execution_count": null,
   "metadata": {
    "executionInfo": {
     "elapsed": 10417,
     "status": "aborted",
     "timestamp": 1728749527863,
     "user": {
      "displayName": "Umberto Romagnolo",
      "userId": "14928952592276304637"
     },
     "user_tz": -120
    },
    "id": "0PJBpqi2s8sU"
   },
   "outputs": [],
   "source": [
    "# Intervallo di alpha: Si esegue una ricerca dell'intervallo di alpha utilizzando la ricerca griglia adattiva.\n",
    "ridge_cv = RidgeCV(cv=5)\n",
    "ridge_cv.fit(X_train_d, y_train_d)"
   ]
  },
  {
   "cell_type": "markdown",
   "metadata": {
    "id": "K3m9xSAps8sU"
   },
   "source": [
    "nella classe RidgeCV, non è necessario specificare il numero di valori di alpha (n_alphas) da testare né è necessario specificare la tolleranza di convergenza come si farà nella regressione Lasso. La classe RidgeCV esegue automaticamente la ricerca griglia adattiva per determinare il miglior valore di alpha utilizzando la validazione incrociata."
   ]
  },
  {
   "cell_type": "code",
   "execution_count": null,
   "metadata": {
    "executionInfo": {
     "elapsed": 10417,
     "status": "aborted",
     "timestamp": 1728749527863,
     "user": {
      "displayName": "Umberto Romagnolo",
      "userId": "14928952592276304637"
     },
     "user_tz": -120
    },
    "id": "0jtjiNVvs8sU"
   },
   "outputs": [],
   "source": [
    "# Ottieni il miglior valore di alpha selezionato dalla ricerca griglia adattiva\n",
    "best_alpha_ridge = ridge_cv.alpha_\n",
    "print(\"Best alpha (Ridge CV):\", best_alpha_ridge)"
   ]
  },
  {
   "cell_type": "markdown",
   "metadata": {
    "id": "O6_RKXcIs8sU"
   },
   "source": [
    "La regressione Ridge utilizza il parametro alpha come termine di regolarizzazione per controllare il trade-off tra la riduzione del modello (per ridurre il rischio di overfitting) e l'adeguamento ai dati di addestramento. Un valore di alpha più alto corrisponde a una regolarizzazione più forte, che penalizza i coefficienti di regressione più grandi e riduce la complessità del modello.\n",
    "\n",
    "In questo caso il valore di di alpha è pari a 10.0, questo implica che una regolarizzazione più forte è preferibile per il modello Ridge."
   ]
  },
  {
   "cell_type": "markdown",
   "metadata": {
    "id": "4XuFnwQOs8sU"
   },
   "source": [
    "##### Modello di regressione logistica regolarizzata secondo Ridge"
   ]
  },
  {
   "cell_type": "code",
   "execution_count": null,
   "metadata": {
    "executionInfo": {
     "elapsed": 10417,
     "status": "aborted",
     "timestamp": 1728749527863,
     "user": {
      "displayName": "Umberto Romagnolo",
      "userId": "14928952592276304637"
     },
     "user_tz": -120
    },
    "id": "KMCmcU3hs8sU"
   },
   "outputs": [],
   "source": [
    "fit_ridge = log_model.fit_regularized(method='elastic_net', alpha=1/10, L1_wt=0)"
   ]
  },
  {
   "cell_type": "code",
   "execution_count": null,
   "metadata": {
    "executionInfo": {
     "elapsed": 10417,
     "status": "aborted",
     "timestamp": 1728749527863,
     "user": {
      "displayName": "Umberto Romagnolo",
      "userId": "14928952592276304637"
     },
     "user_tz": -120
    },
    "id": "ZsOHZCoys8sV"
   },
   "outputs": [],
   "source": [
    "y_pred_ridge = fit_ridge.predict(X_test_d)\n",
    "ridge_mse = mean_squared_error(y_test_d, y_pred_ridge)\n",
    "print(\"MSE (Ridge):\", ridge_mse)"
   ]
  },
  {
   "cell_type": "markdown",
   "metadata": {
    "id": "2UWQn3ccs8sV"
   },
   "source": [
    "un MSE più vicino a zero indica una migliore bontà di adattamento del modello ai dati di test."
   ]
  },
  {
   "cell_type": "markdown",
   "metadata": {
    "id": "0VfynWB9s8sV"
   },
   "source": [
    "Poiché il modello Ridge è una regressione lineare regolarizzata e non viene fornita una stima diretta del log-likelihood, per calcolare l'AIC si può usare il punteggio di informazione di Akaike modificato (AICc), che tiene conto delle dimensioni del campione e del numero di parametri. L'AICc è una versione corretta dell'AIC per campioni di dimensioni relativamente piccole."
   ]
  },
  {
   "cell_type": "code",
   "execution_count": null,
   "metadata": {
    "executionInfo": {
     "elapsed": 10416,
     "status": "aborted",
     "timestamp": 1728749527863,
     "user": {
      "displayName": "Umberto Romagnolo",
      "userId": "14928952592276304637"
     },
     "user_tz": -120
    },
    "id": "Fz-RboiNs8sV"
   },
   "outputs": [],
   "source": [
    "# Calcolo del numero di parametri\n",
    "num_parameters_ridge = np.count_nonzero(fit_ridge.params)\n",
    "# Calcolo del numero di osservazioni\n",
    "n = len(y_test_d)\n",
    "# Calcolo dell'AICc\n",
    "aic_ridge = n * np.log(ridge_mse) + 2 * num_parameters_ridge + (2 * num_parameters_ridge * (num_parameters_ridge + 1)) / (n - num_parameters_ridge - 1)\n",
    "print(\"AICc (Ridge):\", aic_ridge)"
   ]
  },
  {
   "cell_type": "code",
   "execution_count": null,
   "metadata": {
    "executionInfo": {
     "elapsed": 10416,
     "status": "aborted",
     "timestamp": 1728749527863,
     "user": {
      "displayName": "Umberto Romagnolo",
      "userId": "14928952592276304637"
     },
     "user_tz": -120
    },
    "id": "1fO1BXfXs8sV"
   },
   "outputs": [],
   "source": [
    "num_coef = sum(fit_ridge.params != 0)\n",
    "print(\"Numero di variabili esplicative con coefficienti diversi da zero:\", num_coef)"
   ]
  },
  {
   "cell_type": "markdown",
   "metadata": {
    "id": "1bwaHbP_s8sV"
   },
   "source": [
    "#### Regressione Lasso"
   ]
  },
  {
   "cell_type": "code",
   "execution_count": null,
   "metadata": {
    "executionInfo": {
     "elapsed": 10416,
     "status": "aborted",
     "timestamp": 1728749527863,
     "user": {
      "displayName": "Umberto Romagnolo",
      "userId": "14928952592276304637"
     },
     "user_tz": -120
    },
    "id": "AVqYek9as8sV"
   },
   "outputs": [],
   "source": [
    "# Intervallo di alpha: Si esegue una ricerca dell'intervallo di alpha utilizzando la ricerca griglia adattiva.\n",
    "lasso_cv = LassoCV(cv=5, n_alphas=100, tol=0.001)\n",
    "lasso_cv.fit(X_train_d, y_train_d)"
   ]
  },
  {
   "cell_type": "code",
   "execution_count": null,
   "metadata": {
    "executionInfo": {
     "elapsed": 10416,
     "status": "aborted",
     "timestamp": 1728749527863,
     "user": {
      "displayName": "Umberto Romagnolo",
      "userId": "14928952592276304637"
     },
     "user_tz": -120
    },
    "id": "MyddgJYQs8sW"
   },
   "outputs": [],
   "source": [
    "# Ottenere il miglior valore di alpha\n",
    "best_alpha_lasso = lasso_cv.alpha_\n",
    "print(\"Best alpha (Lasso CV):\", best_alpha_lasso)"
   ]
  },
  {
   "cell_type": "markdown",
   "metadata": {
    "id": "_-jwUWtzs8sW"
   },
   "source": [
    "La classe LassoCV esegue automaticamente la ricerca griglia adattiva, provando diversi valori di alpha su una scala logaritmica. Utilizzando la validazione incrociata, stima le prestazioni del modello per ogni valore di alpha e seleziona quello che fornisce le migliori prestazioni medie.\n",
    "\n",
    "Poiché si ottiene un valore di alpha prossimo allo zero, le stime LASSO dei coefficienti tendono a essere molto simili alle stime classiche dei minimi quadrati; comunque potrebbero esserci piccole differenze dovute alla presenza della regolarizzazione."
   ]
  },
  {
   "cell_type": "markdown",
   "metadata": {
    "id": "Nw3Nacxks8sW"
   },
   "source": [
    "##### Modello di regressione logistica regolarizzata secondo Lasso"
   ]
  },
  {
   "cell_type": "code",
   "execution_count": null,
   "metadata": {
    "executionInfo": {
     "elapsed": 10416,
     "status": "aborted",
     "timestamp": 1728749527863,
     "user": {
      "displayName": "Umberto Romagnolo",
      "userId": "14928952592276304637"
     },
     "user_tz": -120
    },
    "id": "ZSPsJgbfs8sW"
   },
   "outputs": [],
   "source": [
    "fit_lasso = log_model.fit_regularized(method='elastic_net', alpha=0.0004509763925403281, L1_wt=1)"
   ]
  },
  {
   "cell_type": "code",
   "execution_count": null,
   "metadata": {
    "executionInfo": {
     "elapsed": 10416,
     "status": "aborted",
     "timestamp": 1728749527863,
     "user": {
      "displayName": "Umberto Romagnolo",
      "userId": "14928952592276304637"
     },
     "user_tz": -120
    },
    "id": "DKM3Q4k3s8sW"
   },
   "outputs": [],
   "source": [
    "y_pred_lasso = fit_lasso.predict(X_test_d)\n",
    "lasso_mse = mean_squared_error(y_test_d, y_pred_lasso)\n",
    "print(\"MSE (Lasso):\", lasso_mse)"
   ]
  },
  {
   "cell_type": "markdown",
   "metadata": {
    "id": "80XI4T6ys8sX"
   },
   "source": [
    "un MSE più vicino a zero indica una migliore bontà di adattamento del modello ai dati di test."
   ]
  },
  {
   "cell_type": "code",
   "execution_count": null,
   "metadata": {
    "executionInfo": {
     "elapsed": 10416,
     "status": "aborted",
     "timestamp": 1728749527863,
     "user": {
      "displayName": "Umberto Romagnolo",
      "userId": "14928952592276304637"
     },
     "user_tz": -120
    },
    "id": "FaYeOgYws8sX"
   },
   "outputs": [],
   "source": [
    "# Calcolo del numero di parametri\n",
    "num_parameters_lasso = np.count_nonzero(fit_lasso.params)\n",
    "# Calcolo del numero di osservazioni\n",
    "n = len(y_test_d)\n",
    "# Calcolo dell'AICc\n",
    "aic_lasso = n * np.log(lasso_mse) + 2 * num_parameters_lasso + (2 * num_parameters_lasso * (num_parameters_lasso + 1)) / (n - num_parameters_lasso - 1)\n",
    "print(\"AICc (Lasso):\", aic_lasso)"
   ]
  },
  {
   "cell_type": "code",
   "execution_count": null,
   "metadata": {
    "executionInfo": {
     "elapsed": 10416,
     "status": "aborted",
     "timestamp": 1728749527863,
     "user": {
      "displayName": "Umberto Romagnolo",
      "userId": "14928952592276304637"
     },
     "user_tz": -120
    },
    "id": "UwuvNLZds8sX"
   },
   "outputs": [],
   "source": [
    "num_zero_coef = sum(fit_lasso.params == 0)\n",
    "print(\"Numero di variabili esplicative con coefficienti pari a zero:\", num_zero_coef)"
   ]
  },
  {
   "cell_type": "code",
   "execution_count": null,
   "metadata": {
    "executionInfo": {
     "elapsed": 10416,
     "status": "aborted",
     "timestamp": 1728749527863,
     "user": {
      "displayName": "Umberto Romagnolo",
      "userId": "14928952592276304637"
     },
     "user_tz": -120
    },
    "id": "qKvVzHgKs8sX"
   },
   "outputs": [],
   "source": [
    "num_no_zero_coef = sum(fit_lasso.params != 0)\n",
    "print(\"Numero di variabili esplicative con coefficienti diversi da zero:\", num_no_zero_coef)"
   ]
  },
  {
   "cell_type": "markdown",
   "metadata": {
    "id": "OsSrsKmFs8sX"
   },
   "source": [
    "## Costruzione del modello considerando le variabili risultanti significative dall'EDA"
   ]
  },
  {
   "cell_type": "markdown",
   "metadata": {
    "id": "niXIFmLOs8sX"
   },
   "source": [
    "Variabili quantitative considerate rilevanti dall'analisi esplorativa attraverso il T-test sono:\n",
    "\n",
    "\tVariabili con differenza significativa tra i gruppi di Attrition sia con alpha = 0.05 che con alpha = 0.01:\n",
    "\t\t1. Age\n",
    "\t\t2. NumCompaniesWorked\n",
    "\t\t3. TotalWorkingYears\n",
    "\t\t4. TrainingTimesLastYear\n",
    "\t\t5. YearsAtCompany\n",
    "\t\t6. YearsWithCurrManager\n",
    "\n",
    "\tVariabili con differenza significativa tra i gruppi di Attrition solo per alpha = 0.05:\n",
    "\t\t1. MonthlyIncome_Euro\n",
    "\t\t2. PercentSalaryHike\n",
    "\t\t3. YearsSinceLastPromotion\n",
    "\n",
    "Variabili categoriali considerate rilevanti dall'analisi esplorativa attraverso il test del Chi-Quadro sono:\n",
    "\n",
    "\tVariabili con differenza significativa tra i gruppi di Attrition sia con alpha = 0.05 che con alpha = 0.01:\n",
    "\t\t1. EnvironmentSatisfaction\n",
    "\t\t2. JobSatisfaction\n",
    "\t\t3. WorkLifeBalance\n",
    "\t\t4. BusinessTravel\n",
    "\t\t5. Department\n",
    "\t\t6. EducationField\n",
    "\t\t7. JobRole\n",
    "\t\t8. MaritalStatus\n",
    "\n",
    "\tVariabili con differenza significativa tra i gruppi di Attrition solo per alpha = 0.05:\n",
    "\t\t1. JobInvolvement"
   ]
  },
  {
   "cell_type": "code",
   "execution_count": null,
   "metadata": {
    "executionInfo": {
     "elapsed": 10416,
     "status": "aborted",
     "timestamp": 1728749527863,
     "user": {
      "displayName": "Umberto Romagnolo",
      "userId": "14928952592276304637"
     },
     "user_tz": -120
    },
    "id": "9LsQm7K8s8sY"
   },
   "outputs": [],
   "source": [
    "hr_eda = hr_logit_dummy[['Attrition','Age','NumCompaniesWorked','TotalWorkingYears','TrainingTimesLastYear',\n",
    "            'YearsAtCompany','YearsWithCurrManager','EnvironmentSatisfaction_Low',\n",
    "            'EnvironmentSatisfaction_Medium','EnvironmentSatisfaction_Very High','JobSatisfaction_Low',\n",
    "            'JobSatisfaction_Medium','JobSatisfaction_Very High','WorkLifeBalance_Best',\n",
    "            'WorkLifeBalance_Better','WorkLifeBalance_Good','BusinessTravel_Travel_Frequently',\n",
    "            'BusinessTravel_Travel_Rarely','Department_Research & Development','Department_Sales',\n",
    "            'EducationField_Life Sciences','EducationField_Marketing','EducationField_Medical','EducationField_Other',\n",
    "            'EducationField_Technical Degree','JobRole_Human Resources','JobRole_Laboratory Technician','JobRole_Manager',\n",
    "            'JobRole_Manufacturing Director','JobRole_Manufacturing Director','JobRole_Research Director','JobRole_Research Scientist',\n",
    "            'JobRole_Sales Executive','JobRole_Sales Representative','MaritalStatus_Married','MaritalStatus_Single']]"
   ]
  },
  {
   "cell_type": "code",
   "execution_count": null,
   "metadata": {
    "executionInfo": {
     "elapsed": 10415,
     "status": "aborted",
     "timestamp": 1728749527863,
     "user": {
      "displayName": "Umberto Romagnolo",
      "userId": "14928952592276304637"
     },
     "user_tz": -120
    },
    "id": "hpGHpUrXs8sY"
   },
   "outputs": [],
   "source": [
    "# Si codifica la variabile risposta in 0 e 1\n",
    "hr_eda['Attrition'] = hr_eda['Attrition'].replace({'Yes': 1, \"No\": 0})"
   ]
  },
  {
   "cell_type": "code",
   "execution_count": null,
   "metadata": {
    "executionInfo": {
     "elapsed": 10415,
     "status": "aborted",
     "timestamp": 1728749527863,
     "user": {
      "displayName": "Umberto Romagnolo",
      "userId": "14928952592276304637"
     },
     "user_tz": -120
    },
    "id": "ZLonIaFUs8sY"
   },
   "outputs": [],
   "source": [
    "Ye = hr_eda['Attrition']\n",
    "Xe = hr_eda.drop('Attrition',axis=1)"
   ]
  },
  {
   "cell_type": "code",
   "execution_count": null,
   "metadata": {
    "executionInfo": {
     "elapsed": 10416,
     "status": "aborted",
     "timestamp": 1728749527864,
     "user": {
      "displayName": "Umberto Romagnolo",
      "userId": "14928952592276304637"
     },
     "user_tz": -120
    },
    "id": "49qZLe7Vs8sY"
   },
   "outputs": [],
   "source": [
    "X_train_e,X_test_e, y_train_e, y_test_e = train_test_split(Xe,Ye, test_size = 0.20, random_state=42)"
   ]
  },
  {
   "cell_type": "code",
   "execution_count": null,
   "metadata": {
    "executionInfo": {
     "elapsed": 10416,
     "status": "aborted",
     "timestamp": 1728749527864,
     "user": {
      "displayName": "Umberto Romagnolo",
      "userId": "14928952592276304637"
     },
     "user_tz": -120
    },
    "id": "sDZPne9js8sY"
   },
   "outputs": [],
   "source": [
    "# Si procede con la normalizzazione delle caratteristiche\n",
    "scaler = StandardScaler()\n",
    "\n",
    "X_train_e[['NumCompaniesWorked','TotalWorkingYears','TrainingTimesLastYear','YearsAtCompany','YearsWithCurrManager','Age']] = scaler.fit_transform(X_train_e[['NumCompaniesWorked','TotalWorkingYears','TrainingTimesLastYear','YearsAtCompany',\n",
    "            'YearsWithCurrManager','Age']])\n",
    "\n",
    "X_test_e[['NumCompaniesWorked','TotalWorkingYears','TrainingTimesLastYear','YearsAtCompany','YearsWithCurrManager','Age']] = scaler.fit_transform(X_test_e[['NumCompaniesWorked','TotalWorkingYears','TrainingTimesLastYear','YearsAtCompany',\n",
    "            'YearsWithCurrManager','Age']])"
   ]
  },
  {
   "cell_type": "code",
   "execution_count": null,
   "metadata": {
    "executionInfo": {
     "elapsed": 10416,
     "status": "aborted",
     "timestamp": 1728749527864,
     "user": {
      "displayName": "Umberto Romagnolo",
      "userId": "14928952592276304637"
     },
     "user_tz": -120
    },
    "id": "BMbbT4wcs8sY"
   },
   "outputs": [],
   "source": [
    "# Si aggiunge nel set di addestramento la costante per l'intercetta\n",
    "X_train_e = sm.add_constant(X_train_e)\n",
    "X_test_e = sm.add_constant(X_test_e)"
   ]
  },
  {
   "cell_type": "code",
   "execution_count": null,
   "metadata": {
    "executionInfo": {
     "elapsed": 10416,
     "status": "aborted",
     "timestamp": 1728749527864,
     "user": {
      "displayName": "Umberto Romagnolo",
      "userId": "14928952592276304637"
     },
     "user_tz": -120
    },
    "id": "JtJMNOxQs8sY"
   },
   "outputs": [],
   "source": [
    "# Stima del modello completo di regressione logistica\n",
    "log_model_e = sm.GLM(y_train_e, X_train_e, family=sm.families.Binomial())\n",
    "fit1 = log_model.fit()\n",
    "\n",
    "# Stampa il riassunto del modello\n",
    "print(fit1.summary())"
   ]
  },
  {
   "cell_type": "code",
   "execution_count": null,
   "metadata": {
    "executionInfo": {
     "elapsed": 10416,
     "status": "aborted",
     "timestamp": 1728749527864,
     "user": {
      "displayName": "Umberto Romagnolo",
      "userId": "14928952592276304637"
     },
     "user_tz": -120
    },
    "id": "x4uGx7p2s8sY"
   },
   "outputs": [],
   "source": [
    "# Si calcola l'AICc (corrected Akaike Information Criterion) del modello completo per un futuro confronto con modelli alternativi.\n",
    "\n",
    "# Log-likelihood del modello\n",
    "log_likelihood = -1281.9\n",
    "\n",
    "# Numero di parametri nel modello\n",
    "num_parametri = 34+1\n",
    "\n",
    "# Numero di osservazioni nel dataset di addestramento\n",
    "n = len(y_train_e)\n",
    "\n",
    "# Calcolo dell'AIC\n",
    "AIC = -2 * log_likelihood + 2 * num_parametri\n",
    "AICc = AIC + (2 * num_parametri * (num_parametri + 1)) / (n - num_parametri - 1)\n",
    "\n",
    "# Un modello con un valore di AICc più basso è generalmente preferito in quanto indica un migliore equilibrio\n",
    "# tra bontà di adattamento e complessità del modello.\n",
    "\n",
    "AICc"
   ]
  },
  {
   "cell_type": "markdown",
   "metadata": {
    "id": "Pn7AU62Ls8sZ"
   },
   "source": [
    "### Regressione Ridge"
   ]
  },
  {
   "cell_type": "code",
   "execution_count": null,
   "metadata": {
    "executionInfo": {
     "elapsed": 10416,
     "status": "aborted",
     "timestamp": 1728749527864,
     "user": {
      "displayName": "Umberto Romagnolo",
      "userId": "14928952592276304637"
     },
     "user_tz": -120
    },
    "id": "lw3wRin8s8sZ"
   },
   "outputs": [],
   "source": [
    "# Intervallo di alpha: Si esegue una ricerca dell'intervallo di alpha utilizzando la ricerca griglia adattiva.\n",
    "e_ridge_cv = RidgeCV(cv=5)\n",
    "e_ridge_cv.fit(X_train_e, y_train_e)"
   ]
  },
  {
   "cell_type": "markdown",
   "metadata": {
    "id": "IIqBl00Ls8sZ"
   },
   "source": [
    "nella classe RidgeCV, non è necessario specificare il numero di valori di alpha (n_alphas) da testare né è necessario specificare la tolleranza di convergenza come si farà nella regressione Lasso. La classe RidgeCV esegue automaticamente la ricerca griglia adattiva per determinare il miglior valore di alpha utilizzando la validazione incrociata."
   ]
  },
  {
   "cell_type": "code",
   "execution_count": null,
   "metadata": {
    "executionInfo": {
     "elapsed": 10416,
     "status": "aborted",
     "timestamp": 1728749527864,
     "user": {
      "displayName": "Umberto Romagnolo",
      "userId": "14928952592276304637"
     },
     "user_tz": -120
    },
    "id": "OewGUCzus8sZ"
   },
   "outputs": [],
   "source": [
    "# Ottieni il miglior valore di alpha selezionato dalla ricerca griglia adattiva\n",
    "e_best_alpha_ridge = e_ridge_cv.alpha_\n",
    "print(\"Best alpha (Ridge CV of EDA Model):\", e_best_alpha_ridge)"
   ]
  },
  {
   "cell_type": "markdown",
   "metadata": {
    "id": "nKfnm1-_s8sZ"
   },
   "source": [
    "#### Modello di regressione logistica regolarizzata secondo Ridge per modello parziale"
   ]
  },
  {
   "cell_type": "code",
   "execution_count": null,
   "metadata": {
    "executionInfo": {
     "elapsed": 10415,
     "status": "aborted",
     "timestamp": 1728749527864,
     "user": {
      "displayName": "Umberto Romagnolo",
      "userId": "14928952592276304637"
     },
     "user_tz": -120
    },
    "id": "VT8x5WWos8sZ"
   },
   "outputs": [],
   "source": [
    "fit_ridge_e = log_model_e.fit_regularized(method='elastic_net', alpha=1/10, L1_wt=0)"
   ]
  },
  {
   "cell_type": "code",
   "execution_count": null,
   "metadata": {
    "executionInfo": {
     "elapsed": 10415,
     "status": "aborted",
     "timestamp": 1728749527864,
     "user": {
      "displayName": "Umberto Romagnolo",
      "userId": "14928952592276304637"
     },
     "user_tz": -120
    },
    "id": "Algdka8ns8sZ"
   },
   "outputs": [],
   "source": [
    "y_pred_ridge_e = fit_ridge_e.predict(X_test_e)\n",
    "ridge_e_mse = mean_squared_error(y_test_e, y_pred_ridge_e)\n",
    "print(\"MSE (Ridge of EDA Model):\", ridge_mse)"
   ]
  },
  {
   "cell_type": "code",
   "execution_count": null,
   "metadata": {
    "executionInfo": {
     "elapsed": 10415,
     "status": "aborted",
     "timestamp": 1728749527864,
     "user": {
      "displayName": "Umberto Romagnolo",
      "userId": "14928952592276304637"
     },
     "user_tz": -120
    },
    "id": "vMf89a0Ns8sZ"
   },
   "outputs": [],
   "source": [
    "# Calcolo del numero di parametri\n",
    "num_parameters_ridge_e = np.count_nonzero(fit_ridge_e.params)\n",
    "# Calcolo del numero di osservazioni\n",
    "n = len(y_test_e)\n",
    "# Calcolo dell'AICc\n",
    "aic_ridge_e = n * np.log(ridge_e_mse) + 2 * num_parameters_ridge_e + (2 * num_parameters_ridge_e * (num_parameters_ridge_e + 1)) / (n - num_parameters_ridge_e - 1)\n",
    "print(\"AICc (Ridge of EDA Model):\", aic_ridge_e)"
   ]
  },
  {
   "cell_type": "markdown",
   "metadata": {
    "id": "lezfJos8s8sZ"
   },
   "source": [
    "### Regressione Lasso"
   ]
  },
  {
   "cell_type": "code",
   "execution_count": null,
   "metadata": {
    "executionInfo": {
     "elapsed": 10415,
     "status": "aborted",
     "timestamp": 1728749527864,
     "user": {
      "displayName": "Umberto Romagnolo",
      "userId": "14928952592276304637"
     },
     "user_tz": -120
    },
    "id": "BeHI2gmxs8sa"
   },
   "outputs": [],
   "source": [
    "# Intervallo di alpha: Si esegue una ricerca dell'intervallo di alpha utilizzando la ricerca griglia adattiva.\n",
    "e_lasso_cv = LassoCV(cv=5, n_alphas=100, tol=0.001)\n",
    "e_lasso_cv.fit(X_train_e, y_train_e)"
   ]
  },
  {
   "cell_type": "code",
   "execution_count": null,
   "metadata": {
    "executionInfo": {
     "elapsed": 10415,
     "status": "aborted",
     "timestamp": 1728749527864,
     "user": {
      "displayName": "Umberto Romagnolo",
      "userId": "14928952592276304637"
     },
     "user_tz": -120
    },
    "id": "QFpnoQXjs8sa"
   },
   "outputs": [],
   "source": [
    "# Ottenere il miglior valore di alpha\n",
    "e_best_alpha_lasso = e_lasso_cv.alpha_\n",
    "print(\"Best alpha (Lasso CV of EDA Model):\", e_best_alpha_lasso)"
   ]
  },
  {
   "cell_type": "markdown",
   "metadata": {
    "id": "y7eVrTHTs8sa"
   },
   "source": [
    "#### Modello di regressione logistica regolarizzata secondo Lasso per modello parziale"
   ]
  },
  {
   "cell_type": "code",
   "execution_count": null,
   "metadata": {
    "executionInfo": {
     "elapsed": 10415,
     "status": "aborted",
     "timestamp": 1728749527864,
     "user": {
      "displayName": "Umberto Romagnolo",
      "userId": "14928952592276304637"
     },
     "user_tz": -120
    },
    "id": "GOFQZRFrs8sa"
   },
   "outputs": [],
   "source": [
    "fit_lasso_e = log_model_e.fit_regularized(method='elastic_net', alpha=6.392473845158518e-05, L1_wt=1)"
   ]
  },
  {
   "cell_type": "code",
   "execution_count": null,
   "metadata": {
    "executionInfo": {
     "elapsed": 10415,
     "status": "aborted",
     "timestamp": 1728749527864,
     "user": {
      "displayName": "Umberto Romagnolo",
      "userId": "14928952592276304637"
     },
     "user_tz": -120
    },
    "id": "RJKNkmZcs8sb"
   },
   "outputs": [],
   "source": [
    "y_pred_lasso_e = fit_lasso_e.predict(X_test_e)\n",
    "lasso_e_mse = mean_squared_error(y_test_e, y_pred_lasso_e)\n",
    "print(\"MSE (Lasso of EDA Model):\", lasso_e_mse)"
   ]
  },
  {
   "cell_type": "code",
   "execution_count": null,
   "metadata": {
    "executionInfo": {
     "elapsed": 10415,
     "status": "aborted",
     "timestamp": 1728749527864,
     "user": {
      "displayName": "Umberto Romagnolo",
      "userId": "14928952592276304637"
     },
     "user_tz": -120
    },
    "id": "nWnp9BdHs8sb"
   },
   "outputs": [],
   "source": [
    "# Calcolo del numero di parametri\n",
    "num_parameters_lasso_e = np.count_nonzero(fit_lasso_e.params)\n",
    "# Calcolo del numero di osservazioni\n",
    "n = len(y_test_e)\n",
    "# Calcolo dell'AICc\n",
    "aic_lasso_e = n * np.log(lasso_e_mse) + 2 * num_parameters_lasso_e + (2 * num_parameters_lasso_e * (num_parameters_lasso_e + 1)) / (n - num_parameters_lasso_e - 1)\n",
    "print(\"AICc (Lasso of EDA Model):\", aic_lasso_e)"
   ]
  },
  {
   "cell_type": "code",
   "execution_count": null,
   "metadata": {
    "executionInfo": {
     "elapsed": 10415,
     "status": "aborted",
     "timestamp": 1728749527864,
     "user": {
      "displayName": "Umberto Romagnolo",
      "userId": "14928952592276304637"
     },
     "user_tz": -120
    },
    "id": "lf5UWndos8sb"
   },
   "outputs": [],
   "source": [
    "num_zero_coef_e = sum(fit_lasso_e.params == 0)\n",
    "print(\"Numero di variabili esplicative con coefficienti pari a zero:\", num_zero_coef_e)"
   ]
  },
  {
   "cell_type": "markdown",
   "metadata": {
    "id": "V9PDTFXUs8sc"
   },
   "source": [
    "## Eliminazione di alcune variabili (anche dummy)"
   ]
  },
  {
   "cell_type": "markdown",
   "metadata": {
    "id": "F7vxV8JTs8sc"
   },
   "source": [
    "### Si visualizza la matrice di correlazione tra tutte le variabili\n",
    "plt.figure(figsize = (50,40))   \n",
    "sns.heatmap(hr_logit.corr(),annot = True,cmap=\"tab20c\")\n",
    "plt.show()"
   ]
  },
  {
   "cell_type": "markdown",
   "metadata": {
    "id": "N7p_6lwRs8sc"
   },
   "source": [
    "### Si genera un grafico a barre delle correlazioni tra la variabile risposta \"Attrition\" e le altre variabili nel dataset hr_logit, ordinando le variabili in base alla correlazione in modo decrescente. Questo aiuta a identificare le variabili che potrebbero avere una maggiore influenza sull'attrition dei dipendenti\n",
    "plt.figure(figsize=(20,8))\n",
    "hr_logit.corr()['Attrition'].sort_values(ascending = False).plot(kind='bar')"
   ]
  },
  {
   "cell_type": "markdown",
   "metadata": {
    "id": "_zGqhT4ss8sc"
   },
   "source": [
    "Dall'analisi esplorativa dei dati si è riscontrato come le variabili quantitative Age, MonthlyIncome, NumCompaniesWorked, PercentSalaryHike, TotalWorkingYears, TrainingTimesLastYear, YearsAtCompany, YearsSinceLastPromotion, YearsWithCurrManager potessero essere statisticamente significative con alpha = 0.05.\n",
    "\n",
    "Dall'analisi esplorativa dei dati si è riscontrato come le variabili categoriali JobInvolvement, EnvironmentSatisfaction, JobSatisfaction, WorkLifeBalance, BusinessTravel, Department, EducationField, JobRole, MaritalStatus potessero essere statisticamente significative con alpha = 0.05.\n",
    "\n",
    "Il grafico a barre sopra riportato ci mostra un quadro complessivo, sia per variabili categoriali che quantitative."
   ]
  },
  {
   "cell_type": "markdown",
   "metadata": {
    "id": "JLFZ_bkXs8sc"
   },
   "source": [
    "### Si gestiscono le variabili dummy altamente correlate nel dataframe di addestramento\n",
    "\n",
    "corrmat = X_train.corr() # Si calcola la matrice di correlazione tra tutte le variabili nel dataframe X_train\n",
    "corrdf = corrmat.where(np.triu(np.ones(corrmat.shape), k=1).astype(bool)) ### Si crea un nuovo dataframe corrdf in cui vengono mantenute solo le\n",
    "### correlazioni sopra la diagonale principale della matrice di correlazione. Questo evita la duplicazione delle informazioni e riduce la matrice a una forma triangolare superiore.\n",
    "corrdf = corrdf.unstack().reset_index() ### Si trasforma la matrice di correlazione in un formato tabellare con tre colonne:\n",
    "### 'Var1', 'Var2' e 'Correlation'. Ogni riga rappresenta una coppia di variabili e la loro correlazione.\n",
    "corrdf.columns = ['Var1', 'Var2', 'Correlation'] ### Si rinomina le colonne del dataframe corrdf in 'Var1', 'Var2' e 'Correlation'\n",
    "### per una migliore leggibilità.\n",
    "corrdf.dropna(subset = ['Correlation'], inplace = True) ### Si rimuovono le righe che contengono valori mancanti nella colonna 'Correlation'.\n",
    "corrdf['Correlation'] = round(corrdf['Correlation'], 2) ### Si arrotondano i valori di correlazione a due decimali.\n",
    "corrdf['Correlation'] = abs(corrdf['Correlation']) ### Si calcola il valore assoluto delle correlazioni.\n",
    "### In questo modo, i valori positivi e negativi della correlazione vengono trattati allo stesso modo per identificare le variabili altamente correlate.\n",
    "matrix= corrdf.sort_values(by = 'Correlation', ascending = False).head(50) ### Si crea un nuovo dataframe chiamato matrix che contiene le prime 50 righe\n",
    "### del dataframe corrdf, ordinate in base alla correlazione in ordine decrescente.\n",
    "\n",
    "matrix ### matrix rappresenta le coppie di variabili con le correlazioni più alte."
   ]
  },
  {
   "cell_type": "markdown",
   "metadata": {
    "id": "g3IFc6uHs8sc"
   },
   "source": [
    "Il codice esegue una serie di operazioni per identificare le variabili dummy altamente correlate nel dataframe X_train. Vengono calcolate le correlazioni tra le variabili, quindi viene creata una tabella delle correlazioni ordinata per valori assoluti. Infine, viene selezionato un subset di coppie di variabili con le correlazioni più alte (le prime 50) nel dataframe matrix. Questo è utile per individuare e gestire la multicollinearità tra le variabili\n"
   ]
  },
  {
   "cell_type": "markdown",
   "metadata": {
    "id": "c75zKiHhs8sd"
   },
   "source": [
    "### Si memorizza in un elenco gli elementi di 'Var2' (rimuovendo eventuali duplicati attraverso 'set()')\n",
    "unique=list(set(matrix.Var2))\n",
    "print(\"Il numero di elementi unici presenti nell\\'elenco è di\",len(unique))"
   ]
  },
  {
   "cell_type": "markdown",
   "metadata": {
    "id": "kH9x6k30s8sd"
   },
   "source": [
    "### Si rimuovono dal dataframe X_test e X_train le colonne indicate dall'elenco unique. La funzione drop viene utilizzata per rimuovere le colonne in base alle etichette (il parametro columns si usa per indicare le etichette delle colonne che si desidera eliminare)\n",
    "X_test = X_test.drop(columns=unique)\n",
    "X_train = X_train.drop(columns=unique)"
   ]
  },
  {
   "cell_type": "markdown",
   "metadata": {
    "id": "WSwFPDSjs8sd"
   },
   "source": [
    "## Costruzione del modello senza variabili dummy"
   ]
  },
  {
   "cell_type": "code",
   "execution_count": null,
   "metadata": {
    "executionInfo": {
     "elapsed": 10414,
     "status": "aborted",
     "timestamp": 1728749527864,
     "user": {
      "displayName": "Umberto Romagnolo",
      "userId": "14928952592276304637"
     },
     "user_tz": -120
    },
    "id": "W7yJOteKs8sd"
   },
   "outputs": [],
   "source": [
    "hr_log = hr[['Nr Ore','JobInvolvement','PerformanceRating','EnvironmentSatisfaction','JobSatisfaction','WorkLifeBalance','Age',\n",
    "'Attrition','DistanceFromHome','Education','JobLevel','MonthlyIncome_Euro','NumCompaniesWorked','PercentSalaryHike','StockOptionLevel','TotalWorkingYears','TrainingTimesLastYear','YearsAtCompany',\n",
    "'YearsSinceLastPromotion','YearsWithCurrManager']]"
   ]
  },
  {
   "cell_type": "code",
   "execution_count": null,
   "metadata": {
    "executionInfo": {
     "elapsed": 10414,
     "status": "aborted",
     "timestamp": 1728749527864,
     "user": {
      "displayName": "Umberto Romagnolo",
      "userId": "14928952592276304637"
     },
     "user_tz": -120
    },
    "id": "DmgQAIqcs8sd"
   },
   "outputs": [],
   "source": [
    "# Si codifica la variabile risposta in 0 e 1\n",
    "hr_log['Attrition'] = hr_log['Attrition'].replace({'Yes': 1, \"No\": 0})"
   ]
  },
  {
   "cell_type": "code",
   "execution_count": null,
   "metadata": {
    "executionInfo": {
     "elapsed": 10414,
     "status": "aborted",
     "timestamp": 1728749527864,
     "user": {
      "displayName": "Umberto Romagnolo",
      "userId": "14928952592276304637"
     },
     "user_tz": -120
    },
    "id": "MT5OFm3ws8sd"
   },
   "outputs": [],
   "source": [
    "y = hr_log['Attrition']\n",
    "x = hr_log.drop('Attrition',axis=1)"
   ]
  },
  {
   "cell_type": "code",
   "execution_count": null,
   "metadata": {
    "executionInfo": {
     "elapsed": 10414,
     "status": "aborted",
     "timestamp": 1728749527864,
     "user": {
      "displayName": "Umberto Romagnolo",
      "userId": "14928952592276304637"
     },
     "user_tz": -120
    },
    "id": "sJJLMPWCs8sd"
   },
   "outputs": [],
   "source": [
    "from sklearn.model_selection import train_test_split\n",
    "X_train,X_test, y_train, y_test = train_test_split(x,y, test_size = 0.20, random_state=42)"
   ]
  },
  {
   "cell_type": "code",
   "execution_count": null,
   "metadata": {
    "executionInfo": {
     "elapsed": 10414,
     "status": "aborted",
     "timestamp": 1728749527864,
     "user": {
      "displayName": "Umberto Romagnolo",
      "userId": "14928952592276304637"
     },
     "user_tz": -120
    },
    "id": "DlKz-mIrs8sd"
   },
   "outputs": [],
   "source": [
    "from sklearn.preprocessing import StandardScaler\n",
    "Scaler_X = StandardScaler()\n",
    "X_train = Scaler_X.fit_transform(X_train)\n",
    "X_test = Scaler_X.transform(X_test)"
   ]
  },
  {
   "cell_type": "code",
   "execution_count": null,
   "metadata": {
    "executionInfo": {
     "elapsed": 10410,
     "status": "aborted",
     "timestamp": 1728749527864,
     "user": {
      "displayName": "Umberto Romagnolo",
      "userId": "14928952592276304637"
     },
     "user_tz": -120
    },
    "id": "RNKcEhBHs8se"
   },
   "outputs": [],
   "source": [
    "import statsmodels.api as sm\n",
    "\n",
    "# Aggiungi una colonna di costante a X_train\n",
    "X_train = sm.add_constant(X_train)\n",
    "\n",
    "# Crea un modello di regressione logistica\n",
    "glm_model = sm.GLM(y_train, X_train, family=sm.families.Binomial())\n",
    "\n",
    "# Addestramento del modello\n",
    "glm_results = glm_model.fit()\n",
    "\n",
    "# Previsioni sui dati di test\n",
    "X_test = sm.add_constant(X_test)\n",
    "y_pred = glm_results.predict(X_test)\n",
    "\n",
    "# Valutazione delle previsioni\n",
    "y_pred_binary = (y_pred > 0.5).astype(int)  # Converte le previsioni in valori binari\n",
    "accuracy = (y_test == y_pred_binary).mean()\n",
    "print(\"Accuracy:\", accuracy)\n"
   ]
  },
  {
   "cell_type": "code",
   "execution_count": null,
   "metadata": {
    "executionInfo": {
     "elapsed": 10407,
     "status": "aborted",
     "timestamp": 1728749527864,
     "user": {
      "displayName": "Umberto Romagnolo",
      "userId": "14928952592276304637"
     },
     "user_tz": -120
    },
    "id": "bLkn5TfJs8se"
   },
   "outputs": [],
   "source": [
    "from sklearn.metrics import confusion_matrix\n",
    "from tabulate import tabulate\n",
    "# Calcolo della matrice di confusione\n",
    "cm = confusion_matrix(y_test, y_pred_binary)\n",
    "table = tabulate(cm, headers=['Predicted 0', 'Predicted 1'], showindex=['Actual 0', 'Actual 1'], tablefmt='grid')\n",
    "print(\"Confusion Matrix:\")\n",
    "print(table)"
   ]
  },
  {
   "cell_type": "markdown",
   "metadata": {
    "id": "4acp9zrYs8se"
   },
   "source": [
    "L'output sopra riportato rappresenta la matrice di confusione, che fornisce una panoramica delle previsioni effettuate dal modello rispetto alle etichette di classe reali. La matrice di confusione è organizzata in una tabella che mostra il numero di casi per ogni combinazione di previsioni e valori reali delle classi.\n",
    "\n",
    "- La colonna \"Predicted 1\" rappresenta le previsioni per la classe 1 (logoramento) mentre la colonna \"Predicted 0\" rappresenta le previsioni effettuate dal modello per la classe 0 (non logoramento).\n",
    "- La riga \"Actual 1\" rappresenta i valori reali delle osservazioni appartenenti alla classe 1 mentre la riga \"Actual 0\" rappresenta i valori reali delle osservazioni appartenenti alla classe 0.\n",
    "- I numeri all'interno della tabella rappresentano il conteggio dei casi per ogni combinazione di previsioni e valori reali delle classi. Ad esempio, ci sono 747 casi in cui sia la previsione che il valore reale corrispondono alla classe 1, ci sono 8 casi in cui sia la previsione che il valore reale corrispondono alla classe 0, ecc.\n",
    "\n",
    "I casi correttamente classificati sono sulla diagonale principale della matrice. Ad esempio, i 747 casi correttamente classificati come \"Predicted 1\" e \"Actual 01\" rappresentano i veri positivi.\n",
    "Gli elementi al di fuori della diagonale principale rappresentano gli errori di classificazione. Ad esempio, i 4 casi classificati erroneamente come \"Predicted 0\" ma in realtà appartenenti alla classe 1 rappresentano i falsi negativi, mentre i 123 casi classificati erroneamente come \"Predicted 1\" ma in realtà appartenenti alla classe 0 rappresentano i falsi positivi.\n",
    "\n",
    "La matrice di confusione fornisce un'indicazione della capacità del modello di distinguere correttamente tra le classi. Si possono utilizzare i numeri nella matrice per calcolare metriche di valutazione come la precisione, il richiamo e l'F1-score, che offrono una valutazione più completa delle prestazioni del modello."
   ]
  },
  {
   "cell_type": "code",
   "execution_count": null,
   "metadata": {
    "executionInfo": {
     "elapsed": 10404,
     "status": "aborted",
     "timestamp": 1728749527864,
     "user": {
      "displayName": "Umberto Romagnolo",
      "userId": "14928952592276304637"
     },
     "user_tz": -120
    },
    "id": "X-z4Hep1s8se"
   },
   "outputs": [],
   "source": [
    "from sklearn.metrics import classification_report\n",
    "print(classification_report(y_test,y_pred_binary))"
   ]
  },
  {
   "cell_type": "markdown",
   "metadata": {
    "id": "K8TDm9Gls8se"
   },
   "source": [
    "1. Precision (Precisione):\n",
    "\n",
    "    - La precisione per la classe 0 (etichetta negativa) è 0.86 [747/(747+123)], che indica la percentuale di casi classificati correttamente come negativi rispetto al totale dei casi classificati come negativi (colonna Predicted 0 della matrice di confusione).\n",
    "    - La precisione per la classe 1 (etichetta positiva) è 0.67 [8/(8+4)], che indica la percentuale di casi classificati correttamente come positivi rispetto al totale dei casi classificati come positivi (colonna Predicted 1 della matrice di confusione).\n",
    "    \n",
    "    Un valore più alto di Precision indica una maggiore accuratezza nelle previsioni per la classe specifica.\n",
    "\n",
    "2. Recall (Richiamo):\n",
    "\n",
    "    - Il richiamo o sensitività (sensitivity) per la classe 0 è 0.99 [747/(747+4)], che rappresenta la percentuale di casi negativi correttamente identificati rispetto al totale dei casi reali negativi (riga Actual 0 della matrice di confusione).\n",
    "    - Il richiamo o sensitività (sensitivity) per la classe 1 è 0.06 [8/(8+123)], che rappresenta la percentuale di casi positivi correttamente identificati rispetto al totale dei casi reali positivi (riga Actual 1 della matrice di confusione).\n",
    "    \n",
    "    Un valore più alto di Recall (varia da 0 a 1) indica una migliore capacità del modello di identificare correttamente i casi della classe specifica.\n",
    "\n",
    "3. F1-score:\n",
    "\n",
    "    - L'F1-score per la classe 0 è 0.92 [2*(0.86*0.99)/(0.86+0.99)], che rappresenta una misura complessiva dell'accuratezza del modello considerando sia la precisione che il richiamo.\n",
    "    - L'F1-score per la classe 1 è 0.11 [2*(0.67*0.06)/(0.67+0.06)], che rappresenta una misura complessiva dell'accuratezza del modello per la classe positiva.\n",
    "    \n",
    "    L'F1-score è la media armonica della precisione e del richiamo [2(Precision*Recall)/(Precision+Recall)] ed è utile per valutare il bilanciamento tra precisione e richiamo.\n",
    "    un F1-score di 0.11 per la classe 1 indica che il modello ha una bassa precisione e un basso richiamo per quella classe. Ciò suggerisce che il modello fatica a identificare correttamente la maggior parte delle istanze positive (1) e tende a fare molte previsioni errate, sia falsi positivi che falsi negativi, per questa classe.\n",
    "    Sussiste una disparità significativa tra le due classi, con prestazioni migliori per la classe negativa (0) rispetto alla classe positiva (1).\n",
    "    \n",
    "4. Support:\n",
    "\n",
    "    - Il supporto per la classe 0 è 751, che rappresenta il numero totale di casi appartenenti alla classe negativa.\n",
    "    - Il supporto per la classe 1 è 131, che rappresenta il numero totale di casi appartenenti alla classe positiva.\n",
    "    \n",
    "    Il supporto indica la distribuzione dei casi nelle classi di destinazione.\n",
    "\n",
    "5. Accuracy (Accuratezza):\n",
    "\n",
    "    - L'accuratezza complessiva del modello è 0.86, che rappresenta la percentuale di casi classificati correttamente (vero positivo + vero negativo) rispetto al totale dei casi.\n",
    "\n",
    "    L'accuratezza fornisce una misura complessiva delle prestazioni del modello.\n",
    "    un'accuratezza del 0.86 suggerisce che il modello ha una prestazione complessiva abbastanza buona, in quanto classifica correttamente l'86% delle istanze. Tuttavia, è importante considerare il contesto del problema e il bilanciamento delle classi nel set di dati.\n",
    "    Le classi nel set di dati sono sbilanciate: l'accuratezza non è la migliore metrica per valutare le prestazioni del modello in quanto si ha una classe di minoranza molto più piccola rispetto alla classe di maggioranza.\n",
    "\n",
    "6. Macro avg e weighted avg:\n",
    "\n",
    "    - Macro avg rappresenta la media non ponderata delle metriche per tutte le classi.\n",
    "        - Precision: 0.76 indica una media delle precisioni per tutte le classi del 76%. Questo valore indica un buon equilibrio generale tra precisione per le diverse classi.\n",
    "        -   Recall: 0.53 indica una media dei recall per tutte le classi del 53%. Questo valore suggerisce che, in media, il modello sta classificando correttamente solo il 53% delle istanze positive per tutte le classi.\n",
    "        -   F1-score: 0.52 indica una media degli F1-score per tutte le classi del 52%. Questo valore riflette un bilanciamento tra precisione e recall mediamente basso per tutte le classi.\n",
    "\n",
    "    - Weighted avg rappresenta la media ponderata delle metriche per tutte le classi, ponderate in base al supporto di ciascuna classe.\n",
    "        -   Precision: 0.83 indica una media ponderata delle precisioni per tutte le classi dell'83%. Questo valore tiene conto del supporto (numero di istanze) per ogni classe e riflette una precisione complessivamente buona, considerando il peso delle diverse classi.\n",
    "        -   Recall: 0.86 indica una media ponderata dei recall per tutte le classi dell'86%. Questo valore tiene conto del supporto (numero di istanze) per ogni classe e riflette un buon recall complessivo, considerando il peso delle diverse classi.\n",
    "        -   F1-score: 0.80 indica una media ponderata degli F1-score per tutte le classi dell'80%. Questo valore tiene conto del supporto (numero di istanze) per ogni classe e riflette un bilanciamento complessivamente buono tra precisione e recall, considerando il peso delle diverse classi."
   ]
  },
  {
   "cell_type": "markdown",
   "metadata": {
    "id": "hX2wTNx8s8sf"
   },
   "source": [
    "## Costruzione modello con selezione delle variabili esplicative via metodo RFE\" (Recursive Feature Elimination with Cross-Validation)"
   ]
  },
  {
   "cell_type": "markdown",
   "metadata": {
    "id": "ZwVTsZr0s8sf"
   },
   "source": [
    "RFE è un metodo di selezione delle variabili esplicative utilizzato nell'apprendimento automatico per identificare le caratteristice più rilevanti o informative per un determinato problema di predizione.\n",
    "\n",
    "L'eliminazione ricorsiva delle feature (RFE) è un approccio iterativo che viene solitamente utilizzato in combinazione con un modello di apprendimento automatico.\n",
    "Il Recursive Feature Elimination with Cross-Validation è una variante di RFE che utilizza la cross-validazione per valutare le performance del modello durante la selezione delle feature. L'algoritmo RFECV segue i seguenti passaggi:\n",
    "\n",
    "1. Addestra un modello sul set completo di feature.\n",
    "2. Valuta le performance del modello utilizzando la cross-validazione.\n",
    "3. Calcola l'importanza delle feature.\n",
    "4. Elimina le feature meno importanti.\n",
    "5. Ripete i passaggi precedenti sul set ridotto di feature fino a raggiungere il numero desiderato di feature.\n",
    "6. Seleziona il sottoinsieme di feature che ha ottenuto le migliori performance del modello sulla cross-validazione.\n",
    "\n",
    "RFECV utilizza la cross-validazione per valutare le performance del modello su diversi sottoinsiemi di feature e seleziona automaticamente il numero ottimale di feature che massimizzano le prestazioni del modello.\n",
    "\n",
    "RFECV è più robusto e adatto a selezionare il numero ideale di feature per il modello rispetto a RFE.\n",
    "Questo può aiutare a migliorare le prestazioni del modello, ridurre la dimensionalità dei dati e mitigare il rischio di overfitting."
   ]
  },
  {
   "cell_type": "code",
   "execution_count": null,
   "metadata": {
    "executionInfo": {
     "elapsed": 10403,
     "status": "aborted",
     "timestamp": 1728749527864,
     "user": {
      "displayName": "Umberto Romagnolo",
      "userId": "14928952592276304637"
     },
     "user_tz": -120
    },
    "id": "iFqgNTBts8sf"
   },
   "outputs": [],
   "source": [
    "from sklearn.linear_model import LogisticRegression\n",
    "from sklearn.feature_selection import RFECV\n",
    "\n",
    "# Creazione di un oggetto di regressione logistica\n",
    "logreg = LogisticRegression()\n",
    "\n",
    "# Definizione del selettore di feature RFE\n",
    "selector = RFECV(logreg, step=1)\n",
    "\n",
    "# Addestramento del selettore sul set di addestramento\n",
    "selector.fit(X_train_d, y_train_d)\n",
    "\n",
    "# Selezione delle variabili\n",
    "selected_features = X_train_d.columns[selector.support_]\n",
    "\n",
    "# Addestramento del modello di regressione logistica sulle variabili selezionate\n",
    "model_rfecv = sm.GLM(y_train_d, X_train_d[selected_features], family=sm.families.Binomial())\n",
    "fit_rfecv = model_rfecv.fit()\n",
    "\n",
    "# Stampa il riassunto del modello\n",
    "print(fit_rfecv.summary())"
   ]
  },
  {
   "cell_type": "code",
   "execution_count": null,
   "metadata": {
    "executionInfo": {
     "elapsed": 10403,
     "status": "aborted",
     "timestamp": 1728749527864,
     "user": {
      "displayName": "Umberto Romagnolo",
      "userId": "14928952592276304637"
     },
     "user_tz": -120
    },
    "id": "CGnEVcKbs8sg"
   },
   "outputs": [],
   "source": [
    "# Si calcola l'AICc (corrected Akaike Information Criterion) del modello completo per un futuro confronto con modelli alternativi.\n",
    "\n",
    "# Log-likelihood del modello\n",
    "log_likelihood = -1305.2\n",
    "\n",
    "# Numero di parametri nel modello\n",
    "num_parametri = 17+1\n",
    "\n",
    "# Numero di osservazioni nel dataset di addestramento\n",
    "n = len(y_train_d)\n",
    "\n",
    "# Calcolo dell'AIC\n",
    "AIC = -2 * log_likelihood + 2 * num_parametri\n",
    "AICc = AIC + (2 * num_parametri * (num_parametri + 1)) / (n - num_parametri - 1)\n",
    "\n",
    "# Un modello con un valore di AICc più basso è generalmente preferito in quanto indica un migliore equilibrio\n",
    "# tra bontà di adattamento e complessità del modello.\n",
    "\n",
    "AICc"
   ]
  },
  {
   "cell_type": "markdown",
   "metadata": {
    "id": "-sK7QGYbs8sg"
   },
   "source": [
    "## Selezione delle variabili esplicative con il metodo Forward Selection"
   ]
  },
  {
   "cell_type": "markdown",
   "metadata": {
    "id": "oZjiuCO6s8sg"
   },
   "source": [
    "La Forward Selection è una tecnica di selezione delle feature utilizzata per costruire un modello incrementale, aggiungendo iterativamente le feature più rilevanti al modello:\n",
    "\n",
    "1. Si inizia con un modello vuoto che non include alcuna feature.\n",
    "2. Si addestra un modello di machine learning utilizzando ogni singola feature indipendentemente e si valuta le performance del modello (ad esempio, utilizzando una metrica come l'accuratezza, l'AUC, o l'errore quadratico medio).\n",
    "3. Si seleziona la feature che offre la miglior performance del modello (ad esempio, quella con il valore più alto di AUC).\n",
    "4. Si aggiunge questa feature al modello.\n",
    "5. Si ripete il processo selezionando una nuova feature tra le feature rimanenti (quelle non ancora selezionate) e combinandola con le feature già selezionate nel modello.\n",
    "6. Si continua l'iterazione, selezionando iterativamente la feature successiva che offre il miglior miglioramento delle performance del modello.\n",
    "7. Si continua fino a quando si raggiunge un criterio di terminazione predefinito, ad esempio, un numero massimo di feature desiderato o quando non si osserva più un miglioramento significativo nelle performance del modello.\n",
    "\n",
    "La Forward Selection è un processo incrementale che costruisce il modello passo dopo passo, aggiungendo le feature che migliorano maggiormente le performance del modello. È importante notare che la Forward Selection non tiene conto dell'effetto delle feature già selezionate sulle feature che verranno selezionate in seguito. Pertanto, potrebbe non selezionare l'insieme ottimale di feature.\n",
    "\n",
    "È possibile utilizzare criteri di valutazione delle performance come l'AUC, l'accuratezza, l'errore quadratico medio o altre metriche appropriate per determinare quale feature aggiungere al modello in ogni passo.\n",
    "\n",
    "È importante considerare che la Forward Selection può essere computazionalmente costosa, soprattutto se il numero di feature è elevato. Pertanto, possono essere utilizzati metodi di ottimizzazione e algoritmi efficienti per semplificare il processo di selezione delle feature."
   ]
  },
  {
   "cell_type": "code",
   "execution_count": null,
   "metadata": {
    "executionInfo": {
     "elapsed": 10403,
     "status": "aborted",
     "timestamp": 1728749527864,
     "user": {
      "displayName": "Umberto Romagnolo",
      "userId": "14928952592276304637"
     },
     "user_tz": -120
    },
    "id": "CMptx-lIs8sg"
   },
   "outputs": [],
   "source": [
    "def forward_selection(X, y, initial_features=[]):\n",
    "    remaining_features = set(X.columns)\n",
    "    selected_features = list(initial_features)\n",
    "    current_score = 0.0\n",
    "    best_new_score = float('inf')  # Inizializzazione con un valore molto grande\n",
    "\n",
    "    while remaining_features and current_score <= best_new_score:\n",
    "        best_new_score = float('inf')  # Reimpostazione del valore all'inizio del ciclo\n",
    "        best_feature = None\n",
    "\n",
    "        for feature in remaining_features:\n",
    "            model = sm.GLM(y, X[selected_features + [feature]], family=sm.families.Binomial())\n",
    "            fit = model.fit()\n",
    "            aic = fit.aic\n",
    "\n",
    "            if aic < best_new_score:\n",
    "                best_new_score = aic\n",
    "                best_feature = feature\n",
    "\n",
    "        if current_score <= best_new_score:\n",
    "            selected_features.append(best_feature)\n",
    "            remaining_features.remove(best_feature)\n",
    "            current_score = best_new_score\n",
    "        else:\n",
    "            break\n",
    "\n",
    "    model = sm.GLM(y, X[selected_features], family=sm.families.Binomial())\n",
    "    final_fit = model.fit()\n",
    "    return final_fit"
   ]
  },
  {
   "cell_type": "code",
   "execution_count": null,
   "metadata": {
    "executionInfo": {
     "elapsed": 10403,
     "status": "aborted",
     "timestamp": 1728749527864,
     "user": {
      "displayName": "Umberto Romagnolo",
      "userId": "14928952592276304637"
     },
     "user_tz": -120
    },
    "id": "FIlvppQ5s8sg"
   },
   "outputs": [],
   "source": [
    "# Utilizzo della Forward_selection\n",
    "selected_features = forward_selection(X_train, y_train)\n",
    "\n",
    "# Stampa il riassunto del modello finale\n",
    "print(selected_features.summary())"
   ]
  },
  {
   "cell_type": "markdown",
   "metadata": {
    "id": "xs_1EXK1s8sg"
   },
   "source": [
    "## Come calcolare l'AIC"
   ]
  },
  {
   "cell_type": "code",
   "execution_count": null,
   "metadata": {
    "executionInfo": {
     "elapsed": 10403,
     "status": "aborted",
     "timestamp": 1728749527864,
     "user": {
      "displayName": "Umberto Romagnolo",
      "userId": "14928952592276304637"
     },
     "user_tz": -120
    },
    "id": "tawCQPKXs8sg"
   },
   "outputs": [],
   "source": [
    "# Si calcola l'AICc (corrected Akaike Information Criterion) del modello completo per un futuro confronto con modelli alternativi.\n",
    "\n",
    "# Log-likelihood del modello\n",
    "log_likelihood = -1245.2\n",
    "\n",
    "# Numero di parametri nel modello\n",
    "num_parametri = 53+1\n",
    "\n",
    "# Numero di osservazioni nel dataset di addestramento\n",
    "n = len(y_train_d)\n",
    "\n",
    "# Calcolo dell'AIC\n",
    "AIC = -2 * log_likelihood + 2 * num_parametri\n",
    "AICc = AIC + (2 * num_parametri * (num_parametri + 1)) / (n - num_parametri - 1)\n",
    "\n",
    "# Un modello con un valore di AICc più basso è generalmente preferito in quanto indica un migliore equilibrio\n",
    "# tra bontà di adattamento e complessità del modello.\n",
    "\n",
    "AICc"
   ]
  },
  {
   "cell_type": "code",
   "execution_count": null,
   "metadata": {
    "executionInfo": {
     "elapsed": 10403,
     "status": "aborted",
     "timestamp": 1728749527864,
     "user": {
      "displayName": "Umberto Romagnolo",
      "userId": "14928952592276304637"
     },
     "user_tz": -120
    },
    "id": "1OVS_wcos8sh"
   },
   "outputs": [],
   "source": [
    "# Si calcola l'AIC (Akaike Information Criterion) per un futuro confronto con modelli alternativi.\n",
    "\n",
    "# Log-likelihood del modello\n",
    "log_likelihood = -1094.8\n",
    "\n",
    "# Numero di parametri nel modello\n",
    "num_parametri = 53+1\n",
    "\n",
    "# Calcolo dell'AIC\n",
    "AIC = -2 * log_likelihood + 2 * num_parametri\n",
    "\n",
    "# Un modello con un valore di AIC più basso è generalmente preferito in quanto indica un migliore equilibrio\n",
    "# tra bontà di adattamento e complessità del modello.\n",
    "\n",
    "AIC"
   ]
  },
  {
   "cell_type": "markdown",
   "metadata": {
    "id": "AU7wD1-Ps8sh"
   },
   "source": [
    "Per migliorare il modello a livello statistico, si possono considerare alcune azioni:\n",
    "\n",
    "1. Esaminare la significatività delle variabili: Dai valori p, si possono identificare le variabili che potrebbero non essere significative per il tuo modello. Potrebbe essere utile rimuovere queste variabili o considerare trasformazioni delle stesse.\n",
    "\n",
    "2. Esaminare la bontà di adattamento: Dai valori di devianza e Pearson chi2, si può valutare la bontà di adattamento del modello ai dati. Se questi valori sono molto elevati, potrebbe essere necessario considerare modelli alternativi o includere altre variabili esplicative per migliorare la precisione del modello.\n",
    "\n",
    "3. Considerare l'aggiunta di altre variabili: Potresti esaminare se l'aggiunta di altre variabili esplicative potrebbe migliorare la capacità predittiva del tuo modello. Tuttavia, è importante valutare attentamente le variabili aggiuntive per garantire che siano pertinenti e non causino problemi come multicollinearità.\n",
    "\n",
    "4. Valutare altre misure di bontà di adattamento: Oltre al Pseudo R-quadrato, si possono considerare altre misure di bontà di adattamento, come l'AIC (Akaike Information Criterion) o il BIC (Bayesian Information Criterion), per confrontare modelli alternativi e selezionare il migliore."
   ]
  },
  {
   "cell_type": "markdown",
   "metadata": {
    "id": "Gj6JU24Cs8sh"
   },
   "source": [
    "## Costruzione del modello completo attraverso la K-Fold Cross-Validation"
   ]
  },
  {
   "cell_type": "markdown",
   "metadata": {
    "id": "cR5mQv8bs8sh"
   },
   "source": [
    "La K-Fold cross-validation è una tecnica che suddivide il dataset in K parti uguali (fold). Il modello viene addestrato su K-1 fold e viene valutato sul fold rimanente. Questa operazione viene ripetuta K volte, utilizzando ogni volta un fold diverso come set di test e gli altri fold combinati come set di allenamento. Alla fine, vengono calcolate le prestazioni del modello su tutti i fold di test e ne viene fatta la media per ottenere una stima più affidabile delle prestazioni generali del modello.\n",
    "\n",
    "K-Fold cross-validation è spesso utilizzata quando si dispone di un dataset relativamente piccolo o quando si desidera avere una stima più accurata delle prestazioni del modello rispetto a una singola divisione tra training e test set."
   ]
  },
  {
   "cell_type": "code",
   "execution_count": null,
   "metadata": {
    "executionInfo": {
     "elapsed": 10403,
     "status": "aborted",
     "timestamp": 1728749527864,
     "user": {
      "displayName": "Umberto Romagnolo",
      "userId": "14928952592276304637"
     },
     "user_tz": -120
    },
    "id": "mLVlSnHks8sh"
   },
   "outputs": [],
   "source": [
    "hr_cv = hr_logit_dummy.copy()"
   ]
  },
  {
   "cell_type": "code",
   "execution_count": null,
   "metadata": {
    "executionInfo": {
     "elapsed": 10402,
     "status": "aborted",
     "timestamp": 1728749527864,
     "user": {
      "displayName": "Umberto Romagnolo",
      "userId": "14928952592276304637"
     },
     "user_tz": -120
    },
    "id": "KLJxPfJKs8sh"
   },
   "outputs": [],
   "source": [
    "# Si procede con la normalizzazione delle caratteristiche\n",
    "from sklearn.preprocessing import StandardScaler\n",
    "scaler = StandardScaler()\n",
    "\n",
    "hr_cv[[ 'MonthlyIncome_Euro', 'NumCompaniesWorked', 'PercentSalaryHike',\n",
    "       'StockOptionLevel', 'TotalWorkingYears', 'TrainingTimesLastYear',\n",
    "       'YearsAtCompany', 'YearsSinceLastPromotion', 'YearsWithCurrManager',\n",
    "           'DistanceFromHome','Age','Nr Ore']] = scaler.fit_transform(hr_cv[[ 'MonthlyIncome_Euro', 'NumCompaniesWorked', 'PercentSalaryHike',\n",
    "       'StockOptionLevel', 'TotalWorkingYears', 'TrainingTimesLastYear',\n",
    "       'YearsAtCompany', 'YearsSinceLastPromotion', 'YearsWithCurrManager',\n",
    "           'DistanceFromHome','Age','Nr Ore']])"
   ]
  },
  {
   "cell_type": "markdown",
   "metadata": {
    "id": "tsyMAmeMs8sh"
   },
   "source": [
    "La normalizzazione viene eseguita nel seguente modo:\n",
    "\n",
    "- Crea un'istanza della classe StandardScaler assegnandola alla variabile scaler.\n",
    "- Applica la normalizzazione alle colonne specificate del dataframe hr_cv utilizzando il metodo fit_transform() della classe StandardScaler.\n",
    "- Il risultato della normalizzazione viene assegnato di nuovo alle stesse colonne nel dataframe hr_cv.\n",
    "\n",
    "La normalizzazione delle features rende i dati comparabili tra loro. Utilizzando lo StandardScaler, le colonne specificate vengono trasformate in modo tale che abbiano una media pari a 0 e una deviazione standard pari a 1. Questo aiuta a evitare che le variabili con valori più grandi abbiano un'influenza sproporzionata sui modelli."
   ]
  },
  {
   "cell_type": "code",
   "execution_count": null,
   "metadata": {
    "executionInfo": {
     "elapsed": 10402,
     "status": "aborted",
     "timestamp": 1728749527864,
     "user": {
      "displayName": "Umberto Romagnolo",
      "userId": "14928952592276304637"
     },
     "user_tz": -120
    },
    "id": "fTb8AUyLs8sh"
   },
   "outputs": [],
   "source": [
    "# Si aggiunge nel set di addestramento la costante per l'intercetta\n",
    "hr_cv = sm.add_constant(hr_cv)"
   ]
  },
  {
   "cell_type": "code",
   "execution_count": null,
   "metadata": {
    "executionInfo": {
     "elapsed": 10402,
     "status": "aborted",
     "timestamp": 1728749527864,
     "user": {
      "displayName": "Umberto Romagnolo",
      "userId": "14928952592276304637"
     },
     "user_tz": -120
    },
    "id": "LEmTTYhDs8si"
   },
   "outputs": [],
   "source": [
    "# Si rinominano alcune variabili che hanno spazi o caratteri speciali nel nome\n",
    "hr_cv.rename(columns={\"Department_Research & Development\": \"Department_Research_and_Development\"}, inplace=True)\n",
    "hr_cv.rename(columns={\"JobInvolvement_Very High\": \"JobInvolvement_VeryHigh\"}, inplace=True)\n",
    "hr_cv.rename(columns={\"EnvironmentSatisfaction_Very High\": \"EnvironmentSatisfaction_VeryHigh\"}, inplace=True)\n",
    "hr_cv.rename(columns={\"JobSatisfaction_Very High\": \"JobSatisfaction_VeryHigh\"}, inplace=True)\n",
    "hr_cv.rename(columns={\"Education_Below College\": \"Education_BelowCollege\"}, inplace=True)\n",
    "hr_cv.rename(columns={\"EducationField_Life Sciences\": \"EducationField_LifeSciences\"}, inplace=True)\n",
    "hr_cv.rename(columns={\"EducationField_Technical Degree\": \"EducationField_TechnicalDegree\"}, inplace=True)\n",
    "hr_cv.rename(columns={\"JobRole_Human Resources\": \"JobRole_HumanResources\"}, inplace=True)\n",
    "hr_cv.rename(columns={\"JobRole_Laboratory Technician\": \"JobRole_LaboratoryTechnician\"}, inplace=True)\n",
    "hr_cv.rename(columns={\"JobRole_Manufacturing Director\": \"JobRole_ManufacturingDirector\"}, inplace=True)\n",
    "hr_cv.rename(columns={\"JobRole_Research Director\": \"JobRole_ResearchDirector\"}, inplace=True)\n",
    "hr_cv.rename(columns={\"JobRole_Research Scientist\": \"JobRole_ResearchScientist\"}, inplace=True)\n",
    "hr_cv.rename(columns={\"JobRole_Sales Executive\": \"JobRole_SalesExecutive\"}, inplace=True)\n",
    "hr_cv.rename(columns={\"JobRole_Sales Representative\": \"JobRole_SalesRepresentative\"}, inplace=True)\n",
    "hr_cv.rename(columns={\"Nr Ore\": \"Nr_Ore\"}, inplace=True)"
   ]
  },
  {
   "cell_type": "markdown",
   "metadata": {
    "id": "7ZQ7u5lHs8si"
   },
   "source": [
    "Per una scelta ottimale del valore K per la cross-validation si traccia la curva di validazione, eseguendo la K-Fold cross-validation per diversi valori di K"
   ]
  },
  {
   "cell_type": "code",
   "execution_count": null,
   "metadata": {
    "executionInfo": {
     "elapsed": 10402,
     "status": "aborted",
     "timestamp": 1728749527864,
     "user": {
      "displayName": "Umberto Romagnolo",
      "userId": "14928952592276304637"
     },
     "user_tz": -120
    },
    "id": "iuTmv2l0s8si"
   },
   "outputs": [],
   "source": [
    "from sklearn.model_selection import KFold\n",
    "from sklearn.metrics import accuracy_score\n",
    "\n",
    "# si definisce una lista di valori di K per cui si desidera eseguire la K-Fold cross-validation\n",
    "K_values = [2, 3, 4, 5, 6, 7, 8, 9, 10]  # Si può modificare questa lista con i valori di K che si desidera testare\n",
    "\n",
    "# Si esegue la K-Fold cross-validation per ciascun valore di K e si calcola l'accuratezza media su tutti i fold.\n",
    "mean_cv_scores = []\n",
    "\n",
    "mean_cv_scores = []\n",
    "std_cv_scores = []\n",
    "\n",
    "for K in K_values:\n",
    "    kf = KFold(n_splits=K, shuffle=True, random_state=42)\n",
    "    cv_scores = []\n",
    "    for train_index, test_index in kf.split(hr_cv):\n",
    "        train_data = hr_cv.iloc[train_index]\n",
    "        test_data = hr_cv.iloc[test_index]\n",
    "\n",
    "        # Si addestra il modello sui dati di training.\n",
    "        log_model = sm.GLM.from_formula(formula, data=train_data, family=sm.families.Binomial())\n",
    "        fit_model = log_model.fit()\n",
    "\n",
    "        # Si effettuano le predizioni sul fold di test.\n",
    "        y_pred = (fit_model.predict(test_data) > 0.5).astype(int)\n",
    "\n",
    "        # Si calcola l'accuratezza sul fold di test e la si salva nella lista dei punteggi.\n",
    "        acc = accuracy_score(y_true=test_data['Attrition'], y_pred=y_pred)\n",
    "        cv_scores.append(acc)\n",
    "\n",
    "    # Si calcola l'accuratezza media e la deviazione standard e si aggiungono alle rispettive liste.\n",
    "    mean_acc = np.mean(cv_scores)\n",
    "    mean_cv_scores.append(mean_acc)\n",
    "    std_acc = np.std(cv_scores)\n",
    "    std_cv_scores.append(std_acc)"
   ]
  },
  {
   "cell_type": "code",
   "execution_count": null,
   "metadata": {
    "executionInfo": {
     "elapsed": 10402,
     "status": "aborted",
     "timestamp": 1728749527864,
     "user": {
      "displayName": "Umberto Romagnolo",
      "userId": "14928952592276304637"
     },
     "user_tz": -120
    },
    "id": "YdwpSqJFs8si"
   },
   "outputs": [],
   "source": [
    "# Si traccia la curva di validazione solo se ci sono valori in std_cv_scores\n",
    "if len(std_cv_scores) > 0:\n",
    "    plt.errorbar(K_values, mean_cv_scores, yerr=std_cv_scores, marker='o', linestyle='-', color='b')\n",
    "    plt.xlabel('K (Numero di Fold)')\n",
    "    plt.ylabel('Average Accuracy')\n",
    "    plt.title('Curva di validazione')\n",
    "    plt.show()\n",
    "else:\n",
    "    print(\"Impossibile tracciare la curva di validazione: assicurati di avere abbastanza campioni per la K-Fold cross-validation.\")"
   ]
  },
  {
   "cell_type": "markdown",
   "metadata": {
    "id": "HnI3xfDqs8si"
   },
   "source": [
    "L'accuratezza media è rappresentata dal punto blu, mentre le barre di errore indicano la deviazione standard dell'accuratezza. La Curva di validazione aiuta a identificare il valore di K che produce il miglior compromesso tra bias e varianza, e quindi il valore di K ottimale per la K-Fold cross-validation.\n",
    "\n",
    "Il fatto che l'accuratezza media non aumenti significativamente all'aumentare del numero di fold (valori di K) suggerisce che il modello non generalizza bene.\n",
    "La deviazione standard offre un'idea della variabilità delle prestazioni del modello su diversi fold. Un valore più alto di deviazione standard indica una maggiore variabilità e incertezza nelle prestazioni del modello su diversi fold. Al contrario, una deviazione standard più bassa suggerisce maggiore coerenza nelle prestazioni del modello.\n",
    "\n",
    "In generale, si cerca di ottenere un equilibrio tra accuratezza media elevata e deviazione standard bassa. Se si ottiene un'alta accuratezza media e una bassa deviazione standard per un valore specifico di K, potrebbe essere una buona scelta per la K-Fold cross-validation del modello.\n",
    "\n",
    "Nel caso in esame un buon compromesso sembra essere K = 3"
   ]
  },
  {
   "cell_type": "code",
   "execution_count": null,
   "metadata": {
    "executionInfo": {
     "elapsed": 10402,
     "status": "aborted",
     "timestamp": 1728749527864,
     "user": {
      "displayName": "Umberto Romagnolo",
      "userId": "14928952592276304637"
     },
     "user_tz": -120
    },
    "id": "DHKaqvVls8si"
   },
   "outputs": [],
   "source": [
    "from sklearn.model_selection import KFold\n",
    "from sklearn.metrics import accuracy_score\n",
    "import statsmodels.api as sm\n",
    "import numpy as np\n",
    "\n",
    "# Definizione della formula\n",
    "formula = 'Attrition ~ const + Nr_Ore + Age + DistanceFromHome + MonthlyIncome_Euro + NumCompaniesWorked + PercentSalaryHike + StockOptionLevel + TotalWorkingYears + TrainingTimesLastYear + YearsAtCompany + YearsSinceLastPromotion + YearsWithCurrManager + JobInvolvement_Low + JobInvolvement_Medium + JobInvolvement_VeryHigh + PerformanceRating_Outstanding + EnvironmentSatisfaction_Low + EnvironmentSatisfaction_Medium + EnvironmentSatisfaction_VeryHigh + JobSatisfaction_Low + JobSatisfaction_Medium + JobSatisfaction_VeryHigh + WorkLifeBalance_Best + WorkLifeBalance_Better + WorkLifeBalance_Good + BusinessTravel_Travel_Frequently + BusinessTravel_Travel_Rarely + Department_Research_and_Development + Department_Sales + Education_BelowCollege + Education_College + Education_Doctor + Education_Master + EducationField_LifeSciences + EducationField_Marketing + EducationField_Medical + EducationField_Other + EducationField_TechnicalDegree + Gender_Male + JobLevel_2 + JobLevel_3 + JobLevel_4 + JobLevel_5 + JobRole_HumanResources + JobRole_LaboratoryTechnician + JobRole_Manager + JobRole_ManufacturingDirector + JobRole_ResearchDirector + JobRole_ResearchScientist + JobRole_SalesExecutive + JobRole_SalesRepresentative + MaritalStatus_Married + MaritalStatus_Single'\n",
    "\n",
    "# Si definisce la strategia di cross-validation (K-Fold con K=3)\n",
    "kf = KFold(n_splits=3, shuffle=True, random_state=42)\n",
    "\n",
    "# Si inizializza una lista per memorizzare le accuratezze della cross-validation\n",
    "cv_accuracy_scores = []\n",
    "\n",
    "# Si effettua la cross-validation manualmente\n",
    "for train_index, test_index in kf.split(hr_cv):\n",
    "    train_data = hr_cv.iloc[train_index]\n",
    "    test_data = hr_cv.iloc[test_index]\n",
    "\n",
    "    # Si crea il modello di regressione logistica con la formula corretta.\n",
    "    CV_log_model = sm.GLM.from_formula(formula, data=train_data, family=sm.families.Binomial())\n",
    "\n",
    "    # Si addestra il modello sui dati di training.\n",
    "    fit_model_cv = CV_log_model.fit()\n",
    "\n",
    "    # Si effettuano le predizioni sul fold di test.\n",
    "    y_pred = (fit_model_cv.predict(test_data) > 0.5).astype(int)\n",
    "\n",
    "    # Si calcola l'accuratezza sul fold di test e la si aggiunge alla lista.\n",
    "    acc = accuracy_score(y_true=test_data['Attrition'], y_pred=y_pred)\n",
    "    cv_accuracy_scores.append(acc)\n",
    "\n",
    "# Si calcola l'accuratezza media e la deviazione standard dell'accuratezza\n",
    "mean_cv_accuracy = np.mean(cv_accuracy_scores)\n",
    "std_cv_accuracy = np.std(cv_accuracy_scores)\n",
    "\n",
    "# Si visualizzano i risultati della cross-validation\n",
    "print(\"Cross-Validation Scores:\", cv_accuracy_scores)\n",
    "print(\"Mean CV Accuracy:\", mean_cv_accuracy)\n",
    "print(\"Standard Deviation of CV Accuracy:\", std_cv_accuracy)"
   ]
  },
  {
   "cell_type": "markdown",
   "metadata": {
    "id": "jYdnBmiRs8si"
   },
   "source": [
    "I risultati della cross-validation che si sono ottenuti possono essere interpretati come segue:\n",
    "\n",
    "* Cross-Validation Scores: è una lista dei punteggi di accuratezza ottenuti su ciascun fold durante la cross-validation. Si è effettuato una cross-validation a 3 fold, quindi ci sono 3 punteggi di accuratezza. I valori [0.8523809523809524, 0.8421768707482993, 0.8461538461538461] corrispondono alle accuratezze ottenute per i tre fold.\n",
    "\n",
    "* Mean CV Accuracy: è il punteggio medio di accuratezza ottenuto su tutti i fold durante la cross-validation. In questo caso, l'accuratezza media è di circa 0.8469, che indica che in media il modello ha previsto correttamente l'attrition di circa l'84.69% dei dipendenti nei dati di test durante la cross-validation.\n",
    "\n",
    "* Standard Deviation of CV Accuracy: Questo è il valore della deviazione standard dell'accuratezza ottenuto su tutti i fold durante la cross-validation. La deviazione standard misura la variabilità dei punteggi di accuratezza tra i fold. In questo caso, la deviazione standard è di circa 0.0042, che indica che i punteggi di accuratezza nei fold hanno una bassa variabilità tra loro, il che è un buon segno di stabilità delle previsioni del modello.\n",
    "\n",
    "In sintesi, si è ottenuto un'accuratezza media di circa l'84.69% durante la cross-validation, e i punteggi di accuratezza nei fold sono relativamente vicini tra loro, suggerendo che il modello ha una buona stabilità e coerenza nelle previsioni. Tuttavia, l'accuratezza può variare leggermente tra i fold, come indicato dalla deviazione standard."
   ]
  }
 ],
 "metadata": {
  "colab": {
   "provenance": []
  },
  "kernelspec": {
   "display_name": "Python 3",
   "name": "python3"
  },
  "language_info": {
   "codemirror_mode": {
    "name": "ipython",
    "version": 3
   },
   "file_extension": ".py",
   "mimetype": "text/x-python",
   "name": "python",
   "nbconvert_exporter": "python",
   "pygments_lexer": "ipython3",
   "version": "3.11.9"
  }
 },
 "nbformat": 4,
 "nbformat_minor": 0
}
